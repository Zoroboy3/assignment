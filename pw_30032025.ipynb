{
 "cells": [
  {
   "cell_type": "markdown",
   "id": "974a197f-4097-407e-bd39-4879111d0885",
   "metadata": {},
   "source": [
    "print()"
   ]
  },
  {
   "cell_type": "code",
   "execution_count": null,
   "id": "3e1b2477-058d-4fa0-a2d3-acf5cd1eacf4",
   "metadata": {},
   "outputs": [],
   "source": []
  },
  {
   "cell_type": "code",
   "execution_count": 1,
   "id": "cd714890-c091-4dc0-991d-9e00e8b5c664",
   "metadata": {},
   "outputs": [
    {
     "name": "stdout",
     "output_type": "stream",
     "text": [
      "123456789\n"
     ]
    }
   ],
   "source": [
    "print(123456789)"
   ]
  },
  {
   "cell_type": "code",
   "execution_count": 2,
   "id": "d453895f-3760-44cf-8088-33ab9330cd3b",
   "metadata": {},
   "outputs": [
    {
     "name": "stdout",
     "output_type": "stream",
     "text": [
      "This is my first python lecture\n"
     ]
    }
   ],
   "source": [
    "print(\"This is my first python lecture\")"
   ]
  },
  {
   "cell_type": "code",
   "execution_count": 3,
   "id": "d77a3ee6-c498-4b29-ad34-c9d0291fcfb3",
   "metadata": {},
   "outputs": [
    {
     "name": "stdout",
     "output_type": "stream",
     "text": [
      "this is my first python lecture\n"
     ]
    }
   ],
   "source": [
    "print('this is my first python lecture')"
   ]
  },
  {
   "cell_type": "code",
   "execution_count": 4,
   "id": "74b02598-b5fc-420c-a81b-e7d8d80dd433",
   "metadata": {},
   "outputs": [
    {
     "data": {
      "text/plain": [
       "123455679"
      ]
     },
     "execution_count": 4,
     "metadata": {},
     "output_type": "execute_result"
    }
   ],
   "source": [
    "123455679"
   ]
  },
  {
   "cell_type": "code",
   "execution_count": 5,
   "id": "187f2428-7361-47ea-93f5-16c99d650a8f",
   "metadata": {},
   "outputs": [
    {
     "data": {
      "text/plain": [
       "'this is my python lecture'"
      ]
     },
     "execution_count": 5,
     "metadata": {},
     "output_type": "execute_result"
    }
   ],
   "source": [
    "\"this is my python lecture\""
   ]
  },
  {
   "cell_type": "code",
   "execution_count": 6,
   "id": "0e299858-f3d0-4ccd-804f-cd018243c621",
   "metadata": {},
   "outputs": [
    {
     "data": {
      "text/plain": [
       "'hello python'"
      ]
     },
     "execution_count": 6,
     "metadata": {},
     "output_type": "execute_result"
    }
   ],
   "source": [
    "\"hello world\"\n",
    "\"hello python\""
   ]
  },
  {
   "cell_type": "code",
   "execution_count": 7,
   "id": "22004460-f85a-4bbf-a2ff-60fff975432c",
   "metadata": {},
   "outputs": [
    {
     "name": "stdout",
     "output_type": "stream",
     "text": [
      "hello world\n",
      "hello python\n"
     ]
    }
   ],
   "source": [
    "print(\"hello world\")\n",
    "print(\"hello python\")"
   ]
  },
  {
   "cell_type": "code",
   "execution_count": 5,
   "id": "5b5e81ed-587e-4185-b98a-f64a2f73c0a0",
   "metadata": {},
   "outputs": [
    {
     "name": "stdout",
     "output_type": "stream",
     "text": [
      "pthon  -java  -csharp\n"
     ]
    }
   ],
   "source": [
    "print(\"pthon\",\"java\",\"csharp\", sep='  -')"
   ]
  },
  {
   "cell_type": "markdown",
   "id": "d0a6fc53-0aa6-4be7-a7a4-36282da78763",
   "metadata": {},
   "source": [
    "Input"
   ]
  },
  {
   "cell_type": "code",
   "execution_count": 16,
   "id": "241d9f99-3d8f-4c63-89e3-3937dfcfd8fb",
   "metadata": {},
   "outputs": [
    {
     "name": "stdin",
     "output_type": "stream",
     "text": [
      "enter your name please Nishath\n"
     ]
    },
    {
     "data": {
      "text/plain": [
       "'Nishath'"
      ]
     },
     "execution_count": 16,
     "metadata": {},
     "output_type": "execute_result"
    }
   ],
   "source": [
    "input(\"enter your name please\")"
   ]
  },
  {
   "cell_type": "code",
   "execution_count": 17,
   "id": "eb0f2deb-a87a-42e5-9871-e68f32a46bae",
   "metadata": {},
   "outputs": [
    {
     "name": "stdin",
     "output_type": "stream",
     "text": [
      "enter your hometown please:  Tirupur\n"
     ]
    }
   ],
   "source": [
    "x = input(\"enter your hometown please: \")"
   ]
  },
  {
   "cell_type": "code",
   "execution_count": 18,
   "id": "e6916363-c600-42d3-a530-c8cb4b9d013f",
   "metadata": {},
   "outputs": [
    {
     "name": "stdout",
     "output_type": "stream",
     "text": [
      "Tirupur\n"
     ]
    }
   ],
   "source": [
    "print(x)"
   ]
  },
  {
   "cell_type": "code",
   "execution_count": 25,
   "id": "fca32c86-ec68-4af9-8bb8-0c327f87eddd",
   "metadata": {},
   "outputs": [
    {
     "name": "stdin",
     "output_type": "stream",
     "text": [
      " enter your phone number :  808990809\n"
     ]
    }
   ],
   "source": [
    "y = int(input(\" enter your phone number : \"))"
   ]
  },
  {
   "cell_type": "code",
   "execution_count": 20,
   "id": "cdfcae5b-07ae-420e-a523-565bb178c722",
   "metadata": {},
   "outputs": [
    {
     "name": "stdout",
     "output_type": "stream",
     "text": [
      "000000000\n"
     ]
    }
   ],
   "source": [
    "print(y)"
   ]
  },
  {
   "cell_type": "code",
   "execution_count": 21,
   "id": "4b0070e8-7644-40d5-a6a4-db6eef465e60",
   "metadata": {},
   "outputs": [
    {
     "data": {
      "text/plain": [
       "str"
      ]
     },
     "execution_count": 21,
     "metadata": {},
     "output_type": "execute_result"
    }
   ],
   "source": [
    "type(x)"
   ]
  },
  {
   "cell_type": "code",
   "execution_count": 22,
   "id": "80dbf66a-bab1-45c4-bd85-547fb8ed3b09",
   "metadata": {},
   "outputs": [
    {
     "data": {
      "text/plain": [
       "'Tirupur'"
      ]
     },
     "execution_count": 22,
     "metadata": {},
     "output_type": "execute_result"
    }
   ],
   "source": [
    "x"
   ]
  },
  {
   "cell_type": "code",
   "execution_count": 26,
   "id": "97270dc8-46fc-4108-a7e3-7e72cd2e3368",
   "metadata": {},
   "outputs": [
    {
     "data": {
      "text/plain": [
       "808990809"
      ]
     },
     "execution_count": 26,
     "metadata": {},
     "output_type": "execute_result"
    }
   ],
   "source": [
    "y"
   ]
  },
  {
   "cell_type": "code",
   "execution_count": 29,
   "id": "cebffae0-b675-47b2-b53c-fbf901aba504",
   "metadata": {},
   "outputs": [
    {
     "data": {
      "text/plain": [
       "int"
      ]
     },
     "execution_count": 29,
     "metadata": {},
     "output_type": "execute_result"
    }
   ],
   "source": [
    "type(y) #to check the type of a variable - str, int, float, bool etc"
   ]
  },
  {
   "cell_type": "markdown",
   "id": "c63beb40-6374-47f4-9c53-2f75bc15bad3",
   "metadata": {},
   "source": [
    "comments"
   ]
  },
  {
   "cell_type": "code",
   "execution_count": 28,
   "id": "b2c5223e-5940-4c51-a90b-25f5e1550cf6",
   "metadata": {},
   "outputs": [
    {
     "name": "stdout",
     "output_type": "stream",
     "text": [
      "Tirupur\n"
     ]
    }
   ],
   "source": [
    "print(x) #to display the value present in x on screen"
   ]
  },
  {
   "cell_type": "code",
   "execution_count": 30,
   "id": "0bde814a-e04f-4095-aab7-b477dad547c6",
   "metadata": {},
   "outputs": [
    {
     "data": {
      "text/plain": [
       "'\\nthis is my first python lecture\\non 30th march 2025\\n'"
      ]
     },
     "execution_count": 30,
     "metadata": {},
     "output_type": "execute_result"
    }
   ],
   "source": [
    "'''\n",
    "this is my first python lecture\n",
    "on 30th march 2025\n",
    "'''"
   ]
  },
  {
   "cell_type": "markdown",
   "id": "7479121e-e725-4880-9929-be3e3c7df6b1",
   "metadata": {},
   "source": [
    "variables"
   ]
  },
  {
   "cell_type": "markdown",
   "id": "44116031-4d50-433a-a4aa-540be433e376",
   "metadata": {},
   "source": [
    "assignment operator -="
   ]
  },
  {
   "cell_type": "code",
   "execution_count": null,
   "id": "f00cd007-fd9d-41aa-b0d7-cab8789a5ad2",
   "metadata": {},
   "outputs": [],
   "source": [
    "a = 49"
   ]
  },
  {
   "cell_type": "code",
   "execution_count": 33,
   "id": "be6bc94e-6647-45d2-8d89-765457ec63f0",
   "metadata": {},
   "outputs": [],
   "source": [
    "a = 83"
   ]
  },
  {
   "cell_type": "code",
   "execution_count": 34,
   "id": "35f87d6e-7ec0-46d3-aeb0-61ee4d271ae6",
   "metadata": {},
   "outputs": [
    {
     "name": "stdout",
     "output_type": "stream",
     "text": [
      "83\n"
     ]
    }
   ],
   "source": [
    "print(a)"
   ]
  },
  {
   "cell_type": "code",
   "execution_count": 36,
   "id": "8211d60f-0363-4f6a-bbde-57b447320ef9",
   "metadata": {},
   "outputs": [],
   "source": [
    "b = \"this is my first lecture\""
   ]
  },
  {
   "cell_type": "code",
   "execution_count": 40,
   "id": "44d2fcb5-756d-4ea8-8476-e80736d735a8",
   "metadata": {},
   "outputs": [
    {
     "name": "stdout",
     "output_type": "stream",
     "text": [
      "this is my first lecture\n"
     ]
    }
   ],
   "source": [
    "print(b)"
   ]
  },
  {
   "cell_type": "code",
   "execution_count": null,
   "id": "fc46bc30-6d93-498b-bd9c-e120c2b8927b",
   "metadata": {},
   "outputs": [],
   "source": [
    "b = \"this is my first lectrure\""
   ]
  },
  {
   "cell_type": "code",
   "execution_count": 38,
   "id": "cba91222-93fe-4909-b5bc-8baa10f847b1",
   "metadata": {},
   "outputs": [
    {
     "name": "stdout",
     "output_type": "stream",
     "text": [
      "this is my first lecture\n"
     ]
    }
   ],
   "source": [
    "print(b)"
   ]
  },
  {
   "cell_type": "code",
   "execution_count": 39,
   "id": "52b34749-f96e-429e-a484-fe575dc88076",
   "metadata": {},
   "outputs": [
    {
     "data": {
      "text/plain": [
       "'Tirupur'"
      ]
     },
     "execution_count": 39,
     "metadata": {},
     "output_type": "execute_result"
    }
   ],
   "source": [
    "x"
   ]
  },
  {
   "cell_type": "code",
   "execution_count": 41,
   "id": "9749e197-5488-4601-b20e-6c79e60d8d1f",
   "metadata": {},
   "outputs": [],
   "source": [
    "x = 83"
   ]
  },
  {
   "cell_type": "code",
   "execution_count": 42,
   "id": "daa76a1c-02c4-49f1-8013-da14bdce4a47",
   "metadata": {},
   "outputs": [
    {
     "name": "stdout",
     "output_type": "stream",
     "text": [
      "83\n"
     ]
    }
   ],
   "source": [
    "print(x)"
   ]
  },
  {
   "cell_type": "markdown",
   "id": "5735256a-ca1f-419e-9b1a-d1dfb2ed3047",
   "metadata": {},
   "source": [
    "rules to write a variable"
   ]
  },
  {
   "cell_type": "code",
   "execution_count": null,
   "id": "bc06031c-0b8c-4642-884e-b69e0c2c8c2d",
   "metadata": {},
   "outputs": [],
   "source": [
    "#1. Never start your variable name with a number."
   ]
  },
  {
   "cell_type": "code",
   "execution_count": 45,
   "id": "777bf456-070b-4c73-a808-6a36a24d90b7",
   "metadata": {},
   "outputs": [],
   "source": [
    "_x = 39"
   ]
  },
  {
   "cell_type": "code",
   "execution_count": 46,
   "id": "ce86a77e-a4b7-400a-b6cf-a76e6c52a0b7",
   "metadata": {},
   "outputs": [
    {
     "name": "stdout",
     "output_type": "stream",
     "text": [
      "39\n"
     ]
    }
   ],
   "source": [
    "print(_x)"
   ]
  },
  {
   "cell_type": "code",
   "execution_count": null,
   "id": "10f6d14d-e1b4-4f42-a02c-0aa36e1d977f",
   "metadata": {},
   "outputs": [],
   "source": [
    "#2. never start or include any special char in a var name."
   ]
  },
  {
   "cell_type": "code",
   "execution_count": 52,
   "id": "225cfff5-b82b-49c6-874b-a756619a9f16",
   "metadata": {},
   "outputs": [],
   "source": [
    "x_2 = 43"
   ]
  },
  {
   "cell_type": "code",
   "execution_count": 49,
   "id": "567e4ccb-773c-49be-afde-4c5726f3cb6d",
   "metadata": {},
   "outputs": [],
   "source": [
    "x_2 = 93"
   ]
  },
  {
   "cell_type": "markdown",
   "id": "e665d269-a1f3-4363-8e83-90c4ac86fbaa",
   "metadata": {},
   "source": [
    "# variables are case sensitive"
   ]
  },
  {
   "cell_type": "markdown",
   "id": "95fd325d-a573-4691-892e-cef286de4ab2",
   "metadata": {},
   "source": [
    "small x not same with X"
   ]
  },
  {
   "cell_type": "code",
   "execution_count": 50,
   "id": "36db550c-b947-4f86-9419-1d0911d212b6",
   "metadata": {},
   "outputs": [
    {
     "data": {
      "text/plain": [
       "83"
      ]
     },
     "execution_count": 50,
     "metadata": {},
     "output_type": "execute_result"
    }
   ],
   "source": [
    "x"
   ]
  },
  {
   "cell_type": "code",
   "execution_count": null,
   "id": "3a1802c2-9cc4-4f71-a85b-4c622e406c91",
   "metadata": {},
   "outputs": [],
   "source": [
    "# keywords cannot be used as names for vars\n",
    "# print and input are not a vars. it is a function\n",
    "# how to find a key word\n",
    "# keyword look like a bold green ( in, myvar,.....)"
   ]
  },
  {
   "cell_type": "code",
   "execution_count": null,
   "id": "94722c2b-6a65-4dab-8716-d17e800732ab",
   "metadata": {},
   "outputs": [],
   "source": [
    "input = 5"
   ]
  },
  {
   "cell_type": "code",
   "execution_count": 1,
   "id": "4126124f-9d1b-4a34-baee-e6c2720cb34a",
   "metadata": {},
   "outputs": [
    {
     "ename": "SyntaxError",
     "evalue": "cannot assign to True (1292102945.py, line 1)",
     "output_type": "error",
     "traceback": [
      "\u001b[1;36m  Cell \u001b[1;32mIn[1], line 1\u001b[1;36m\u001b[0m\n\u001b[1;33m    True = 39\u001b[0m\n\u001b[1;37m    ^\u001b[0m\n\u001b[1;31mSyntaxError\u001b[0m\u001b[1;31m:\u001b[0m cannot assign to True\n"
     ]
    }
   ],
   "source": [
    "True = 39"
   ]
  },
  {
   "cell_type": "code",
   "execution_count": 3,
   "id": "4d3ed5dd-e40e-48af-a7d6-3e3a47a6eecb",
   "metadata": {},
   "outputs": [
    {
     "data": {
      "text/plain": [
       "True"
      ]
     },
     "execution_count": 3,
     "metadata": {},
     "output_type": "execute_result"
    }
   ],
   "source": [
    "True"
   ]
  },
  {
   "cell_type": "code",
   "execution_count": null,
   "id": "4adae8f8-fc40-4c0a-98f2-38878dfc0ebb",
   "metadata": {},
   "outputs": [],
   "source": [
    "#no spaces inside a var name ideally."
   ]
  },
  {
   "cell_type": "code",
   "execution_count": 59,
   "id": "5817d028-db74-4f73-b09a-712af3773119",
   "metadata": {},
   "outputs": [],
   "source": [
    "myvar = 5"
   ]
  },
  {
   "cell_type": "code",
   "execution_count": 60,
   "id": "3d295475-4068-4d1c-837e-a053332a36ef",
   "metadata": {},
   "outputs": [
    {
     "data": {
      "text/plain": [
       "5"
      ]
     },
     "execution_count": 60,
     "metadata": {},
     "output_type": "execute_result"
    }
   ],
   "source": [
    "myvar"
   ]
  },
  {
   "cell_type": "code",
   "execution_count": 5,
   "id": "e8703414-1584-495d-8ec4-4880350b1a20",
   "metadata": {},
   "outputs": [],
   "source": [
    "In = 4"
   ]
  },
  {
   "cell_type": "code",
   "execution_count": null,
   "id": "9ff9f6e8-3174-43d9-a256-e6c08a01a245",
   "metadata": {},
   "outputs": [],
   "source": [
    "In"
   ]
  },
  {
   "cell_type": "code",
   "execution_count": 9,
   "id": "00552518-ac73-451a-af57-4baf91433e59",
   "metadata": {},
   "outputs": [],
   "source": [
    "x = 10\n",
    "y = 20\n",
    "z = 30"
   ]
  },
  {
   "cell_type": "code",
   "execution_count": 8,
   "id": "4cb1ed23-371c-4519-a45c-e0b6d826a352",
   "metadata": {},
   "outputs": [],
   "source": [
    "i ,j ,k = 10,20,30"
   ]
  },
  {
   "cell_type": "code",
   "execution_count": 10,
   "id": "736086bf-f44d-49a3-b7d2-0c772be981ad",
   "metadata": {},
   "outputs": [
    {
     "name": "stdout",
     "output_type": "stream",
     "text": [
      "10 20 30\n"
     ]
    }
   ],
   "source": [
    "print(i ,j ,k )"
   ]
  },
  {
   "cell_type": "markdown",
   "id": "b2ed46df-b224-4670-be65-9b59d6934cd5",
   "metadata": {},
   "source": [
    "# if you confident in your concept, But system shows error . go to kernel and click the restart."
   ]
  },
  {
   "cell_type": "code",
   "execution_count": 17,
   "id": "5dc48f5b-0db6-42ea-8625-4d10b717622c",
   "metadata": {},
   "outputs": [],
   "source": [
    "#= -> assignment operator - assign a value to a variable"
   ]
  },
  {
   "cell_type": "code",
   "execution_count": null,
   "id": "a76cc2bf-f3a5-4267-8513-baf5d700fa72",
   "metadata": {},
   "outputs": [],
   "source": [
    "x = y = z = 10"
   ]
  },
  {
   "cell_type": "code",
   "execution_count": 29,
   "id": "9ca9e557-71ba-49bc-9be7-edd25eca3e10",
   "metadata": {},
   "outputs": [
    {
     "ename": "NameError",
     "evalue": "name 'x' is not defined",
     "output_type": "error",
     "traceback": [
      "\u001b[1;31m---------------------------------------------------------------------------\u001b[0m",
      "\u001b[1;31mNameError\u001b[0m                                 Traceback (most recent call last)",
      "Cell \u001b[1;32mIn[29], line 1\u001b[0m\n\u001b[1;32m----> 1\u001b[0m \u001b[38;5;28mprint\u001b[39m(x, y, z, )\n",
      "\u001b[1;31mNameError\u001b[0m: name 'x' is not defined"
     ]
    }
   ],
   "source": [
    "print(x, y, z, )"
   ]
  },
  {
   "cell_type": "code",
   "execution_count": null,
   "id": "ccfde3d8-7487-47f2-b4d5-01fcb228eda0",
   "metadata": {},
   "outputs": [],
   "source": [
    "Data Types"
   ]
  },
  {
   "cell_type": "code",
   "execution_count": 1,
   "id": "f4eb65d8-8ab4-4beb-91eb-ac44540a33fc",
   "metadata": {},
   "outputs": [],
   "source": [
    "#it helps computer understand your idea "
   ]
  },
  {
   "cell_type": "code",
   "execution_count": 2,
   "id": "610ec815-e21e-420b-b7b5-33d99b646efa",
   "metadata": {},
   "outputs": [],
   "source": [
    "x = 2"
   ]
  },
  {
   "cell_type": "code",
   "execution_count": 3,
   "id": "2e55c3ce-45a1-4bb2-8659-8c8c5bad9b54",
   "metadata": {},
   "outputs": [
    {
     "name": "stdout",
     "output_type": "stream",
     "text": [
      "2\n"
     ]
    }
   ],
   "source": [
    "print(x)"
   ]
  },
  {
   "cell_type": "code",
   "execution_count": 7,
   "id": "143ca5c0-3e00-492f-9a1a-cdf4ce385440",
   "metadata": {},
   "outputs": [
    {
     "data": {
      "text/plain": [
       "int"
      ]
     },
     "execution_count": 7,
     "metadata": {},
     "output_type": "execute_result"
    }
   ],
   "source": [
    "type(x)"
   ]
  },
  {
   "cell_type": "code",
   "execution_count": 5,
   "id": "b983e944-4e8d-45b1-8665-d3b746708795",
   "metadata": {},
   "outputs": [],
   "source": [
    "y = 3.14"
   ]
  },
  {
   "cell_type": "code",
   "execution_count": 9,
   "id": "a885b707-9b22-45b8-b574-2935be100563",
   "metadata": {},
   "outputs": [
    {
     "data": {
      "text/plain": [
       "float"
      ]
     },
     "execution_count": 9,
     "metadata": {},
     "output_type": "execute_result"
    }
   ],
   "source": [
    "type(y)"
   ]
  },
  {
   "cell_type": "code",
   "execution_count": 11,
   "id": "108326e2-d206-4aea-8a83-9e7cbb462436",
   "metadata": {},
   "outputs": [],
   "source": [
    "z = \"shubham\""
   ]
  },
  {
   "cell_type": "code",
   "execution_count": 13,
   "id": "0f0076cc-b1c0-4439-9ff0-f211f1450338",
   "metadata": {},
   "outputs": [
    {
     "name": "stdout",
     "output_type": "stream",
     "text": [
      "shubham\n"
     ]
    }
   ],
   "source": [
    "print(z)"
   ]
  },
  {
   "cell_type": "code",
   "execution_count": 15,
   "id": "e092a181-4ea3-47de-996e-6567bb2d0720",
   "metadata": {},
   "outputs": [
    {
     "data": {
      "text/plain": [
       "str"
      ]
     },
     "execution_count": 15,
     "metadata": {},
     "output_type": "execute_result"
    }
   ],
   "source": [
    "type(z)"
   ]
  },
  {
   "cell_type": "code",
   "execution_count": null,
   "id": "5bed5bd7-0b94-40f9-a4c9-04a8f412a4a9",
   "metadata": {},
   "outputs": [],
   "source": [
    "j = False"
   ]
  },
  {
   "cell_type": "code",
   "execution_count": 2,
   "id": "d52891c7-8d6d-4d1d-a40d-f7d76e70dd0b",
   "metadata": {},
   "outputs": [
    {
     "ename": "NameError",
     "evalue": "name 'j' is not defined",
     "output_type": "error",
     "traceback": [
      "\u001b[1;31m---------------------------------------------------------------------------\u001b[0m",
      "\u001b[1;31mNameError\u001b[0m                                 Traceback (most recent call last)",
      "Cell \u001b[1;32mIn[2], line 1\u001b[0m\n\u001b[1;32m----> 1\u001b[0m \u001b[38;5;28mprint\u001b[39m(j)\n",
      "\u001b[1;31mNameError\u001b[0m: name 'j' is not defined"
     ]
    }
   ],
   "source": [
    "print(j)"
   ]
  },
  {
   "cell_type": "code",
   "execution_count": 3,
   "id": "8370f2d3-1da2-44d4-8f53-4cc6a1e75244",
   "metadata": {},
   "outputs": [
    {
     "ename": "NameError",
     "evalue": "name 'j' is not defined",
     "output_type": "error",
     "traceback": [
      "\u001b[1;31m---------------------------------------------------------------------------\u001b[0m",
      "\u001b[1;31mNameError\u001b[0m                                 Traceback (most recent call last)",
      "Cell \u001b[1;32mIn[3], line 1\u001b[0m\n\u001b[1;32m----> 1\u001b[0m \u001b[38;5;28mprint\u001b[39m(j)\n",
      "\u001b[1;31mNameError\u001b[0m: name 'j' is not defined"
     ]
    }
   ],
   "source": [
    "print(j)"
   ]
  },
  {
   "cell_type": "code",
   "execution_count": 5,
   "id": "fa31cce9-0f75-488c-a5f8-e62844506118",
   "metadata": {},
   "outputs": [
    {
     "ename": "NameError",
     "evalue": "name 'j' is not defined",
     "output_type": "error",
     "traceback": [
      "\u001b[1;31m---------------------------------------------------------------------------\u001b[0m",
      "\u001b[1;31mNameError\u001b[0m                                 Traceback (most recent call last)",
      "Cell \u001b[1;32mIn[5], line 1\u001b[0m\n\u001b[1;32m----> 1\u001b[0m \u001b[38;5;28mtype\u001b[39m(j)\n",
      "\u001b[1;31mNameError\u001b[0m: name 'j' is not defined"
     ]
    }
   ],
   "source": [
    "type(j)"
   ]
  },
  {
   "cell_type": "code",
   "execution_count": 7,
   "id": "8c2dd6fb-8b45-48da-9399-0fd76370a391",
   "metadata": {},
   "outputs": [],
   "source": [
    "a = 2 + 3j"
   ]
  },
  {
   "cell_type": "code",
   "execution_count": 9,
   "id": "78caa9f6-cacd-4ea9-8cdd-fbd215db1acd",
   "metadata": {},
   "outputs": [
    {
     "name": "stdout",
     "output_type": "stream",
     "text": [
      "(2+3j)\n"
     ]
    }
   ],
   "source": [
    "print(a)"
   ]
  },
  {
   "cell_type": "code",
   "execution_count": 11,
   "id": "e6bf8e30-6618-47bc-a14a-2a70b389280d",
   "metadata": {},
   "outputs": [
    {
     "data": {
      "text/plain": [
       "complex"
      ]
     },
     "execution_count": 11,
     "metadata": {},
     "output_type": "execute_result"
    }
   ],
   "source": [
    "type(a)"
   ]
  },
  {
   "cell_type": "code",
   "execution_count": 26,
   "id": "af9fd390-508a-48e1-8777-9c551e28e127",
   "metadata": {},
   "outputs": [],
   "source": [
    "j = False"
   ]
  },
  {
   "cell_type": "code",
   "execution_count": 28,
   "id": "0f4d17b7-ceae-4a60-ad68-51ec99ae2cc7",
   "metadata": {},
   "outputs": [
    {
     "name": "stdout",
     "output_type": "stream",
     "text": [
      "False\n"
     ]
    }
   ],
   "source": [
    "print(j)"
   ]
  },
  {
   "cell_type": "code",
   "execution_count": 30,
   "id": "0e92e1e7-8847-40be-9c75-2d462b9f3943",
   "metadata": {},
   "outputs": [
    {
     "data": {
      "text/plain": [
       "bool"
      ]
     },
     "execution_count": 30,
     "metadata": {},
     "output_type": "execute_result"
    }
   ],
   "source": [
    "type(j)"
   ]
  },
  {
   "cell_type": "code",
   "execution_count": null,
   "id": "db956d1a-710b-41d8-acd0-f9d7eaf96600",
   "metadata": {},
   "outputs": [],
   "source": [
    "x = 2"
   ]
  },
  {
   "cell_type": "code",
   "execution_count": 42,
   "id": "0b6c39c5-4135-4aa4-a8f0-703c13d7863c",
   "metadata": {},
   "outputs": [
    {
     "ename": "NameError",
     "evalue": "name 'x' is not defined",
     "output_type": "error",
     "traceback": [
      "\u001b[1;31m---------------------------------------------------------------------------\u001b[0m",
      "\u001b[1;31mNameError\u001b[0m                                 Traceback (most recent call last)",
      "Cell \u001b[1;32mIn[42], line 1\u001b[0m\n\u001b[1;32m----> 1\u001b[0m \u001b[38;5;28mprint\u001b[39m(x)\n",
      "\u001b[1;31mNameError\u001b[0m: name 'x' is not defined"
     ]
    }
   ],
   "source": [
    "print(x)"
   ]
  },
  {
   "cell_type": "code",
   "execution_count": null,
   "id": "996539d2-b96b-4568-8381-1acb907fd43e",
   "metadata": {},
   "outputs": [],
   "source": [
    "# "
   ]
  },
  {
   "cell_type": "code",
   "execution_count": null,
   "id": "664b90d9-df86-40c4-ad2a-4bd25eccd8c6",
   "metadata": {},
   "outputs": [],
   "source": [
    "x = 2"
   ]
  },
  {
   "cell_type": "code",
   "execution_count": 46,
   "id": "9f129778-2847-4541-a2f6-4f1ff113ea0c",
   "metadata": {},
   "outputs": [
    {
     "ename": "NameError",
     "evalue": "name 'x' is not defined",
     "output_type": "error",
     "traceback": [
      "\u001b[1;31m---------------------------------------------------------------------------\u001b[0m",
      "\u001b[1;31mNameError\u001b[0m                                 Traceback (most recent call last)",
      "Cell \u001b[1;32mIn[46], line 1\u001b[0m\n\u001b[1;32m----> 1\u001b[0m \u001b[38;5;28mprint\u001b[39m(x)\n",
      "\u001b[1;31mNameError\u001b[0m: name 'x' is not defined"
     ]
    }
   ],
   "source": [
    "print(x)"
   ]
  },
  {
   "cell_type": "code",
   "execution_count": null,
   "id": "4091b6ef-c2d1-4dfb-9cb1-eff58c37c593",
   "metadata": {},
   "outputs": [],
   "source": [
    "x = 1,2"
   ]
  },
  {
   "cell_type": "code",
   "execution_count": 1,
   "id": "3f13def0-8f3a-446b-9f84-9f0c1d399236",
   "metadata": {},
   "outputs": [
    {
     "ename": "NameError",
     "evalue": "name 'x' is not defined",
     "output_type": "error",
     "traceback": [
      "\u001b[1;31m---------------------------------------------------------------------------\u001b[0m",
      "\u001b[1;31mNameError\u001b[0m                                 Traceback (most recent call last)",
      "Cell \u001b[1;32mIn[1], line 1\u001b[0m\n\u001b[1;32m----> 1\u001b[0m \u001b[38;5;28mprint\u001b[39m(x)\n",
      "\u001b[1;31mNameError\u001b[0m: name 'x' is not defined"
     ]
    }
   ],
   "source": [
    "print(x)"
   ]
  },
  {
   "cell_type": "code",
   "execution_count": 9,
   "id": "56476da5-454a-4d42-a254-5853109367df",
   "metadata": {},
   "outputs": [
    {
     "name": "stdout",
     "output_type": "stream",
     "text": [
      "she is my sister's home\n"
     ]
    }
   ],
   "source": [
    "print('she is my sister\\'s home')"
   ]
  },
  {
   "cell_type": "code",
   "execution_count": 11,
   "id": "e75db92f-8d6c-45e0-a3d0-cda374bfa85c",
   "metadata": {},
   "outputs": [
    {
     "name": "stdout",
     "output_type": "stream",
     "text": [
      "i am john.\n",
      "i stay in usa\n"
     ]
    }
   ],
   "source": [
    "print(\"i am john.\\ni stay in usa\")"
   ]
  },
  {
   "cell_type": "code",
   "execution_count": 21,
   "id": "f0d32382-ac8c-4e4d-99f1-f45813ee20b3",
   "metadata": {},
   "outputs": [
    {
     "name": "stdout",
     "output_type": "stream",
     "text": [
      "name:\tjohn\n",
      "age:\t29\n",
      "hometown:tirupur\n"
     ]
    }
   ],
   "source": [
    "print(\"name:\\tjohn\")\n",
    "print(\"age:\\t29\")\n",
    "print(\"hometown:tirupur\")"
   ]
  },
  {
   "cell_type": "code",
   "execution_count": null,
   "id": "45093c34-e8f5-4371-985f-0b606c674df5",
   "metadata": {},
   "outputs": [],
   "source": []
  },
  {
   "cell_type": "code",
   "execution_count": null,
   "id": "c1722f54-2612-4d5a-8ac4-b9795912ebbb",
   "metadata": {},
   "outputs": [],
   "source": []
  },
  {
   "cell_type": "code",
   "execution_count": null,
   "id": "356b9b32-ae70-43a5-8eb1-2436c07fe916",
   "metadata": {},
   "outputs": [],
   "source": []
  },
  {
   "cell_type": "code",
   "execution_count": null,
   "id": "c0d1fa6b-feeb-42bf-8d36-494f124a81dc",
   "metadata": {},
   "outputs": [],
   "source": []
  },
  {
   "cell_type": "code",
   "execution_count": null,
   "id": "52e3c886-83d0-4780-a524-dcfa4ce88a8c",
   "metadata": {},
   "outputs": [],
   "source": []
  },
  {
   "cell_type": "code",
   "execution_count": null,
   "id": "b498a8d5-69b1-4bf1-a409-52d274226dd2",
   "metadata": {},
   "outputs": [],
   "source": []
  },
  {
   "cell_type": "code",
   "execution_count": null,
   "id": "1543f0b6-0194-4739-8a1e-ad6adef23a3c",
   "metadata": {},
   "outputs": [],
   "source": []
  },
  {
   "cell_type": "code",
   "execution_count": null,
   "id": "f49d978b-f6a9-4f14-bb4d-3fdadae17e13",
   "metadata": {},
   "outputs": [],
   "source": []
  },
  {
   "cell_type": "code",
   "execution_count": null,
   "id": "0f667d94-ac09-4bda-8e4f-11b8324fd41d",
   "metadata": {},
   "outputs": [],
   "source": []
  }
 ],
 "metadata": {
  "kernelspec": {
   "display_name": "Python [conda env:base] *",
   "language": "python",
   "name": "conda-base-py"
  },
  "language_info": {
   "codemirror_mode": {
    "name": "ipython",
    "version": 3
   },
   "file_extension": ".py",
   "mimetype": "text/x-python",
   "name": "python",
   "nbconvert_exporter": "python",
   "pygments_lexer": "ipython3",
   "version": "3.12.7"
  }
 },
 "nbformat": 4,
 "nbformat_minor": 5
}
