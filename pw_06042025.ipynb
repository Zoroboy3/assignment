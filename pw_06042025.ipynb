{
 "cells": [
  {
   "cell_type": "markdown",
   "id": "aed7abdd-1e3e-44d7-b8da-1927b8ac3e4d",
   "metadata": {},
   "source": [
    "1. Lists\n",
    "2. Tuples\n",
    "3. Sets\n",
    "4. Dictionary\n",
    "5. Strings"
   ]
  },
  {
   "cell_type": "markdown",
   "id": "850a87b1-5a88-48f3-b58a-3e488cab4c06",
   "metadata": {},
   "source": [
    "## Lists"
   ]
  },
  {
   "cell_type": "markdown",
   "id": "d97ccec7-aa19-4f89-ab48-cc36986a6972",
   "metadata": {},
   "source": [
    "Ordered Collection of items and mutable too. allow duplicate elements."
   ]
  },
  {
   "cell_type": "markdown",
   "id": "87c2fd7e-72d9-45c8-ba65-3240a8c781ed",
   "metadata": {},
   "source": [
    "How to crete a Lists. there is a two type."
   ]
  },
  {
   "cell_type": "code",
   "execution_count": 6,
   "id": "8866da01-c5c8-45aa-8e45-6b6bd03e1db2",
   "metadata": {},
   "outputs": [],
   "source": [
    "list1 = list()\n",
    "list2 = [] # most preferred"
   ]
  },
  {
   "cell_type": "code",
   "execution_count": 8,
   "id": "b79046a2-8ef0-4c11-95d3-4e6540fec59b",
   "metadata": {},
   "outputs": [
    {
     "name": "stdout",
     "output_type": "stream",
     "text": [
      "[]\n"
     ]
    }
   ],
   "source": [
    "print(list1)"
   ]
  },
  {
   "cell_type": "code",
   "execution_count": 10,
   "id": "41d93a78-e55a-499c-a74f-ab1bd1a9f0aa",
   "metadata": {},
   "outputs": [
    {
     "name": "stdout",
     "output_type": "stream",
     "text": [
      "[]\n"
     ]
    }
   ],
   "source": [
    "print(list2)"
   ]
  },
  {
   "cell_type": "code",
   "execution_count": 14,
   "id": "cadfce93-32f9-47ff-9f21-962d8f7b76b7",
   "metadata": {},
   "outputs": [],
   "source": [
    "mylist = [1,1.1,\"python\",True,'a']"
   ]
  },
  {
   "cell_type": "code",
   "execution_count": 16,
   "id": "16899731-2609-49a6-93a7-e391a3011e88",
   "metadata": {},
   "outputs": [
    {
     "name": "stdout",
     "output_type": "stream",
     "text": [
      "[1, 1.1, 'python', True, 'a']\n"
     ]
    }
   ],
   "source": [
    "print(mylist)"
   ]
  },
  {
   "cell_type": "code",
   "execution_count": 20,
   "id": "13cda37c-9905-4966-90cf-a4b5318e8efc",
   "metadata": {},
   "outputs": [
    {
     "data": {
      "text/plain": [
       "list"
      ]
     },
     "execution_count": 20,
     "metadata": {},
     "output_type": "execute_result"
    }
   ],
   "source": [
    "type(mylist)"
   ]
  },
  {
   "cell_type": "code",
   "execution_count": 22,
   "id": "c0bc8f13-7ea4-445c-8b46-434296e78448",
   "metadata": {},
   "outputs": [
    {
     "name": "stdout",
     "output_type": "stream",
     "text": [
      "<class 'list'>\n"
     ]
    }
   ],
   "source": [
    "print(type(mylist))"
   ]
  },
  {
   "cell_type": "code",
   "execution_count": 44,
   "id": "4f8f3055-9e65-4c4a-a392-f5dee1285148",
   "metadata": {},
   "outputs": [
    {
     "name": "stdout",
     "output_type": "stream",
     "text": [
      "1\n"
     ]
    }
   ],
   "source": [
    "print(mylist[0])"
   ]
  },
  {
   "cell_type": "code",
   "execution_count": 46,
   "id": "ed8a34f0-bcc3-4e75-a458-b2abca0a2a57",
   "metadata": {},
   "outputs": [
    {
     "name": "stdout",
     "output_type": "stream",
     "text": [
      "1.1\n"
     ]
    }
   ],
   "source": [
    "print(mylist[1])"
   ]
  },
  {
   "cell_type": "code",
   "execution_count": 48,
   "id": "704450b6-cc85-44b2-b35e-af92b3a79306",
   "metadata": {},
   "outputs": [
    {
     "name": "stdout",
     "output_type": "stream",
     "text": [
      "python\n"
     ]
    }
   ],
   "source": [
    "print(mylist[2])"
   ]
  },
  {
   "cell_type": "code",
   "execution_count": 50,
   "id": "2bf1dc44-3487-410a-a58e-b877875cd290",
   "metadata": {},
   "outputs": [
    {
     "name": "stdout",
     "output_type": "stream",
     "text": [
      "True\n"
     ]
    }
   ],
   "source": [
    "print(mylist[3])"
   ]
  },
  {
   "cell_type": "code",
   "execution_count": 52,
   "id": "ac114137-514f-4ba4-90e7-3e7989b127cb",
   "metadata": {},
   "outputs": [
    {
     "name": "stdout",
     "output_type": "stream",
     "text": [
      "a\n"
     ]
    }
   ],
   "source": [
    "print(mylist[4])"
   ]
  },
  {
   "cell_type": "code",
   "execution_count": 56,
   "id": "19ee435c-138b-4521-95d8-614e7f9d4574",
   "metadata": {},
   "outputs": [],
   "source": [
    "mylist = [1,1.1,\"python\",True,'a',[\"x\",\"y\"]]"
   ]
  },
  {
   "cell_type": "code",
   "execution_count": 58,
   "id": "cbd74c76-592f-4a86-9963-17905d810c11",
   "metadata": {},
   "outputs": [
    {
     "data": {
      "text/plain": [
       "['x', 'y']"
      ]
     },
     "execution_count": 58,
     "metadata": {},
     "output_type": "execute_result"
    }
   ],
   "source": [
    "mylist[5]"
   ]
  },
  {
   "cell_type": "code",
   "execution_count": 60,
   "id": "bb5ef5e7-b825-4f5f-be1e-5c9c3a550e8d",
   "metadata": {},
   "outputs": [
    {
     "data": {
      "text/plain": [
       "'x'"
      ]
     },
     "execution_count": 60,
     "metadata": {},
     "output_type": "execute_result"
    }
   ],
   "source": [
    "mylist[5][0]"
   ]
  },
  {
   "cell_type": "code",
   "execution_count": 62,
   "id": "483a88bb-7029-4edb-a876-ca8d0b09f6f9",
   "metadata": {},
   "outputs": [
    {
     "data": {
      "text/plain": [
       "'y'"
      ]
     },
     "execution_count": 62,
     "metadata": {},
     "output_type": "execute_result"
    }
   ],
   "source": [
    "mylist[5][1]"
   ]
  },
  {
   "cell_type": "code",
   "execution_count": null,
   "id": "e5482549-df00-40f6-a52c-4e85b36196dd",
   "metadata": {},
   "outputs": [],
   "source": [
    "#slicing"
   ]
  },
  {
   "cell_type": "code",
   "execution_count": 114,
   "id": "7fac5cd2-f91c-47b4-a256-e8573ade1f42",
   "metadata": {},
   "outputs": [],
   "source": [
    "#[start index:end index + 1]"
   ]
  },
  {
   "cell_type": "code",
   "execution_count": 116,
   "id": "fc07d900-ccbe-4491-9416-68ca4ccb01fe",
   "metadata": {},
   "outputs": [
    {
     "data": {
      "text/plain": [
       "'a'"
      ]
     },
     "execution_count": 116,
     "metadata": {},
     "output_type": "execute_result"
    }
   ],
   "source": [
    "mylist[4]"
   ]
  },
  {
   "cell_type": "code",
   "execution_count": 124,
   "id": "a6b1fe1e-8148-45f2-a0b5-7347312aa0c9",
   "metadata": {},
   "outputs": [
    {
     "data": {
      "text/plain": [
       "'y'"
      ]
     },
     "execution_count": 124,
     "metadata": {},
     "output_type": "execute_result"
    }
   ],
   "source": [
    "mylist[5][1]"
   ]
  },
  {
   "cell_type": "code",
   "execution_count": 128,
   "id": "c7771bea-79b5-4d2b-9f22-82bd0f5b98cb",
   "metadata": {},
   "outputs": [
    {
     "data": {
      "text/plain": [
       "[1.1, 'python', True]"
      ]
     },
     "execution_count": 128,
     "metadata": {},
     "output_type": "execute_result"
    }
   ],
   "source": [
    "mylist[1:4]"
   ]
  },
  {
   "cell_type": "code",
   "execution_count": 130,
   "id": "0257cd34-4230-4b94-b570-e633c2d23fd2",
   "metadata": {},
   "outputs": [
    {
     "data": {
      "text/plain": [
       "['python', True, 'a']"
      ]
     },
     "execution_count": 130,
     "metadata": {},
     "output_type": "execute_result"
    }
   ],
   "source": [
    "mylist[2:5]"
   ]
  },
  {
   "cell_type": "code",
   "execution_count": 132,
   "id": "d24f6eee-f714-4ed0-b8f7-17c9ad7358b9",
   "metadata": {},
   "outputs": [
    {
     "data": {
      "text/plain": [
       "[1, 1.1, 'python', True, 'a', ['x', 'y']]"
      ]
     },
     "execution_count": 132,
     "metadata": {},
     "output_type": "execute_result"
    }
   ],
   "source": [
    "mylist[:]"
   ]
  },
  {
   "cell_type": "code",
   "execution_count": 134,
   "id": "f94589ba-aba5-4b78-a366-ef09a61e2fc2",
   "metadata": {},
   "outputs": [
    {
     "data": {
      "text/plain": [
       "[1, 1.1, 'python', True]"
      ]
     },
     "execution_count": 134,
     "metadata": {},
     "output_type": "execute_result"
    }
   ],
   "source": [
    "mylist[:4]"
   ]
  },
  {
   "cell_type": "code",
   "execution_count": 136,
   "id": "1f538a45-abd2-45bd-81c5-c3f64e11f669",
   "metadata": {},
   "outputs": [
    {
     "data": {
      "text/plain": [
       "[1.1, 'python', True, 'a', ['x', 'y']]"
      ]
     },
     "execution_count": 136,
     "metadata": {},
     "output_type": "execute_result"
    }
   ],
   "source": [
    "mylist[1:]"
   ]
  },
  {
   "cell_type": "markdown",
   "id": "bae07814-1ef1-4cc4-87eb-ab29d8b6701e",
   "metadata": {},
   "source": [
    "postive indexing - starts from 0 in the begining negative indexing - start from - from the end"
   ]
  },
  {
   "cell_type": "code",
   "execution_count": 142,
   "id": "5b958661-0bec-45f8-87e4-6286d0227b10",
   "metadata": {},
   "outputs": [
    {
     "name": "stdout",
     "output_type": "stream",
     "text": [
      "<class 'list'>\n"
     ]
    }
   ],
   "source": [
    "print(type(mylist))"
   ]
  },
  {
   "cell_type": "code",
   "execution_count": 144,
   "id": "b37906a9-5cdf-4c66-94dc-f1925ca8a692",
   "metadata": {},
   "outputs": [
    {
     "data": {
      "text/plain": [
       "['x', 'y']"
      ]
     },
     "execution_count": 144,
     "metadata": {},
     "output_type": "execute_result"
    }
   ],
   "source": [
    "mylist[-1]"
   ]
  },
  {
   "cell_type": "code",
   "execution_count": 152,
   "id": "ae65be20-01e9-48aa-936f-179294a4752a",
   "metadata": {},
   "outputs": [
    {
     "data": {
      "text/plain": [
       "[]"
      ]
     },
     "execution_count": 152,
     "metadata": {},
     "output_type": "execute_result"
    }
   ],
   "source": [
    "mylist[-1:0]"
   ]
  },
  {
   "cell_type": "code",
   "execution_count": 154,
   "id": "9d55e362-9da6-44b7-a933-cfc8f9859410",
   "metadata": {},
   "outputs": [
    {
     "data": {
      "text/plain": [
       "'a'"
      ]
     },
     "execution_count": 154,
     "metadata": {},
     "output_type": "execute_result"
    }
   ],
   "source": [
    "mylist[-2]"
   ]
  },
  {
   "cell_type": "code",
   "execution_count": 156,
   "id": "b7ebcda6-92d6-4744-98bd-c22018028574",
   "metadata": {},
   "outputs": [
    {
     "data": {
      "text/plain": [
       "True"
      ]
     },
     "execution_count": 156,
     "metadata": {},
     "output_type": "execute_result"
    }
   ],
   "source": [
    "mylist[-3]"
   ]
  },
  {
   "cell_type": "code",
   "execution_count": 158,
   "id": "78e53631-d386-4f85-9782-56ca67cea986",
   "metadata": {},
   "outputs": [
    {
     "data": {
      "text/plain": [
       "'python'"
      ]
     },
     "execution_count": 158,
     "metadata": {},
     "output_type": "execute_result"
    }
   ],
   "source": [
    "mylist[-4]"
   ]
  },
  {
   "cell_type": "code",
   "execution_count": 160,
   "id": "93c29457-b3a7-4a05-b0c8-083a121a3d3d",
   "metadata": {},
   "outputs": [
    {
     "data": {
      "text/plain": [
       "1.1"
      ]
     },
     "execution_count": 160,
     "metadata": {},
     "output_type": "execute_result"
    }
   ],
   "source": [
    "mylist[-5]"
   ]
  },
  {
   "cell_type": "code",
   "execution_count": 162,
   "id": "29adc01e-f4fc-44c0-bb78-e0837343222a",
   "metadata": {},
   "outputs": [
    {
     "data": {
      "text/plain": [
       "1"
      ]
     },
     "execution_count": 162,
     "metadata": {},
     "output_type": "execute_result"
    }
   ],
   "source": [
    "mylist[-6]"
   ]
  },
  {
   "cell_type": "code",
   "execution_count": 166,
   "id": "457a7dd6-e03f-40ed-a44d-1a875173ddcb",
   "metadata": {},
   "outputs": [
    {
     "data": {
      "text/plain": [
       "['python', True, 'a']"
      ]
     },
     "execution_count": 166,
     "metadata": {},
     "output_type": "execute_result"
    }
   ],
   "source": [
    "mylist[-4:-1]"
   ]
  },
  {
   "cell_type": "code",
   "execution_count": 168,
   "id": "851f743b-ba1b-4d0e-815f-5411cdb391a0",
   "metadata": {},
   "outputs": [
    {
     "data": {
      "text/plain": [
       "[1.1, 'python', True]"
      ]
     },
     "execution_count": 168,
     "metadata": {},
     "output_type": "execute_result"
    }
   ],
   "source": [
    "mylist[-5:-2]"
   ]
  },
  {
   "cell_type": "code",
   "execution_count": 170,
   "id": "cf2283a7-5477-4ae7-8e60-c009ac176acc",
   "metadata": {},
   "outputs": [
    {
     "data": {
      "text/plain": [
       "[True, 'a', ['x', 'y']]"
      ]
     },
     "execution_count": 170,
     "metadata": {},
     "output_type": "execute_result"
    }
   ],
   "source": [
    "mylist[-3:]"
   ]
  },
  {
   "cell_type": "code",
   "execution_count": 172,
   "id": "d3877822-60cc-4e31-958f-577f1ed25bb2",
   "metadata": {},
   "outputs": [
    {
     "data": {
      "text/plain": [
       "[1, 1.1, 'python', True, 'a']"
      ]
     },
     "execution_count": 172,
     "metadata": {},
     "output_type": "execute_result"
    }
   ],
   "source": [
    "mylist[:-1]"
   ]
  },
  {
   "cell_type": "code",
   "execution_count": 174,
   "id": "fabd90cd-43d5-42b8-8f89-ad9d9b530e4b",
   "metadata": {},
   "outputs": [
    {
     "data": {
      "text/plain": [
       "[1, 1.1, 'python', True, 'a']"
      ]
     },
     "execution_count": 174,
     "metadata": {},
     "output_type": "execute_result"
    }
   ],
   "source": [
    "mylist[:5]"
   ]
  },
  {
   "cell_type": "code",
   "execution_count": 176,
   "id": "1908cfa0-df06-4a5d-8baa-7af4da9a6d7d",
   "metadata": {},
   "outputs": [
    {
     "data": {
      "text/plain": [
       "[]"
      ]
     },
     "execution_count": 176,
     "metadata": {},
     "output_type": "execute_result"
    }
   ],
   "source": [
    "mylist[-1:-4]"
   ]
  },
  {
   "cell_type": "code",
   "execution_count": 178,
   "id": "68c22c33-bf83-4c93-ae1b-8f7ffcf41b18",
   "metadata": {},
   "outputs": [
    {
     "data": {
      "text/plain": [
       "6"
      ]
     },
     "execution_count": 178,
     "metadata": {},
     "output_type": "execute_result"
    }
   ],
   "source": [
    "len(mylist)"
   ]
  },
  {
   "cell_type": "code",
   "execution_count": 190,
   "id": "fe840416-b0aa-4e14-bc68-c5fd1c6cc93d",
   "metadata": {},
   "outputs": [],
   "source": [
    "mylist2 = [1,1.1,4,4.21,11.4]"
   ]
  },
  {
   "cell_type": "code",
   "execution_count": 192,
   "id": "2ef04dc9-fa83-431d-943b-bf1bf1f3ec5e",
   "metadata": {},
   "outputs": [
    {
     "data": {
      "text/plain": [
       "5"
      ]
     },
     "execution_count": 192,
     "metadata": {},
     "output_type": "execute_result"
    }
   ],
   "source": [
    "len(mylist2)"
   ]
  },
  {
   "cell_type": "code",
   "execution_count": 196,
   "id": "a9804345-c933-4836-b96c-1f8d3672abb0",
   "metadata": {},
   "outputs": [
    {
     "data": {
      "text/plain": [
       "1"
      ]
     },
     "execution_count": 196,
     "metadata": {},
     "output_type": "execute_result"
    }
   ],
   "source": [
    "min(mylist2)"
   ]
  },
  {
   "cell_type": "code",
   "execution_count": 198,
   "id": "c782a818-29de-45e7-8d4e-f4b3a7c412f9",
   "metadata": {},
   "outputs": [
    {
     "data": {
      "text/plain": [
       "11.4"
      ]
     },
     "execution_count": 198,
     "metadata": {},
     "output_type": "execute_result"
    }
   ],
   "source": [
    "max(mylist2)"
   ]
  },
  {
   "cell_type": "code",
   "execution_count": 200,
   "id": "cc24094c-c162-4910-bc67-af6f045afaa2",
   "metadata": {},
   "outputs": [],
   "source": [
    "mylist3 = [False, 1,4,2]"
   ]
  },
  {
   "cell_type": "code",
   "execution_count": 202,
   "id": "54d0e506-5962-46b7-8a21-b78f68bfe8ae",
   "metadata": {},
   "outputs": [
    {
     "data": {
      "text/plain": [
       "False"
      ]
     },
     "execution_count": 202,
     "metadata": {},
     "output_type": "execute_result"
    }
   ],
   "source": [
    "min(mylist3)"
   ]
  },
  {
   "cell_type": "code",
   "execution_count": 204,
   "id": "da3e9e5f-5189-431b-801c-9918e2951dd1",
   "metadata": {},
   "outputs": [],
   "source": [
    "mylist4 = [True,0,-1,-4]"
   ]
  },
  {
   "cell_type": "code",
   "execution_count": 206,
   "id": "9f8de6eb-d0dc-4e53-ba39-c49fa604d244",
   "metadata": {},
   "outputs": [
    {
     "data": {
      "text/plain": [
       "True"
      ]
     },
     "execution_count": 206,
     "metadata": {},
     "output_type": "execute_result"
    }
   ],
   "source": [
    "max(mylist4)"
   ]
  },
  {
   "cell_type": "code",
   "execution_count": 208,
   "id": "6b0363bf-72d9-4066-9762-b0f885fd024c",
   "metadata": {},
   "outputs": [],
   "source": [
    "mylist4 = [True, False, 0, 1]"
   ]
  },
  {
   "cell_type": "code",
   "execution_count": 210,
   "id": "08193529-af3e-4859-9d79-c451b27f125a",
   "metadata": {},
   "outputs": [
    {
     "data": {
      "text/plain": [
       "False"
      ]
     },
     "execution_count": 210,
     "metadata": {},
     "output_type": "execute_result"
    }
   ],
   "source": [
    "min(mylist4)"
   ]
  },
  {
   "cell_type": "code",
   "execution_count": 225,
   "id": "e0a83376-d4c0-47df-9e89-bbfff3fdd2fc",
   "metadata": {},
   "outputs": [
    {
     "data": {
      "text/plain": [
       "2"
      ]
     },
     "execution_count": 225,
     "metadata": {},
     "output_type": "execute_result"
    }
   ],
   "source": [
    "sum(mylist4)"
   ]
  },
  {
   "cell_type": "code",
   "execution_count": 229,
   "id": "9db0700e-e098-49ef-8a14-5f45d4ff88f4",
   "metadata": {},
   "outputs": [],
   "source": [
    "mylist2 = [1,1.1,4,4.21,11.4]"
   ]
  },
  {
   "cell_type": "code",
   "execution_count": 231,
   "id": "ee115db9-c834-4e9b-a00a-4ce731539481",
   "metadata": {},
   "outputs": [],
   "source": [
    "mylist2[1] = 5"
   ]
  },
  {
   "cell_type": "code",
   "execution_count": 233,
   "id": "32adae76-decd-498e-9ca2-d227f8cc7ec2",
   "metadata": {},
   "outputs": [],
   "source": [
    "mylist2 = [1,1.1,4,4.21,11.4]"
   ]
  },
  {
   "cell_type": "code",
   "execution_count": 235,
   "id": "778a54d0-8a73-43eb-a844-0b256c4665d7",
   "metadata": {},
   "outputs": [
    {
     "data": {
      "text/plain": [
       "[1, 1.1, 4, 4.21, 11.4]"
      ]
     },
     "execution_count": 235,
     "metadata": {},
     "output_type": "execute_result"
    }
   ],
   "source": [
    "mylist2"
   ]
  },
  {
   "cell_type": "code",
   "execution_count": 245,
   "id": "1d295396-0560-4f63-9e4f-28d4aad8f951",
   "metadata": {},
   "outputs": [],
   "source": [
    "mylist2[1:3] = [\"watermelon\"]"
   ]
  },
  {
   "cell_type": "code",
   "execution_count": 247,
   "id": "9077f3e5-40b2-4fea-a6e0-47fd29cf857a",
   "metadata": {},
   "outputs": [
    {
     "data": {
      "text/plain": [
       "[1, 'watermelon', 't', 'e', 'r', 'm', 'e', 'l', 'o', 'n', 4.21, 11.4]"
      ]
     },
     "execution_count": 247,
     "metadata": {},
     "output_type": "execute_result"
    }
   ],
   "source": [
    "mylist2"
   ]
  },
  {
   "cell_type": "code",
   "execution_count": 249,
   "id": "d64d7ee5-9d5d-4693-9c0b-b6f7d31000b5",
   "metadata": {},
   "outputs": [],
   "source": [
    "mylist2 = [1, 5, 4, 4.21, 11.4]"
   ]
  },
  {
   "cell_type": "code",
   "execution_count": 253,
   "id": "1ae0c93a-c763-4fd6-b8df-18b4896027bd",
   "metadata": {},
   "outputs": [],
   "source": [
    "mylist2[1:3] = [\"watermelon\"]"
   ]
  },
  {
   "cell_type": "code",
   "execution_count": 255,
   "id": "0ab3e0d5-8e7e-42a2-a0cf-6173608901f1",
   "metadata": {},
   "outputs": [
    {
     "data": {
      "text/plain": [
       "[1, 'watermelon', 4.21, 11.4]"
      ]
     },
     "execution_count": 255,
     "metadata": {},
     "output_type": "execute_result"
    }
   ],
   "source": [
    "mylist2"
   ]
  },
  {
   "cell_type": "code",
   "execution_count": 257,
   "id": "66e276ec-d4c8-4fb0-b12a-6fe844166a8f",
   "metadata": {},
   "outputs": [
    {
     "data": {
      "text/plain": [
       "4"
      ]
     },
     "execution_count": 257,
     "metadata": {},
     "output_type": "execute_result"
    }
   ],
   "source": [
    "len(mylist2)"
   ]
  },
  {
   "cell_type": "code",
   "execution_count": 259,
   "id": "3796e47a-09c9-4ae2-87ec-60317c581d2d",
   "metadata": {},
   "outputs": [],
   "source": [
    "mylist5 = [2,4,6,8]"
   ]
  },
  {
   "cell_type": "code",
   "execution_count": 265,
   "id": "cbc7d085-fa16-4a42-ab75-1717fe0ce1f1",
   "metadata": {},
   "outputs": [
    {
     "data": {
      "text/plain": [
       "[2, 4, 6, 8, 2, 4, 6, 8]"
      ]
     },
     "execution_count": 265,
     "metadata": {},
     "output_type": "execute_result"
    }
   ],
   "source": [
    "mylist5*2"
   ]
  },
  {
   "cell_type": "code",
   "execution_count": 278,
   "id": "44ae83a4-9b7c-4793-b47f-c6576607f6f3",
   "metadata": {},
   "outputs": [
    {
     "data": {
      "text/plain": [
       "[2, 4, 6, 8]"
      ]
     },
     "execution_count": 278,
     "metadata": {},
     "output_type": "execute_result"
    }
   ],
   "source": [
    "mylist5"
   ]
  },
  {
   "cell_type": "code",
   "execution_count": 280,
   "id": "96f079ee-726c-4a2a-9eef-5aa42c11d546",
   "metadata": {},
   "outputs": [],
   "source": [
    "mylist5.append(10)"
   ]
  },
  {
   "cell_type": "code",
   "execution_count": 282,
   "id": "1c034f62-2594-4eaf-9537-b7fea8a2bd25",
   "metadata": {},
   "outputs": [
    {
     "data": {
      "text/plain": [
       "[2, 4, 6, 8, 10]"
      ]
     },
     "execution_count": 282,
     "metadata": {},
     "output_type": "execute_result"
    }
   ],
   "source": [
    "mylist5"
   ]
  },
  {
   "cell_type": "code",
   "execution_count": 304,
   "id": "aee606f7-cca2-4a61-aa02-8c6b4dad2790",
   "metadata": {},
   "outputs": [],
   "source": [
    "mylist3 = [\"a\",\"b\"]"
   ]
  },
  {
   "cell_type": "code",
   "execution_count": 288,
   "id": "a7b3afa9-8c30-4493-af57-dda47ca38245",
   "metadata": {},
   "outputs": [
    {
     "data": {
      "text/plain": [
       "[2, 4, 6, 8, 10]"
      ]
     },
     "execution_count": 288,
     "metadata": {},
     "output_type": "execute_result"
    }
   ],
   "source": [
    "mylist5"
   ]
  },
  {
   "cell_type": "code",
   "execution_count": 306,
   "id": "2bc0b151-f6d0-4c26-bb21-b5366ce6b05d",
   "metadata": {},
   "outputs": [],
   "source": [
    "mylist5.append(mylist3)"
   ]
  },
  {
   "cell_type": "code",
   "execution_count": 308,
   "id": "309311ac-73b8-4b2f-bbe0-8013d04001f2",
   "metadata": {},
   "outputs": [
    {
     "data": {
      "text/plain": [
       "[2,\n",
       " 4,\n",
       " 6,\n",
       " 8,\n",
       " 10,\n",
       " [1, 'watermelon', 4.21, 11.4],\n",
       " [1, 'watermelon', 4.21, 11.4],\n",
       " ['a', 'b'],\n",
       " ['a', 'b']]"
      ]
     },
     "execution_count": 308,
     "metadata": {},
     "output_type": "execute_result"
    }
   ],
   "source": [
    "mylist5"
   ]
  },
  {
   "cell_type": "code",
   "execution_count": 310,
   "id": "f94a9c80-3faa-42e8-9d85-56aca4ddeab3",
   "metadata": {},
   "outputs": [
    {
     "data": {
      "text/plain": [
       "[2,\n",
       " 4,\n",
       " 6,\n",
       " 8,\n",
       " 10,\n",
       " [1, 'watermelon', 4.21, 11.4],\n",
       " [1, 'watermelon', 4.21, 11.4],\n",
       " ['a', 'b'],\n",
       " ['a', 'b']]"
      ]
     },
     "execution_count": 310,
     "metadata": {},
     "output_type": "execute_result"
    }
   ],
   "source": [
    "mylist5"
   ]
  },
  {
   "cell_type": "code",
   "execution_count": 312,
   "id": "845b85d0-c3d9-459c-8bd2-1f05f7d6c113",
   "metadata": {},
   "outputs": [],
   "source": [
    "mylist5.extend(mylist2)"
   ]
  },
  {
   "cell_type": "code",
   "execution_count": 314,
   "id": "0d875e2d-acc3-4af4-a394-c1f4b50cc413",
   "metadata": {
    "scrolled": true
   },
   "outputs": [
    {
     "data": {
      "text/plain": [
       "[2,\n",
       " 4,\n",
       " 6,\n",
       " 8,\n",
       " 10,\n",
       " [1, 'watermelon', 4.21, 11.4],\n",
       " [1, 'watermelon', 4.21, 11.4],\n",
       " ['a', 'b'],\n",
       " ['a', 'b'],\n",
       " 'a',\n",
       " 'b']"
      ]
     },
     "execution_count": 314,
     "metadata": {},
     "output_type": "execute_result"
    }
   ],
   "source": [
    "mylist5"
   ]
  },
  {
   "cell_type": "code",
   "execution_count": 318,
   "id": "83f33222-6a5d-415d-8acf-c1b2f44519fb",
   "metadata": {},
   "outputs": [],
   "source": [
    "mylist7 = [2,4,6,8,10]"
   ]
  },
  {
   "cell_type": "code",
   "execution_count": 320,
   "id": "c3b14b05-f09a-45bd-ac90-1bb4cf62f2a9",
   "metadata": {},
   "outputs": [
    {
     "data": {
      "text/plain": [
       "[2, 4, 6, 8, 10]"
      ]
     },
     "execution_count": 320,
     "metadata": {},
     "output_type": "execute_result"
    }
   ],
   "source": [
    "mylist7"
   ]
  },
  {
   "cell_type": "code",
   "execution_count": 322,
   "id": "7d09b9fd-f87d-4d03-adcb-3377079c7258",
   "metadata": {},
   "outputs": [],
   "source": [
    "mylist7.extend(mylist2)"
   ]
  },
  {
   "cell_type": "code",
   "execution_count": 324,
   "id": "c1eb4319-4f04-4cb4-9106-9b94afe286e5",
   "metadata": {},
   "outputs": [
    {
     "data": {
      "text/plain": [
       "[2, 4, 6, 8, 10, 'a', 'b']"
      ]
     },
     "execution_count": 324,
     "metadata": {},
     "output_type": "execute_result"
    }
   ],
   "source": [
    "mylist7"
   ]
  },
  {
   "cell_type": "code",
   "execution_count": 326,
   "id": "9a78b12e-630f-42c4-859e-530cfbbc1c06",
   "metadata": {},
   "outputs": [],
   "source": [
    "#\"python\" at index 4"
   ]
  },
  {
   "cell_type": "code",
   "execution_count": 335,
   "id": "117e69b7-df4f-49d9-8068-f5a8dcddf016",
   "metadata": {},
   "outputs": [],
   "source": [
    "mylist1 = [\"apple\",\"banana\"]\n",
    "mylist2 = [\"cherry\", \"dove\"]"
   ]
  },
  {
   "cell_type": "code",
   "execution_count": 337,
   "id": "0af429f5-6079-4581-b463-67bf977ada78",
   "metadata": {},
   "outputs": [
    {
     "data": {
      "text/plain": [
       "['apple', 'banana', 'cherry', 'dove']"
      ]
     },
     "execution_count": 337,
     "metadata": {},
     "output_type": "execute_result"
    }
   ],
   "source": [
    "mylist1 + mylist2"
   ]
  },
  {
   "cell_type": "code",
   "execution_count": 339,
   "id": "c52efcee-b2df-49e5-b333-efbfc53c5091",
   "metadata": {},
   "outputs": [],
   "source": [
    "mylist1 = [1,2]\n",
    "mylist2 = [3,4]"
   ]
  },
  {
   "cell_type": "code",
   "execution_count": 341,
   "id": "8fb424c9-a47d-4a6f-8bac-7d7881517bba",
   "metadata": {},
   "outputs": [
    {
     "data": {
      "text/plain": [
       "[1, 2, 3, 4]"
      ]
     },
     "execution_count": 341,
     "metadata": {},
     "output_type": "execute_result"
    }
   ],
   "source": [
    "mylist1 + mylist2"
   ]
  },
  {
   "cell_type": "code",
   "execution_count": 343,
   "id": "fa5920f2-3094-4978-9d46-57183cd6af22",
   "metadata": {},
   "outputs": [
    {
     "data": {
      "text/plain": [
       "[3, 4, 1, 2]"
      ]
     },
     "execution_count": 343,
     "metadata": {},
     "output_type": "execute_result"
    }
   ],
   "source": [
    "mylist2 + mylist1"
   ]
  },
  {
   "cell_type": "code",
   "execution_count": 356,
   "id": "97027af4-b7f4-4ca5-b9f5-90cca9620dbe",
   "metadata": {},
   "outputs": [
    {
     "data": {
      "text/plain": [
       "[2, 4, 6, 8, 10, 'a', 'b']"
      ]
     },
     "execution_count": 356,
     "metadata": {},
     "output_type": "execute_result"
    }
   ],
   "source": [
    "mylist7"
   ]
  },
  {
   "cell_type": "code",
   "execution_count": 368,
   "id": "c84a0cd2-0ee7-43df-90b8-6f5a80053917",
   "metadata": {},
   "outputs": [
    {
     "ename": "TypeError",
     "evalue": "list.remove() takes exactly one argument (6 given)",
     "output_type": "error",
     "traceback": [
      "\u001b[1;31m---------------------------------------------------------------------------\u001b[0m",
      "\u001b[1;31mTypeError\u001b[0m                                 Traceback (most recent call last)",
      "Cell \u001b[1;32mIn[368], line 1\u001b[0m\n\u001b[1;32m----> 1\u001b[0m mylist5\u001b[38;5;241m.\u001b[39mremove(\u001b[38;5;241m1\u001b[39m, \u001b[38;5;124m'\u001b[39m\u001b[38;5;124mwatermelon\u001b[39m\u001b[38;5;124m'\u001b[39m, \u001b[38;5;241m4.21\u001b[39m, \u001b[38;5;241m11.4\u001b[39m,\n\u001b[0;32m      2\u001b[0m  \u001b[38;5;124m'\u001b[39m\u001b[38;5;124ma\u001b[39m\u001b[38;5;124m'\u001b[39m, \u001b[38;5;124m'\u001b[39m\u001b[38;5;124mb\u001b[39m\u001b[38;5;124m'\u001b[39m)\n",
      "\u001b[1;31mTypeError\u001b[0m: list.remove() takes exactly one argument (6 given)"
     ]
    }
   ],
   "source": [
    "mylist5.remove(1, 'watermelon', 4.21, 11.4,\n",
    " 'a', 'b')"
   ]
  },
  {
   "cell_type": "code",
   "execution_count": 362,
   "id": "26bb5d18-1c75-432c-9b92-51a29c882559",
   "metadata": {},
   "outputs": [
    {
     "data": {
      "text/plain": [
       "[2,\n",
       " 4,\n",
       " 6,\n",
       " 8,\n",
       " 10,\n",
       " [1, 'watermelon', 4.21, 11.4],\n",
       " [1, 'watermelon', 4.21, 11.4],\n",
       " ['a', 'b'],\n",
       " ['a', 'b'],\n",
       " 'b']"
      ]
     },
     "execution_count": 362,
     "metadata": {},
     "output_type": "execute_result"
    }
   ],
   "source": [
    "mylist5"
   ]
  },
  {
   "cell_type": "code",
   "execution_count": 372,
   "id": "98b984d7-f07d-42b9-9d0e-41b81da3f030",
   "metadata": {},
   "outputs": [
    {
     "data": {
      "text/plain": [
       "'b'"
      ]
     },
     "execution_count": 372,
     "metadata": {},
     "output_type": "execute_result"
    }
   ],
   "source": [
    "mylist7.pop(6)"
   ]
  },
  {
   "cell_type": "code",
   "execution_count": 384,
   "id": "185f1f6d-b560-4b0a-b78d-17b616fef087",
   "metadata": {},
   "outputs": [],
   "source": [
    "del mylist7[5]"
   ]
  },
  {
   "cell_type": "code",
   "execution_count": 378,
   "id": "38b3d2c6-58fe-47a2-a1e0-16283ed02685",
   "metadata": {},
   "outputs": [],
   "source": [
    "mylist5.clear()"
   ]
  },
  {
   "cell_type": "code",
   "execution_count": 380,
   "id": "be4a36d5-8bf6-43f4-8dea-4935453af5d1",
   "metadata": {},
   "outputs": [
    {
     "data": {
      "text/plain": [
       "[]"
      ]
     },
     "execution_count": 380,
     "metadata": {},
     "output_type": "execute_result"
    }
   ],
   "source": [
    "mylist5"
   ]
  },
  {
   "cell_type": "code",
   "execution_count": 386,
   "id": "db37aba1-7d62-4e92-bc41-2ac221ea0ef8",
   "metadata": {},
   "outputs": [
    {
     "data": {
      "text/plain": [
       "[2, 4, 6, 8, 10]"
      ]
     },
     "execution_count": 386,
     "metadata": {},
     "output_type": "execute_result"
    }
   ],
   "source": [
    "mylist7"
   ]
  },
  {
   "cell_type": "code",
   "execution_count": 407,
   "id": "98afe2ea-9a89-489a-83cf-767712a496d1",
   "metadata": {},
   "outputs": [],
   "source": [
    "mylist2 = [3,4,1,2]"
   ]
  },
  {
   "cell_type": "code",
   "execution_count": 411,
   "id": "c478720e-d167-4544-9df7-6f559e638a44",
   "metadata": {},
   "outputs": [],
   "source": [
    "mylist2.sort()"
   ]
  },
  {
   "cell_type": "code",
   "execution_count": 413,
   "id": "8e9e2182-be09-4747-b87f-0bbff25db381",
   "metadata": {},
   "outputs": [
    {
     "data": {
      "text/plain": [
       "[1, 2, 3, 4]"
      ]
     },
     "execution_count": 413,
     "metadata": {},
     "output_type": "execute_result"
    }
   ],
   "source": [
    "mylist2"
   ]
  },
  {
   "cell_type": "code",
   "execution_count": 417,
   "id": "fe6595af-49ae-453d-a660-021c7ec70bb3",
   "metadata": {},
   "outputs": [],
   "source": [
    "mylist2.sort(reverse=True)"
   ]
  },
  {
   "cell_type": "code",
   "execution_count": 419,
   "id": "e8776202-3fd5-4bb9-adb5-26259de1ef5e",
   "metadata": {},
   "outputs": [
    {
     "data": {
      "text/plain": [
       "[4, 3, 2, 1]"
      ]
     },
     "execution_count": 419,
     "metadata": {},
     "output_type": "execute_result"
    }
   ],
   "source": [
    "mylist2"
   ]
  },
  {
   "cell_type": "code",
   "execution_count": 421,
   "id": "35a1a2da-3dd3-4bed-88ba-db054cc5343d",
   "metadata": {},
   "outputs": [],
   "source": [
    "mylist2 = [1,1,2,2,2,2]"
   ]
  },
  {
   "cell_type": "code",
   "execution_count": 423,
   "id": "cedb7467-94ba-4862-84e4-8cba4884a7b3",
   "metadata": {},
   "outputs": [
    {
     "data": {
      "text/plain": [
       "[1, 1, 2, 2, 2, 2]"
      ]
     },
     "execution_count": 423,
     "metadata": {},
     "output_type": "execute_result"
    }
   ],
   "source": [
    "mylist2"
   ]
  },
  {
   "cell_type": "code",
   "execution_count": 425,
   "id": "a72e39eb-5b67-4b8f-9cbe-388a221ab2aa",
   "metadata": {},
   "outputs": [
    {
     "data": {
      "text/plain": [
       "2"
      ]
     },
     "execution_count": 425,
     "metadata": {},
     "output_type": "execute_result"
    }
   ],
   "source": [
    "mylist2.count(1)"
   ]
  },
  {
   "cell_type": "code",
   "execution_count": 427,
   "id": "8a7ff200-980b-46f3-8cf3-af418f7c5e3c",
   "metadata": {},
   "outputs": [
    {
     "data": {
      "text/plain": [
       "4"
      ]
     },
     "execution_count": 427,
     "metadata": {},
     "output_type": "execute_result"
    }
   ],
   "source": [
    "mylist2.count(2)"
   ]
  },
  {
   "cell_type": "code",
   "execution_count": 429,
   "id": "c1d44613-fe9b-46e7-a8d4-af915f9a726c",
   "metadata": {},
   "outputs": [],
   "source": [
    "mylist2.reverse()"
   ]
  },
  {
   "cell_type": "code",
   "execution_count": 431,
   "id": "545e10c9-c2dc-49fd-95d0-4d784323ca74",
   "metadata": {},
   "outputs": [
    {
     "data": {
      "text/plain": [
       "[2, 2, 2, 2, 1, 1]"
      ]
     },
     "execution_count": 431,
     "metadata": {},
     "output_type": "execute_result"
    }
   ],
   "source": [
    "mylist2"
   ]
  },
  {
   "cell_type": "code",
   "execution_count": 433,
   "id": "190c8a8d-f7d9-42ec-8e9f-d53ab714ddf2",
   "metadata": {},
   "outputs": [],
   "source": [
    "mylist3 = [\"a\",\"b\",\"c\",\"d\"]"
   ]
  },
  {
   "cell_type": "code",
   "execution_count": 435,
   "id": "6e64f025-aa8e-4c6f-a44d-f7ed42bfd918",
   "metadata": {},
   "outputs": [
    {
     "data": {
      "text/plain": [
       "['a', 'b', 'c', 'd']"
      ]
     },
     "execution_count": 435,
     "metadata": {},
     "output_type": "execute_result"
    }
   ],
   "source": [
    "mylist3"
   ]
  },
  {
   "cell_type": "code",
   "execution_count": 439,
   "id": "ac6a54db-6352-43c7-bac1-c3cd3e27e477",
   "metadata": {},
   "outputs": [
    {
     "data": {
      "text/plain": [
       "3"
      ]
     },
     "execution_count": 439,
     "metadata": {},
     "output_type": "execute_result"
    }
   ],
   "source": [
    "mylist3.index(\"d\")"
   ]
  },
  {
   "cell_type": "code",
   "execution_count": 441,
   "id": "7ad600b1-cbfa-4f9f-901c-3dee0146ea6c",
   "metadata": {},
   "outputs": [],
   "source": [
    "#########################"
   ]
  },
  {
   "cell_type": "code",
   "execution_count": 443,
   "id": "3705bbe3-a67d-4590-b21d-02a1b315d88c",
   "metadata": {},
   "outputs": [],
   "source": [
    "x = 10\n",
    "y = 4"
   ]
  },
  {
   "cell_type": "code",
   "execution_count": 455,
   "id": "b18e6887-2ee7-4fc7-8813-bdea6a902259",
   "metadata": {},
   "outputs": [
    {
     "name": "stdout",
     "output_type": "stream",
     "text": [
      "14\n",
      "6\n",
      "40\n",
      "2.5\n",
      "2\n",
      "10000\n",
      "2\n"
     ]
    }
   ],
   "source": [
    "print(x+y) #14\n",
    "print(x-y) #6\n",
    "print(x*y) #40\n",
    "print(x/y) #2.5\n",
    "print(x%y) #2\n",
    "print(x**y) #10000\n",
    "print(x//y) #2"
   ]
  },
  {
   "cell_type": "code",
   "execution_count": 457,
   "id": "0ee2347f-cace-4475-90a1-3a51d9a55734",
   "metadata": {},
   "outputs": [
    {
     "name": "stdout",
     "output_type": "stream",
     "text": [
      "False\n",
      "True\n",
      "False\n",
      "True\n",
      "False\n",
      "True\n"
     ]
    }
   ],
   "source": [
    "print(x == y)\n",
    "print(x > y)\n",
    "print(x < y)\n",
    "print(x >= y)\n",
    "print(x <= y)\n",
    "print(x != y)"
   ]
  },
  {
   "cell_type": "code",
   "execution_count": 583,
   "id": "5b2bf835-88bf-4f11-8861-9ee4f661daaf",
   "metadata": {},
   "outputs": [],
   "source": [
    "x = 5\n",
    "y = 10\n",
    "z = 15"
   ]
  },
  {
   "cell_type": "raw",
   "id": "f8d27fd0-9cbe-453f-bfe3-b5e949a02fe8",
   "metadata": {},
   "source": [
    "1. and - both the conditions are true - 1\n",
    "2. or - atleast one of the conditions should be true - 1\n",
    "3. not - negation (opposite)"
   ]
  },
  {
   "cell_type": "code",
   "execution_count": 585,
   "id": "f0ff5844-ab78-4a59-bab0-eeebabe94421",
   "metadata": {},
   "outputs": [
    {
     "data": {
      "text/plain": [
       "True"
      ]
     },
     "execution_count": 585,
     "metadata": {},
     "output_type": "execute_result"
    }
   ],
   "source": [
    "x < y and y < z #true and true - true"
   ]
  },
  {
   "cell_type": "code",
   "execution_count": 587,
   "id": "ac2f8027-d8e2-4f94-ba74-1db3f927c369",
   "metadata": {},
   "outputs": [
    {
     "data": {
      "text/plain": [
       "True"
      ]
     },
     "execution_count": 587,
     "metadata": {},
     "output_type": "execute_result"
    }
   ],
   "source": [
    "x < y or y < z #true and true - true"
   ]
  },
  {
   "cell_type": "code",
   "execution_count": 589,
   "id": "4c3d4112-2bb4-4fc3-be3c-1459f1932e8b",
   "metadata": {},
   "outputs": [
    {
     "data": {
      "text/plain": [
       "False"
      ]
     },
     "execution_count": 589,
     "metadata": {},
     "output_type": "execute_result"
    }
   ],
   "source": [
    "not(x < y) #not(true) - false"
   ]
  },
  {
   "cell_type": "code",
   "execution_count": 591,
   "id": "5907126a-3c02-4efd-9e08-5a6ee67cc454",
   "metadata": {},
   "outputs": [
    {
     "data": {
      "text/plain": [
       "True"
      ]
     },
     "execution_count": 591,
     "metadata": {},
     "output_type": "execute_result"
    }
   ],
   "source": [
    "not(x > y) #not(false) - true "
   ]
  },
  {
   "cell_type": "code",
   "execution_count": 593,
   "id": "d5746163-0b13-40bf-b4ee-f850e7f23680",
   "metadata": {},
   "outputs": [],
   "source": [
    "x = 2"
   ]
  },
  {
   "cell_type": "code",
   "execution_count": 595,
   "id": "bc6f7ce5-b4d5-419e-9f9b-2e95a5502e14",
   "metadata": {},
   "outputs": [],
   "source": [
    "y = 4"
   ]
  },
  {
   "cell_type": "code",
   "execution_count": 597,
   "id": "b4e40f92-c1fe-4b83-b968-42d5603805f2",
   "metadata": {},
   "outputs": [
    {
     "name": "stdout",
     "output_type": "stream",
     "text": [
      "4\n"
     ]
    }
   ],
   "source": [
    "x = x + 2\n",
    "print(x)"
   ]
  },
  {
   "cell_type": "code",
   "execution_count": 599,
   "id": "96a04a44-b65f-4e5b-8651-6cf93999083a",
   "metadata": {},
   "outputs": [
    {
     "name": "stdout",
     "output_type": "stream",
     "text": [
      "8\n"
     ]
    }
   ],
   "source": [
    "x = x * 2\n",
    "print(x)"
   ]
  },
  {
   "cell_type": "code",
   "execution_count": 601,
   "id": "f962b9ce-028d-41d9-aa9e-f175e6d60a71",
   "metadata": {},
   "outputs": [
    {
     "name": "stdout",
     "output_type": "stream",
     "text": [
      "4.0\n"
     ]
    }
   ],
   "source": [
    "x = x/2\n",
    "print(x)"
   ]
  },
  {
   "cell_type": "code",
   "execution_count": 603,
   "id": "949d4ca0-da49-4fcc-a92e-7908f3efeb3a",
   "metadata": {},
   "outputs": [
    {
     "name": "stdout",
     "output_type": "stream",
     "text": [
      "16.0\n"
     ]
    }
   ],
   "source": [
    "x = x ** 2\n",
    "print(x)"
   ]
  },
  {
   "cell_type": "code",
   "execution_count": 607,
   "id": "2fa804b7-9e1e-4b8e-a697-4bb9ddd30fc9",
   "metadata": {},
   "outputs": [
    {
     "name": "stdout",
     "output_type": "stream",
     "text": [
      "1.1428571428571428\n"
     ]
    }
   ],
   "source": [
    "x = x / 2\n",
    "print(x)"
   ]
  },
  {
   "cell_type": "code",
   "execution_count": 609,
   "id": "b7d7e051-af03-4381-95bc-0c09296b5215",
   "metadata": {},
   "outputs": [
    {
     "name": "stdout",
     "output_type": "stream",
     "text": [
      "1.1428571428571428\n"
     ]
    }
   ],
   "source": [
    "x = x%2\n",
    "print(x)"
   ]
  },
  {
   "cell_type": "code",
   "execution_count": 611,
   "id": "82af7c5b-6b79-4b7b-9626-24745c076e2f",
   "metadata": {},
   "outputs": [
    {
     "data": {
      "text/plain": [
       "True"
      ]
     },
     "execution_count": 611,
     "metadata": {},
     "output_type": "execute_result"
    }
   ],
   "source": [
    "\"a\" in \"banana\""
   ]
  },
  {
   "cell_type": "code",
   "execution_count": 613,
   "id": "af02510b-f08c-4070-9d58-568e83ff461c",
   "metadata": {},
   "outputs": [
    {
     "data": {
      "text/plain": [
       "False"
      ]
     },
     "execution_count": 613,
     "metadata": {},
     "output_type": "execute_result"
    }
   ],
   "source": [
    "\"c\" in \"apple\""
   ]
  },
  {
   "cell_type": "code",
   "execution_count": 615,
   "id": "078b8f92-6de6-4fe2-b574-5369d55d0ca1",
   "metadata": {},
   "outputs": [
    {
     "data": {
      "text/plain": [
       "True"
      ]
     },
     "execution_count": 615,
     "metadata": {},
     "output_type": "execute_result"
    }
   ],
   "source": [
    "\"c\" not in \"apple\""
   ]
  },
  {
   "cell_type": "code",
   "execution_count": 617,
   "id": "4769c3b3-547c-4225-bf0e-2153b844a207",
   "metadata": {},
   "outputs": [
    {
     "data": {
      "text/plain": [
       "False"
      ]
     },
     "execution_count": 617,
     "metadata": {},
     "output_type": "execute_result"
    }
   ],
   "source": [
    "\"a\" not in \"banana\""
   ]
  },
  {
   "cell_type": "code",
   "execution_count": 627,
   "id": "8476ca05-e7ab-4399-9f54-c0709f9ab820",
   "metadata": {},
   "outputs": [],
   "source": [
    "x = 10\n",
    "y = 15"
   ]
  },
  {
   "cell_type": "code",
   "execution_count": 631,
   "id": "a1693234-8ee0-470f-a85d-742a1d815204",
   "metadata": {},
   "outputs": [
    {
     "data": {
      "text/plain": [
       "False"
      ]
     },
     "execution_count": 631,
     "metadata": {},
     "output_type": "execute_result"
    }
   ],
   "source": [
    "x is y"
   ]
  },
  {
   "cell_type": "code",
   "execution_count": 629,
   "id": "ea6306a8-d44f-4861-8260-adb1f1233315",
   "metadata": {},
   "outputs": [
    {
     "data": {
      "text/plain": [
       "True"
      ]
     },
     "execution_count": 629,
     "metadata": {},
     "output_type": "execute_result"
    }
   ],
   "source": [
    "x is not y"
   ]
  },
  {
   "cell_type": "markdown",
   "id": "0d6cf7b6-9f65-4426-845b-bfa5c164c9fd",
   "metadata": {},
   "source": [
    "bodmas"
   ]
  },
  {
   "cell_type": "code",
   "execution_count": 633,
   "id": "e7424661-2d93-4340-b4ac-3c901e80bc66",
   "metadata": {},
   "outputs": [
    {
     "data": {
      "text/plain": [
       "int"
      ]
     },
     "execution_count": 633,
     "metadata": {},
     "output_type": "execute_result"
    }
   ],
   "source": [
    "type(x)"
   ]
  },
  {
   "cell_type": "code",
   "execution_count": 635,
   "id": "e4426607-8feb-4b7a-b295-02c00b4c003e",
   "metadata": {},
   "outputs": [],
   "source": [
    "x = float(x)"
   ]
  },
  {
   "cell_type": "code",
   "execution_count": 637,
   "id": "7cc0602b-afbc-48ba-8282-acea0ac94d96",
   "metadata": {},
   "outputs": [
    {
     "data": {
      "text/plain": [
       "float"
      ]
     },
     "execution_count": 637,
     "metadata": {},
     "output_type": "execute_result"
    }
   ],
   "source": [
    "type(x)"
   ]
  },
  {
   "cell_type": "code",
   "execution_count": 639,
   "id": "82013d0f-f6b2-4b72-9745-ec1b56fb1c8e",
   "metadata": {},
   "outputs": [],
   "source": [
    "y = 2.0"
   ]
  },
  {
   "cell_type": "code",
   "execution_count": 641,
   "id": "22a1edd6-d29b-47a5-a744-e6c38a7d133b",
   "metadata": {},
   "outputs": [
    {
     "data": {
      "text/plain": [
       "float"
      ]
     },
     "execution_count": 641,
     "metadata": {},
     "output_type": "execute_result"
    }
   ],
   "source": [
    "type(y)"
   ]
  },
  {
   "cell_type": "code",
   "execution_count": 643,
   "id": "ee1abfd5-cc28-4db5-9c96-1d3f094db4d8",
   "metadata": {},
   "outputs": [
    {
     "data": {
      "text/plain": [
       "2.0"
      ]
     },
     "execution_count": 643,
     "metadata": {},
     "output_type": "execute_result"
    }
   ],
   "source": [
    "y"
   ]
  },
  {
   "cell_type": "code",
   "execution_count": 645,
   "id": "4c8d7832-5aa9-414b-9a38-98a122c9ae93",
   "metadata": {},
   "outputs": [],
   "source": [
    "y = int(y)"
   ]
  },
  {
   "cell_type": "code",
   "execution_count": 647,
   "id": "93a0e56f-0bfe-4435-b5eb-715160ab6dcb",
   "metadata": {},
   "outputs": [
    {
     "data": {
      "text/plain": [
       "int"
      ]
     },
     "execution_count": 647,
     "metadata": {},
     "output_type": "execute_result"
    }
   ],
   "source": [
    "type(y)"
   ]
  },
  {
   "cell_type": "code",
   "execution_count": 649,
   "id": "1da40659-5dbf-4477-8945-725b6a3c7c04",
   "metadata": {},
   "outputs": [],
   "source": [
    "x = 1"
   ]
  },
  {
   "cell_type": "code",
   "execution_count": 651,
   "id": "955ebf0b-dd93-4ab6-86b7-61c079402944",
   "metadata": {},
   "outputs": [],
   "source": [
    "x = bool(x)"
   ]
  },
  {
   "cell_type": "code",
   "execution_count": 655,
   "id": "81ea3bb7-6d72-47e7-b902-5477e700db3a",
   "metadata": {},
   "outputs": [
    {
     "data": {
      "text/plain": [
       "bool"
      ]
     },
     "execution_count": 655,
     "metadata": {},
     "output_type": "execute_result"
    }
   ],
   "source": [
    "type(x)"
   ]
  },
  {
   "cell_type": "code",
   "execution_count": 657,
   "id": "caaa4ab7-9aad-4b81-93bc-a2c8b7a4ee67",
   "metadata": {},
   "outputs": [],
   "source": [
    "x = \"1234\""
   ]
  },
  {
   "cell_type": "code",
   "execution_count": 659,
   "id": "080f487f-9dba-4744-949f-6d43bcac0b65",
   "metadata": {},
   "outputs": [
    {
     "data": {
      "text/plain": [
       "'1234'"
      ]
     },
     "execution_count": 659,
     "metadata": {},
     "output_type": "execute_result"
    }
   ],
   "source": [
    "x"
   ]
  },
  {
   "cell_type": "code",
   "execution_count": 661,
   "id": "36372c7d-9b96-4e4a-9caa-4f11f1896cb9",
   "metadata": {},
   "outputs": [
    {
     "data": {
      "text/plain": [
       "str"
      ]
     },
     "execution_count": 661,
     "metadata": {},
     "output_type": "execute_result"
    }
   ],
   "source": [
    "type(x)"
   ]
  },
  {
   "cell_type": "code",
   "execution_count": 663,
   "id": "9bd8f6a9-b352-448e-bee5-ba3cc8d65912",
   "metadata": {},
   "outputs": [],
   "source": [
    "y = 2.5"
   ]
  },
  {
   "cell_type": "code",
   "execution_count": 665,
   "id": "031c7b43-cb1e-4a20-a366-d02fd1dcd32d",
   "metadata": {},
   "outputs": [],
   "source": [
    "y = int(y)"
   ]
  },
  {
   "cell_type": "code",
   "execution_count": 667,
   "id": "076b2e85-3d9f-4aa4-b92c-d6edd90c14e9",
   "metadata": {},
   "outputs": [
    {
     "data": {
      "text/plain": [
       "int"
      ]
     },
     "execution_count": 667,
     "metadata": {},
     "output_type": "execute_result"
    }
   ],
   "source": [
    "type(y)"
   ]
  },
  {
   "cell_type": "code",
   "execution_count": 669,
   "id": "c5c741c0-be74-49c9-abef-a95a95b32be1",
   "metadata": {},
   "outputs": [
    {
     "data": {
      "text/plain": [
       "2"
      ]
     },
     "execution_count": 669,
     "metadata": {},
     "output_type": "execute_result"
    }
   ],
   "source": [
    "y"
   ]
  },
  {
   "cell_type": "code",
   "execution_count": 677,
   "id": "3cd155f1-18bf-4f29-84ef-a2c033b3a1a7",
   "metadata": {},
   "outputs": [
    {
     "ename": "NameError",
     "evalue": "name 'b' is not defined",
     "output_type": "error",
     "traceback": [
      "\u001b[1;31m---------------------------------------------------------------------------\u001b[0m",
      "\u001b[1;31mNameError\u001b[0m                                 Traceback (most recent call last)",
      "Cell \u001b[1;32mIn[677], line 1\u001b[0m\n\u001b[1;32m----> 1\u001b[0m b\n",
      "\u001b[1;31mNameError\u001b[0m: name 'b' is not defined"
     ]
    }
   ],
   "source": [
    "b"
   ]
  },
  {
   "cell_type": "code",
   "execution_count": 673,
   "id": "03b5ae88-b4de-4230-8951-76b042767589",
   "metadata": {},
   "outputs": [
    {
     "ename": "ValueError",
     "evalue": "invalid literal for int() with base 10: '2.0'",
     "output_type": "error",
     "traceback": [
      "\u001b[1;31m---------------------------------------------------------------------------\u001b[0m",
      "\u001b[1;31mValueError\u001b[0m                                Traceback (most recent call last)",
      "Cell \u001b[1;32mIn[673], line 1\u001b[0m\n\u001b[1;32m----> 1\u001b[0m a \u001b[38;5;241m=\u001b[39m \u001b[38;5;28mint\u001b[39m(a)\n",
      "\u001b[1;31mValueError\u001b[0m: invalid literal for int() with base 10: '2.0'"
     ]
    }
   ],
   "source": []
  },
  {
   "cell_type": "code",
   "execution_count": 675,
   "id": "d1f21e96-ecff-43d2-8e75-aba33311085e",
   "metadata": {},
   "outputs": [
    {
     "data": {
      "text/plain": [
       "'2.0'"
      ]
     },
     "execution_count": 675,
     "metadata": {},
     "output_type": "execute_result"
    }
   ],
   "source": [
    "a"
   ]
  },
  {
   "cell_type": "code",
   "execution_count": null,
   "id": "ccd18128-7d07-4cb7-af4c-52dca02d20c8",
   "metadata": {},
   "outputs": [],
   "source": []
  },
  {
   "cell_type": "code",
   "execution_count": null,
   "id": "c4e0791c-fb3a-455b-8ae1-8144e8796fb2",
   "metadata": {},
   "outputs": [],
   "source": []
  },
  {
   "cell_type": "code",
   "execution_count": null,
   "id": "9a00714d-99de-4737-8d72-218b1400af60",
   "metadata": {},
   "outputs": [],
   "source": []
  },
  {
   "cell_type": "code",
   "execution_count": null,
   "id": "176056da-0d33-46c2-8430-219b40003e58",
   "metadata": {},
   "outputs": [],
   "source": []
  },
  {
   "cell_type": "code",
   "execution_count": null,
   "id": "38555633-463d-4151-9b43-c6d2b26dcbcc",
   "metadata": {},
   "outputs": [],
   "source": []
  },
  {
   "cell_type": "code",
   "execution_count": null,
   "id": "9e685d37-aeb8-4586-96b2-9f34fe15412e",
   "metadata": {},
   "outputs": [],
   "source": []
  },
  {
   "cell_type": "code",
   "execution_count": null,
   "id": "233122bb-b4bb-4c61-b890-c129061e94ab",
   "metadata": {},
   "outputs": [],
   "source": []
  },
  {
   "cell_type": "code",
   "execution_count": null,
   "id": "6eb60b4b-37e9-4028-965d-5c72f72a9820",
   "metadata": {},
   "outputs": [],
   "source": []
  },
  {
   "cell_type": "code",
   "execution_count": null,
   "id": "5af52c65-4951-49e4-acde-9d1ad773df65",
   "metadata": {},
   "outputs": [],
   "source": []
  },
  {
   "cell_type": "code",
   "execution_count": null,
   "id": "4e5dc06c-5cb4-404f-8cf3-e7f29ba4632b",
   "metadata": {},
   "outputs": [],
   "source": []
  },
  {
   "cell_type": "code",
   "execution_count": null,
   "id": "e16f23ae-c00b-4a7c-b71c-2a96d7369cd9",
   "metadata": {},
   "outputs": [],
   "source": []
  },
  {
   "cell_type": "code",
   "execution_count": null,
   "id": "a907c939-7ad9-48bf-a765-83024c7f8252",
   "metadata": {},
   "outputs": [],
   "source": []
  },
  {
   "cell_type": "code",
   "execution_count": null,
   "id": "8dcbe068-1709-498f-8c38-100d0ac19b6e",
   "metadata": {},
   "outputs": [],
   "source": []
  },
  {
   "cell_type": "code",
   "execution_count": null,
   "id": "257fe0fd-5b0e-4ba6-9fe4-665eb2d919f8",
   "metadata": {},
   "outputs": [],
   "source": []
  },
  {
   "cell_type": "code",
   "execution_count": null,
   "id": "5fde4f81-bff7-4d06-83ed-91b42e91ac20",
   "metadata": {},
   "outputs": [],
   "source": []
  },
  {
   "cell_type": "code",
   "execution_count": null,
   "id": "1992aaf9-4771-488d-9cc6-e6bf4ea2a282",
   "metadata": {},
   "outputs": [],
   "source": []
  },
  {
   "cell_type": "code",
   "execution_count": null,
   "id": "c2ed7e6d-0858-414b-9722-bdadac8e79e3",
   "metadata": {},
   "outputs": [],
   "source": []
  },
  {
   "cell_type": "code",
   "execution_count": null,
   "id": "65a35228-2b43-4456-8487-ec8f279b711f",
   "metadata": {},
   "outputs": [],
   "source": []
  },
  {
   "cell_type": "code",
   "execution_count": null,
   "id": "c72bb733-ad1a-4a14-9be0-c0dd4fe0e2b1",
   "metadata": {},
   "outputs": [],
   "source": []
  },
  {
   "cell_type": "code",
   "execution_count": null,
   "id": "5fd27ad3-32a6-4929-a619-6e5f65bfcab2",
   "metadata": {},
   "outputs": [],
   "source": []
  },
  {
   "cell_type": "code",
   "execution_count": null,
   "id": "0a33f3f5-96c3-4795-ac8a-e9bc1598d158",
   "metadata": {},
   "outputs": [],
   "source": []
  },
  {
   "cell_type": "code",
   "execution_count": null,
   "id": "0f31733a-4226-4c58-add2-fa419578b2ae",
   "metadata": {},
   "outputs": [],
   "source": []
  },
  {
   "cell_type": "code",
   "execution_count": null,
   "id": "8e41fb43-26e6-4393-aa50-c4653d507997",
   "metadata": {},
   "outputs": [],
   "source": []
  },
  {
   "cell_type": "code",
   "execution_count": null,
   "id": "3e9093a3-935a-4365-b4d9-85d6cbd66776",
   "metadata": {},
   "outputs": [],
   "source": []
  },
  {
   "cell_type": "code",
   "execution_count": null,
   "id": "d07fea79-7c93-4de3-8896-485cf9a8971e",
   "metadata": {},
   "outputs": [],
   "source": []
  },
  {
   "cell_type": "code",
   "execution_count": null,
   "id": "4bb7f1f9-440d-4e39-bca8-b0b9b736e8d9",
   "metadata": {},
   "outputs": [],
   "source": []
  },
  {
   "cell_type": "code",
   "execution_count": null,
   "id": "8e807c6f-c0b5-4599-8262-e9a5e7d889e2",
   "metadata": {},
   "outputs": [],
   "source": []
  },
  {
   "cell_type": "code",
   "execution_count": null,
   "id": "1eb26c43-572e-47af-bf7d-522a228455fa",
   "metadata": {},
   "outputs": [],
   "source": []
  },
  {
   "cell_type": "code",
   "execution_count": null,
   "id": "f95414fa-9934-4906-bc6e-e8ecc0c245fe",
   "metadata": {},
   "outputs": [],
   "source": []
  },
  {
   "cell_type": "code",
   "execution_count": null,
   "id": "adfa730a-2421-47a2-a385-fb251b5f951e",
   "metadata": {},
   "outputs": [],
   "source": []
  },
  {
   "cell_type": "code",
   "execution_count": null,
   "id": "284cd4cf-1b9d-4d99-a664-8f315a059b5a",
   "metadata": {},
   "outputs": [],
   "source": []
  },
  {
   "cell_type": "code",
   "execution_count": null,
   "id": "07530101-1ab6-489d-b8b5-05cb372d6697",
   "metadata": {},
   "outputs": [],
   "source": []
  },
  {
   "cell_type": "code",
   "execution_count": null,
   "id": "3e33deea-dcae-4ffe-9671-baf469fc766c",
   "metadata": {},
   "outputs": [],
   "source": []
  },
  {
   "cell_type": "code",
   "execution_count": null,
   "id": "7a94a416-94f2-4c11-814d-2b49da0589f9",
   "metadata": {},
   "outputs": [],
   "source": []
  },
  {
   "cell_type": "code",
   "execution_count": null,
   "id": "aa71af30-2533-4e90-af6e-af3c19431321",
   "metadata": {},
   "outputs": [],
   "source": []
  },
  {
   "cell_type": "code",
   "execution_count": null,
   "id": "be35bfce-a114-45dc-868e-b60d020b4d39",
   "metadata": {},
   "outputs": [],
   "source": []
  },
  {
   "cell_type": "code",
   "execution_count": null,
   "id": "d1106e33-cdf7-4f5c-b13d-72c2aec32022",
   "metadata": {},
   "outputs": [],
   "source": []
  },
  {
   "cell_type": "code",
   "execution_count": null,
   "id": "cf40e0bb-5a47-4c7a-ac6e-3c025bf45e2d",
   "metadata": {},
   "outputs": [],
   "source": []
  },
  {
   "cell_type": "code",
   "execution_count": null,
   "id": "64d6b03c-9945-45b3-9a57-2bf35356bf6a",
   "metadata": {},
   "outputs": [],
   "source": []
  },
  {
   "cell_type": "code",
   "execution_count": null,
   "id": "28bb47e2-1a79-4198-a4b8-85af32a3d974",
   "metadata": {},
   "outputs": [],
   "source": []
  },
  {
   "cell_type": "code",
   "execution_count": null,
   "id": "6211ea3d-89c7-4f14-b0ca-9a756da8dc44",
   "metadata": {},
   "outputs": [],
   "source": []
  },
  {
   "cell_type": "code",
   "execution_count": null,
   "id": "49a84045-bc06-4b72-a3cc-d8325111799a",
   "metadata": {},
   "outputs": [],
   "source": []
  },
  {
   "cell_type": "code",
   "execution_count": null,
   "id": "43d03a90-8e70-4a36-b7de-49c149bc9bad",
   "metadata": {},
   "outputs": [],
   "source": []
  },
  {
   "cell_type": "code",
   "execution_count": null,
   "id": "dbdf0fcc-d983-495b-a7d4-2b3db9daea3c",
   "metadata": {},
   "outputs": [],
   "source": []
  },
  {
   "cell_type": "code",
   "execution_count": null,
   "id": "56c45867-8dc2-4a7a-abed-2056bdf8f93c",
   "metadata": {},
   "outputs": [],
   "source": []
  },
  {
   "cell_type": "code",
   "execution_count": null,
   "id": "3b7d0089-a0bb-453e-b36d-4d55263c598b",
   "metadata": {},
   "outputs": [],
   "source": []
  },
  {
   "cell_type": "code",
   "execution_count": null,
   "id": "5b623305-a2bc-4f74-81bf-d3ee39f0b2fa",
   "metadata": {},
   "outputs": [],
   "source": []
  },
  {
   "cell_type": "code",
   "execution_count": null,
   "id": "7d9a0df4-c3f4-4240-ae5f-ca5fe59f8f24",
   "metadata": {},
   "outputs": [],
   "source": []
  },
  {
   "cell_type": "code",
   "execution_count": null,
   "id": "e60dcaef-a28d-47f0-8ce1-75f959764183",
   "metadata": {},
   "outputs": [],
   "source": []
  },
  {
   "cell_type": "code",
   "execution_count": null,
   "id": "60ed8283-c790-441f-842c-f6e801b55b3c",
   "metadata": {},
   "outputs": [],
   "source": []
  },
  {
   "cell_type": "code",
   "execution_count": null,
   "id": "6dc8a076-128b-442d-830f-6795b0d677bc",
   "metadata": {},
   "outputs": [],
   "source": []
  },
  {
   "cell_type": "code",
   "execution_count": null,
   "id": "cec32c6b-5d8a-4011-a03c-51652a38672c",
   "metadata": {},
   "outputs": [],
   "source": []
  },
  {
   "cell_type": "code",
   "execution_count": null,
   "id": "62595231-2e6a-43e5-8ca2-d8ecdb6f71d6",
   "metadata": {},
   "outputs": [],
   "source": []
  },
  {
   "cell_type": "code",
   "execution_count": null,
   "id": "fff929fe-0c0b-489f-b54f-50949497cfa1",
   "metadata": {},
   "outputs": [],
   "source": []
  },
  {
   "cell_type": "code",
   "execution_count": null,
   "id": "60b0d1d9-40c9-40f1-a1bb-180e4c0c9b11",
   "metadata": {},
   "outputs": [],
   "source": []
  },
  {
   "cell_type": "code",
   "execution_count": null,
   "id": "0b76c32d-b8b6-4ba2-8d82-0606b6376a7e",
   "metadata": {},
   "outputs": [],
   "source": []
  },
  {
   "cell_type": "code",
   "execution_count": null,
   "id": "e0f1b360-33a1-480d-adca-f499e4a02c94",
   "metadata": {},
   "outputs": [],
   "source": []
  },
  {
   "cell_type": "code",
   "execution_count": null,
   "id": "90c8bc21-523a-442b-8b60-0b2547239240",
   "metadata": {},
   "outputs": [],
   "source": []
  },
  {
   "cell_type": "code",
   "execution_count": null,
   "id": "6084bfb8-b504-4367-9228-535868f32ade",
   "metadata": {},
   "outputs": [],
   "source": []
  },
  {
   "cell_type": "code",
   "execution_count": null,
   "id": "dacd5de8-c25e-49b1-a0b1-2b908700cb0d",
   "metadata": {},
   "outputs": [],
   "source": []
  },
  {
   "cell_type": "code",
   "execution_count": null,
   "id": "1d47453b-8589-4625-853b-1dcaa09cc961",
   "metadata": {},
   "outputs": [],
   "source": []
  },
  {
   "cell_type": "code",
   "execution_count": null,
   "id": "83158feb-e510-4f61-ad81-56d525052caf",
   "metadata": {},
   "outputs": [],
   "source": []
  },
  {
   "cell_type": "code",
   "execution_count": null,
   "id": "007e7da9-26bb-4f3c-b456-6ebcc3624ed1",
   "metadata": {},
   "outputs": [],
   "source": []
  },
  {
   "cell_type": "code",
   "execution_count": null,
   "id": "7418494e-eaad-4709-8d9c-5cdec9eb4d05",
   "metadata": {},
   "outputs": [],
   "source": []
  },
  {
   "cell_type": "code",
   "execution_count": null,
   "id": "0c123b33-706b-4f24-b731-31e866e038a7",
   "metadata": {},
   "outputs": [],
   "source": []
  },
  {
   "cell_type": "code",
   "execution_count": null,
   "id": "0f3ec6f3-d518-466f-bf2d-0e2818d9e130",
   "metadata": {},
   "outputs": [],
   "source": []
  },
  {
   "cell_type": "code",
   "execution_count": null,
   "id": "e966357c-6789-4020-9ea1-570af26faa14",
   "metadata": {},
   "outputs": [],
   "source": []
  },
  {
   "cell_type": "code",
   "execution_count": null,
   "id": "08a3288b-ccb1-4238-bd89-34831932c4d7",
   "metadata": {},
   "outputs": [],
   "source": []
  },
  {
   "cell_type": "code",
   "execution_count": null,
   "id": "d0240a37-feb6-46c9-ade6-e20bdc829410",
   "metadata": {},
   "outputs": [],
   "source": []
  },
  {
   "cell_type": "code",
   "execution_count": null,
   "id": "564ab388-ae3b-4824-9705-ed122142fdc8",
   "metadata": {},
   "outputs": [],
   "source": []
  },
  {
   "cell_type": "code",
   "execution_count": null,
   "id": "ed4d693b-36ae-41c9-8007-9864aad9146a",
   "metadata": {},
   "outputs": [],
   "source": []
  },
  {
   "cell_type": "code",
   "execution_count": null,
   "id": "96c783f7-b46e-4369-86a7-17c6af81a4f4",
   "metadata": {},
   "outputs": [],
   "source": []
  },
  {
   "cell_type": "code",
   "execution_count": null,
   "id": "e692ccf8-5af7-4101-9ff8-7cc970e5099c",
   "metadata": {},
   "outputs": [],
   "source": []
  }
 ],
 "metadata": {
  "kernelspec": {
   "display_name": "Python [conda env:base] *",
   "language": "python",
   "name": "conda-base-py"
  },
  "language_info": {
   "codemirror_mode": {
    "name": "ipython",
    "version": 3
   },
   "file_extension": ".py",
   "mimetype": "text/x-python",
   "name": "python",
   "nbconvert_exporter": "python",
   "pygments_lexer": "ipython3",
   "version": "3.12.7"
  }
 },
 "nbformat": 4,
 "nbformat_minor": 5
}
