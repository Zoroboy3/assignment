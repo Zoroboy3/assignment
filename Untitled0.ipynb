{
  "nbformat": 4,
  "nbformat_minor": 0,
  "metadata": {
    "colab": {
      "provenance": []
    },
    "kernelspec": {
      "name": "python3",
      "display_name": "Python 3"
    },
    "language_info": {
      "name": "python"
    }
  },
  "cells": [
    {
      "cell_type": "code",
      "execution_count": null,
      "metadata": {
        "id": "iMYynG2dzfwx"
      },
      "outputs": [],
      "source": [
        "h= \"hello world\"\n",
        "print(h)"
      ]
    },
    {
      "cell_type": "code",
      "source": [],
      "metadata": {
        "id": "O_MJFHYqz45b"
      },
      "execution_count": null,
      "outputs": []
    },
    {
      "cell_type": "markdown",
      "source": [
        "what is python?\n",
        "\n",
        "\n",
        "* python is a programming launguage\n",
        "*\n",
        "\n"
      ],
      "metadata": {
        "id": "MZVvDiwKz6WT"
      }
    },
    {
      "cell_type": "markdown",
      "source": [
        "1. what is python or ai?\n",
        "\n",
        "\n",
        "*   List item\n",
        "*   List item\n",
        "\n"
      ],
      "metadata": {
        "id": "qRUNkRHiz_Gk"
      }
    },
    {
      "cell_type": "code",
      "source": [
        "print(\"hello\")\n"
      ],
      "metadata": {
        "id": "iX1IDYz40tTZ"
      },
      "execution_count": null,
      "outputs": []
    }
  ]
}