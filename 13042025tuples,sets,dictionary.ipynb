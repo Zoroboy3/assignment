{
 "cells": [
  {
   "cell_type": "markdown",
   "id": "bc286a50-0fab-4484-a611-55f21061fabd",
   "metadata": {},
   "source": [
    "Tuples"
   ]
  },
  {
   "cell_type": "code",
   "execution_count": 10,
   "id": "207261e4-df29-41f3-85f2-361d807ad475",
   "metadata": {},
   "outputs": [],
   "source": [
    "t1 = tuple()"
   ]
  },
  {
   "cell_type": "code",
   "execution_count": 12,
   "id": "ef66b13b-35d3-47a8-acdc-1679c252539f",
   "metadata": {},
   "outputs": [
    {
     "name": "stdout",
     "output_type": "stream",
     "text": [
      "<class 'tuple'>\n"
     ]
    }
   ],
   "source": [
    "print(type(t1))"
   ]
  },
  {
   "cell_type": "code",
   "execution_count": 14,
   "id": "eff4fce3-5dbd-4b83-b1f5-0f008ca8b3b0",
   "metadata": {},
   "outputs": [],
   "source": [
    "t2 = ()"
   ]
  },
  {
   "cell_type": "code",
   "execution_count": 16,
   "id": "8030522a-4b33-42c5-a72c-a86422dd484a",
   "metadata": {},
   "outputs": [
    {
     "name": "stdout",
     "output_type": "stream",
     "text": [
      "<class 'tuple'>\n"
     ]
    }
   ],
   "source": [
    "print(type(t2))"
   ]
  },
  {
   "cell_type": "code",
   "execution_count": 18,
   "id": "519d1ba0-4282-4af9-a4fc-c51e527d16b0",
   "metadata": {},
   "outputs": [
    {
     "ename": "SyntaxError",
     "evalue": "cannot assign to literal here. Maybe you meant '==' instead of '='? (4254821479.py, line 1)",
     "output_type": "error",
     "traceback": [
      "\u001b[1;36m  Cell \u001b[1;32mIn[18], line 1\u001b[1;36m\u001b[0m\n\u001b[1;33m    11 = [1,2,3,4]\u001b[0m\n\u001b[1;37m    ^\u001b[0m\n\u001b[1;31mSyntaxError\u001b[0m\u001b[1;31m:\u001b[0m cannot assign to literal here. Maybe you meant '==' instead of '='?\n"
     ]
    }
   ],
   "source": [
    "11 = [1,2,3,4]"
   ]
  },
  {
   "cell_type": "code",
   "execution_count": 20,
   "id": "f06947ec-ef4f-49e2-bfff-720f6bfd473a",
   "metadata": {},
   "outputs": [
    {
     "data": {
      "text/plain": [
       "int"
      ]
     },
     "execution_count": 20,
     "metadata": {},
     "output_type": "execute_result"
    }
   ],
   "source": [
    "type(11)"
   ]
  },
  {
   "cell_type": "code",
   "execution_count": 22,
   "id": "9e2fa21d-bc9f-4a95-9303-3ce8a1dcccdf",
   "metadata": {},
   "outputs": [],
   "source": [
    "t1 = (1,\"python\",13.5,\"a\",True)"
   ]
  },
  {
   "cell_type": "code",
   "execution_count": 24,
   "id": "47ee678c-f282-40b9-a89a-bb283c4baee1",
   "metadata": {},
   "outputs": [
    {
     "name": "stdout",
     "output_type": "stream",
     "text": [
      "<class 'tuple'>\n"
     ]
    }
   ],
   "source": [
    "print(type(t1))"
   ]
  },
  {
   "cell_type": "code",
   "execution_count": 37,
   "id": "3d2e682c-8f1e-4757-97b3-59f13e06dc32",
   "metadata": {},
   "outputs": [
    {
     "data": {
      "text/plain": [
       "13.5"
      ]
     },
     "execution_count": 37,
     "metadata": {},
     "output_type": "execute_result"
    }
   ],
   "source": [
    "t1[2]"
   ]
  },
  {
   "cell_type": "code",
   "execution_count": 39,
   "id": "32325448-b16d-459f-bcb8-c862c97838dc",
   "metadata": {},
   "outputs": [
    {
     "data": {
      "text/plain": [
       "13.5"
      ]
     },
     "execution_count": 39,
     "metadata": {},
     "output_type": "execute_result"
    }
   ],
   "source": [
    "t1[-3]"
   ]
  },
  {
   "cell_type": "code",
   "execution_count": 41,
   "id": "0c40c2f9-0571-4278-8f37-7da4e7fd9e1c",
   "metadata": {},
   "outputs": [
    {
     "data": {
      "text/plain": [
       "(1, 'python', 13.5)"
      ]
     },
     "execution_count": 41,
     "metadata": {},
     "output_type": "execute_result"
    }
   ],
   "source": [
    "t1[:3]"
   ]
  },
  {
   "cell_type": "code",
   "execution_count": 45,
   "id": "41109726-1a50-4568-8729-0b4d76405db8",
   "metadata": {},
   "outputs": [],
   "source": [
    "t1 = (1,14.2,\"java\",[\"a\",\"b\"])"
   ]
  },
  {
   "cell_type": "code",
   "execution_count": 47,
   "id": "4d903b96-e3a4-4cfb-86bb-9634091a0f6a",
   "metadata": {},
   "outputs": [
    {
     "data": {
      "text/plain": [
       "['a', 'b']"
      ]
     },
     "execution_count": 47,
     "metadata": {},
     "output_type": "execute_result"
    }
   ],
   "source": [
    "t1 [-1]"
   ]
  },
  {
   "cell_type": "code",
   "execution_count": 49,
   "id": "53c73cd9-068d-45cf-ac49-f627955de419",
   "metadata": {},
   "outputs": [
    {
     "data": {
      "text/plain": [
       "'b'"
      ]
     },
     "execution_count": 49,
     "metadata": {},
     "output_type": "execute_result"
    }
   ],
   "source": [
    "t1[-1][-1]"
   ]
  },
  {
   "cell_type": "code",
   "execution_count": 51,
   "id": "6b8d7bd7-1ff1-4d99-abcb-f6ce55b3fbf8",
   "metadata": {},
   "outputs": [],
   "source": [
    "t1 = (1,2.4,\"c\",(3,4))"
   ]
  },
  {
   "cell_type": "code",
   "execution_count": 53,
   "id": "f89e9217-c916-45af-bdf4-67c07431389d",
   "metadata": {},
   "outputs": [
    {
     "data": {
      "text/plain": [
       "(3, 4)"
      ]
     },
     "execution_count": 53,
     "metadata": {},
     "output_type": "execute_result"
    }
   ],
   "source": [
    "t1[-1]"
   ]
  },
  {
   "cell_type": "code",
   "execution_count": 61,
   "id": "e803a7f3-2d4e-49bd-b892-e9b31258e163",
   "metadata": {},
   "outputs": [
    {
     "data": {
      "text/plain": [
       "3"
      ]
     },
     "execution_count": 61,
     "metadata": {},
     "output_type": "execute_result"
    }
   ],
   "source": [
    "t1[-1][-2]"
   ]
  },
  {
   "cell_type": "markdown",
   "id": "e94fea94-a627-4cc9-a1e7-f6e3d2a64892",
   "metadata": {},
   "source": [
    "t1.append(\"python\") #it means you can't edit tuples"
   ]
  },
  {
   "cell_type": "markdown",
   "id": "53ac883d-a1d4-4ed4-b385-5297a46db3a0",
   "metadata": {},
   "source": [
    "#append,extend,insert - dod't work"
   ]
  },
  {
   "cell_type": "code",
   "execution_count": 66,
   "id": "bc154b04-63dd-44da-a238-3f803d703287",
   "metadata": {},
   "outputs": [
    {
     "data": {
      "text/plain": [
       "(1, 2.4, 'c', (3, 4))"
      ]
     },
     "execution_count": 66,
     "metadata": {},
     "output_type": "execute_result"
    }
   ],
   "source": [
    "t1"
   ]
  },
  {
   "cell_type": "code",
   "execution_count": 68,
   "id": "7866e15a-6099-4c9c-ae23-102310dbd456",
   "metadata": {},
   "outputs": [
    {
     "data": {
      "text/plain": [
       "'c'"
      ]
     },
     "execution_count": 68,
     "metadata": {},
     "output_type": "execute_result"
    }
   ],
   "source": [
    "t1[2]"
   ]
  },
  {
   "cell_type": "code",
   "execution_count": 70,
   "id": "3a4f52d3-459a-40d4-b7c8-8c4e39cd97bf",
   "metadata": {},
   "outputs": [
    {
     "ename": "TypeError",
     "evalue": "'tuple' object does not support item assignment",
     "output_type": "error",
     "traceback": [
      "\u001b[1;31m---------------------------------------------------------------------------\u001b[0m",
      "\u001b[1;31mTypeError\u001b[0m                                 Traceback (most recent call last)",
      "Cell \u001b[1;32mIn[70], line 1\u001b[0m\n\u001b[1;32m----> 1\u001b[0m t1[\u001b[38;5;241m2\u001b[39m] \u001b[38;5;241m=\u001b[39m \u001b[38;5;124m\"\u001b[39m\u001b[38;5;124mwallah\u001b[39m\u001b[38;5;124m\"\u001b[39m\n",
      "\u001b[1;31mTypeError\u001b[0m: 'tuple' object does not support item assignment"
     ]
    }
   ],
   "source": [
    "t1[2] = \"wallah\""
   ]
  },
  {
   "cell_type": "markdown",
   "id": "4ac8dc7b-a908-4eb2-b24a-f6ed96bf9ed4",
   "metadata": {},
   "source": [
    "#assignment does not works"
   ]
  },
  {
   "cell_type": "code",
   "execution_count": 82,
   "id": "b9688153-79cb-4468-acfa-6e996c616094",
   "metadata": {},
   "outputs": [
    {
     "data": {
      "text/plain": [
       "11"
      ]
     },
     "execution_count": 82,
     "metadata": {},
     "output_type": "execute_result"
    }
   ],
   "source": [
    "11"
   ]
  },
  {
   "cell_type": "code",
   "execution_count": 88,
   "id": "0826630f-6abe-46b7-b717-5732e91cf965",
   "metadata": {},
   "outputs": [
    {
     "ename": "AttributeError",
     "evalue": "'tuple' object has no attribute 'remove'",
     "output_type": "error",
     "traceback": [
      "\u001b[1;31m---------------------------------------------------------------------------\u001b[0m",
      "\u001b[1;31mAttributeError\u001b[0m                            Traceback (most recent call last)",
      "Cell \u001b[1;32mIn[88], line 1\u001b[0m\n\u001b[1;32m----> 1\u001b[0m t1\u001b[38;5;241m.\u001b[39mremove(\u001b[38;5;241m2.4\u001b[39m)\n",
      "\u001b[1;31mAttributeError\u001b[0m: 'tuple' object has no attribute 'remove'"
     ]
    }
   ],
   "source": [
    "t1.remove(2.4)"
   ]
  },
  {
   "cell_type": "code",
   "execution_count": 90,
   "id": "52e8aab3-2358-48a2-b8bf-d8cd23cb362c",
   "metadata": {},
   "outputs": [
    {
     "data": {
      "text/plain": [
       "(1, 2.4, 'c', (3, 4))"
      ]
     },
     "execution_count": 90,
     "metadata": {},
     "output_type": "execute_result"
    }
   ],
   "source": [
    "t1"
   ]
  },
  {
   "cell_type": "code",
   "execution_count": 92,
   "id": "2f916176-5d22-46c2-94b3-4a2ca83a79e8",
   "metadata": {},
   "outputs": [
    {
     "ename": "TypeError",
     "evalue": "'tuple' object doesn't support item deletion",
     "output_type": "error",
     "traceback": [
      "\u001b[1;31m---------------------------------------------------------------------------\u001b[0m",
      "\u001b[1;31mTypeError\u001b[0m                                 Traceback (most recent call last)",
      "Cell \u001b[1;32mIn[92], line 1\u001b[0m\n\u001b[1;32m----> 1\u001b[0m \u001b[38;5;28;01mdel\u001b[39;00m t1[\u001b[38;5;241m1\u001b[39m]\n",
      "\u001b[1;31mTypeError\u001b[0m: 'tuple' object doesn't support item deletion"
     ]
    }
   ],
   "source": [
    "del t1[1]"
   ]
  },
  {
   "cell_type": "code",
   "execution_count": 94,
   "id": "e72e73ef-0a62-4d53-b960-7e0cc061ee5e",
   "metadata": {},
   "outputs": [
    {
     "ename": "AttributeError",
     "evalue": "'tuple' object has no attribute 'clear'",
     "output_type": "error",
     "traceback": [
      "\u001b[1;31m---------------------------------------------------------------------------\u001b[0m",
      "\u001b[1;31mAttributeError\u001b[0m                            Traceback (most recent call last)",
      "Cell \u001b[1;32mIn[94], line 1\u001b[0m\n\u001b[1;32m----> 1\u001b[0m t1\u001b[38;5;241m.\u001b[39mclear()\n",
      "\u001b[1;31mAttributeError\u001b[0m: 'tuple' object has no attribute 'clear'"
     ]
    }
   ],
   "source": [
    "t1.clear()"
   ]
  },
  {
   "cell_type": "code",
   "execution_count": 100,
   "id": "c930aeed-a8d6-439f-b43c-d8048d3906d8",
   "metadata": {},
   "outputs": [
    {
     "ename": "NameError",
     "evalue": "name 't1' is not defined",
     "output_type": "error",
     "traceback": [
      "\u001b[1;31m---------------------------------------------------------------------------\u001b[0m",
      "\u001b[1;31mNameError\u001b[0m                                 Traceback (most recent call last)",
      "Cell \u001b[1;32mIn[100], line 1\u001b[0m\n\u001b[1;32m----> 1\u001b[0m \u001b[38;5;28;01mdel\u001b[39;00m t1\n",
      "\u001b[1;31mNameError\u001b[0m: name 't1' is not defined"
     ]
    }
   ],
   "source": [
    "del t1"
   ]
  },
  {
   "cell_type": "code",
   "execution_count": 102,
   "id": "15a7c91f-a09f-4f77-8575-6b95ce2a4942",
   "metadata": {},
   "outputs": [
    {
     "ename": "NameError",
     "evalue": "name 't1' is not defined",
     "output_type": "error",
     "traceback": [
      "\u001b[1;31m---------------------------------------------------------------------------\u001b[0m",
      "\u001b[1;31mNameError\u001b[0m                                 Traceback (most recent call last)",
      "Cell \u001b[1;32mIn[102], line 1\u001b[0m\n\u001b[1;32m----> 1\u001b[0m t1\n",
      "\u001b[1;31mNameError\u001b[0m: name 't1' is not defined"
     ]
    }
   ],
   "source": [
    "t1"
   ]
  },
  {
   "cell_type": "code",
   "execution_count": null,
   "id": "91f959ec-d91b-42b9-a478-ccc6da92974e",
   "metadata": {},
   "outputs": [],
   "source": [
    "#remove,pop,del,clear do not work"
   ]
  },
  {
   "cell_type": "code",
   "execution_count": 106,
   "id": "3c198cc7-2237-4e05-8a2e-7d66bc27d5c9",
   "metadata": {},
   "outputs": [],
   "source": [
    "t1 =(1,2,3,4)"
   ]
  },
  {
   "cell_type": "code",
   "execution_count": 108,
   "id": "57e4ca62-0a12-4c7e-a901-f9b7e9ff0e75",
   "metadata": {},
   "outputs": [],
   "source": [
    "l1 = list(t1)"
   ]
  },
  {
   "cell_type": "code",
   "execution_count": 110,
   "id": "777db1d8-9289-45b4-9cfa-ef50dde5beba",
   "metadata": {},
   "outputs": [
    {
     "data": {
      "text/plain": [
       "[1, 2, 3, 4]"
      ]
     },
     "execution_count": 110,
     "metadata": {},
     "output_type": "execute_result"
    }
   ],
   "source": [
    "l1"
   ]
  },
  {
   "cell_type": "code",
   "execution_count": 114,
   "id": "2ab43167-89c9-433e-9712-df161ded21a3",
   "metadata": {},
   "outputs": [
    {
     "name": "stdout",
     "output_type": "stream",
     "text": [
      "<class 'list'>\n"
     ]
    }
   ],
   "source": [
    "print(type(l1))"
   ]
  },
  {
   "cell_type": "code",
   "execution_count": 116,
   "id": "fb7ce955-9fd3-4881-8264-36fe9b1718c4",
   "metadata": {},
   "outputs": [],
   "source": [
    "#it is works for non changeble think"
   ]
  },
  {
   "cell_type": "code",
   "execution_count": 118,
   "id": "41acb4e7-2e22-4fa4-a5f3-2cc8e59f8b7c",
   "metadata": {},
   "outputs": [],
   "source": [
    "l1.append(5)"
   ]
  },
  {
   "cell_type": "code",
   "execution_count": 120,
   "id": "7169382d-83e6-4ea3-ac51-cbec520acf03",
   "metadata": {},
   "outputs": [
    {
     "data": {
      "text/plain": [
       "[1, 2, 3, 4, 5]"
      ]
     },
     "execution_count": 120,
     "metadata": {},
     "output_type": "execute_result"
    }
   ],
   "source": [
    "l1"
   ]
  },
  {
   "cell_type": "code",
   "execution_count": 126,
   "id": "b05fd8ff-dbdd-49eb-88ba-877927c96c09",
   "metadata": {},
   "outputs": [],
   "source": [
    "t1 = tuple(l1)"
   ]
  },
  {
   "cell_type": "code",
   "execution_count": 128,
   "id": "5821a2b8-e814-4c79-9476-9a53240b0ee8",
   "metadata": {},
   "outputs": [
    {
     "data": {
      "text/plain": [
       "(1, 2, 3, 4, 5)"
      ]
     },
     "execution_count": 128,
     "metadata": {},
     "output_type": "execute_result"
    }
   ],
   "source": [
    "t1"
   ]
  },
  {
   "cell_type": "code",
   "execution_count": 374,
   "id": "3cb8d2e3-7550-461a-b6b6-6a66c3150812",
   "metadata": {},
   "outputs": [
    {
     "data": {
      "text/plain": [
       "5"
      ]
     },
     "execution_count": 374,
     "metadata": {},
     "output_type": "execute_result"
    }
   ],
   "source": [
    "len(t1)"
   ]
  },
  {
   "cell_type": "code",
   "execution_count": 376,
   "id": "ea44bed4-2fab-4331-8eb9-3bcffaded167",
   "metadata": {},
   "outputs": [
    {
     "data": {
      "text/plain": [
       "1"
      ]
     },
     "execution_count": 376,
     "metadata": {},
     "output_type": "execute_result"
    }
   ],
   "source": [
    "min(t1)"
   ]
  },
  {
   "cell_type": "code",
   "execution_count": 378,
   "id": "b5865492-215d-432a-ba91-ec0c39e10c8a",
   "metadata": {},
   "outputs": [
    {
     "data": {
      "text/plain": [
       "15"
      ]
     },
     "execution_count": 378,
     "metadata": {},
     "output_type": "execute_result"
    }
   ],
   "source": [
    "sum(t1)"
   ]
  },
  {
   "cell_type": "code",
   "execution_count": 380,
   "id": "56789639-7469-42c8-8307-b9856d65e269",
   "metadata": {},
   "outputs": [],
   "source": [
    "t2 = (10,20,30,40)"
   ]
  },
  {
   "cell_type": "code",
   "execution_count": 382,
   "id": "8c7d2665-5d99-413b-9b4d-85dde6d9fdf2",
   "metadata": {},
   "outputs": [
    {
     "data": {
      "text/plain": [
       "(10, 20, 30, 40)"
      ]
     },
     "execution_count": 382,
     "metadata": {},
     "output_type": "execute_result"
    }
   ],
   "source": [
    "t2"
   ]
  },
  {
   "cell_type": "code",
   "execution_count": 384,
   "id": "b471440b-f11d-418c-a6a6-b5326b91f880",
   "metadata": {},
   "outputs": [
    {
     "ename": "AttributeError",
     "evalue": "'tuple' object has no attribute 'sort_values'",
     "output_type": "error",
     "traceback": [
      "\u001b[1;31m---------------------------------------------------------------------------\u001b[0m",
      "\u001b[1;31mAttributeError\u001b[0m                            Traceback (most recent call last)",
      "Cell \u001b[1;32mIn[384], line 1\u001b[0m\n\u001b[1;32m----> 1\u001b[0m t2\u001b[38;5;241m.\u001b[39msort_values()\n",
      "\u001b[1;31mAttributeError\u001b[0m: 'tuple' object has no attribute 'sort_values'"
     ]
    }
   ],
   "source": [
    "t2.sort_values()"
   ]
  },
  {
   "cell_type": "code",
   "execution_count": 386,
   "id": "90cea1eb-3590-4a0f-a5d3-42cec8177724",
   "metadata": {},
   "outputs": [
    {
     "ename": "AttributeError",
     "evalue": "'tuple' object has no attribute 'sort'",
     "output_type": "error",
     "traceback": [
      "\u001b[1;31m---------------------------------------------------------------------------\u001b[0m",
      "\u001b[1;31mAttributeError\u001b[0m                            Traceback (most recent call last)",
      "Cell \u001b[1;32mIn[386], line 1\u001b[0m\n\u001b[1;32m----> 1\u001b[0m t2\u001b[38;5;241m.\u001b[39msort(reverse\u001b[38;5;241m=\u001b[39m\u001b[38;5;28;01mTrue\u001b[39;00m)\n",
      "\u001b[1;31mAttributeError\u001b[0m: 'tuple' object has no attribute 'sort'"
     ]
    }
   ],
   "source": [
    "t2.sort(reverse=True)"
   ]
  },
  {
   "cell_type": "code",
   "execution_count": 388,
   "id": "5193070c-4949-4cfa-924c-6c29df52830f",
   "metadata": {},
   "outputs": [],
   "source": [
    "t1 = (1,1,2,2,2,2,2)"
   ]
  },
  {
   "cell_type": "code",
   "execution_count": 390,
   "id": "b2f823f9-955e-4c76-b45e-ef424c58d87c",
   "metadata": {},
   "outputs": [
    {
     "data": {
      "text/plain": [
       "2"
      ]
     },
     "execution_count": 390,
     "metadata": {},
     "output_type": "execute_result"
    }
   ],
   "source": [
    "t1.count(1)"
   ]
  },
  {
   "cell_type": "code",
   "execution_count": 392,
   "id": "25f358d2-bdd1-4ea3-95ac-cb46cb5eb991",
   "metadata": {},
   "outputs": [
    {
     "ename": "TypeError",
     "evalue": "'int' object is not callable",
     "output_type": "error",
     "traceback": [
      "\u001b[1;31m---------------------------------------------------------------------------\u001b[0m",
      "\u001b[1;31mTypeError\u001b[0m                                 Traceback (most recent call last)",
      "Cell \u001b[1;32mIn[392], line 1\u001b[0m\n\u001b[1;32m----> 1\u001b[0m t1\u001b[38;5;241m.\u001b[39mcount(\u001b[38;5;241m1\u001b[39m)(\u001b[38;5;241m2\u001b[39m)\n",
      "\u001b[1;31mTypeError\u001b[0m: 'int' object is not callable"
     ]
    }
   ],
   "source": [
    "t1.count(1)(2)"
   ]
  },
  {
   "cell_type": "code",
   "execution_count": 394,
   "id": "aff4cb46-f803-49e8-8ae3-1856b2774b35",
   "metadata": {},
   "outputs": [],
   "source": [
    "t1 = (1,2,3,4)\n",
    "t2 = (5,6,7,8)"
   ]
  },
  {
   "cell_type": "code",
   "execution_count": 396,
   "id": "50ae57cf-8866-40ed-81fd-368a2f8118bd",
   "metadata": {},
   "outputs": [],
   "source": [
    "t3 = t1+t2"
   ]
  },
  {
   "cell_type": "code",
   "execution_count": 398,
   "id": "31c9a955-3c5f-40cc-84ce-4effe8c13c06",
   "metadata": {},
   "outputs": [
    {
     "data": {
      "text/plain": [
       "(1, 2, 3, 4, 5, 6, 7, 8)"
      ]
     },
     "execution_count": 398,
     "metadata": {},
     "output_type": "execute_result"
    }
   ],
   "source": [
    "t3"
   ]
  },
  {
   "cell_type": "code",
   "execution_count": 400,
   "id": "dbb13c99-d129-4ab9-a8ae-2d2fbcd6f24d",
   "metadata": {},
   "outputs": [
    {
     "ename": "TypeError",
     "evalue": "unsupported operand type(s) for -: 'tuple' and 'tuple'",
     "output_type": "error",
     "traceback": [
      "\u001b[1;31m---------------------------------------------------------------------------\u001b[0m",
      "\u001b[1;31mTypeError\u001b[0m                                 Traceback (most recent call last)",
      "Cell \u001b[1;32mIn[400], line 1\u001b[0m\n\u001b[1;32m----> 1\u001b[0m t4 \u001b[38;5;241m=\u001b[39m t1\u001b[38;5;241m-\u001b[39mt2\n",
      "\u001b[1;31mTypeError\u001b[0m: unsupported operand type(s) for -: 'tuple' and 'tuple'"
     ]
    }
   ],
   "source": [
    "t4 = t1-t2"
   ]
  },
  {
   "cell_type": "code",
   "execution_count": 402,
   "id": "2d63806e-01c7-44b5-b971-da6dfb57970c",
   "metadata": {},
   "outputs": [
    {
     "data": {
      "text/plain": [
       "(1, 2, 3, 4)"
      ]
     },
     "execution_count": 402,
     "metadata": {},
     "output_type": "execute_result"
    }
   ],
   "source": [
    "t1"
   ]
  },
  {
   "cell_type": "code",
   "execution_count": 404,
   "id": "313222e4-7c22-4d01-84ec-86b2d395ec42",
   "metadata": {},
   "outputs": [
    {
     "data": {
      "text/plain": [
       "(1, 2, 3, 4, 1, 2, 3, 4)"
      ]
     },
     "execution_count": 404,
     "metadata": {},
     "output_type": "execute_result"
    }
   ],
   "source": [
    "t1*2"
   ]
  },
  {
   "cell_type": "code",
   "execution_count": 406,
   "id": "da73d2ff-6c67-47cc-9c14-d4a183d6def0",
   "metadata": {},
   "outputs": [],
   "source": [
    "t1 = (10,70,100,30)"
   ]
  },
  {
   "cell_type": "code",
   "execution_count": 408,
   "id": "88226964-937a-404d-8b54-ccbd8e3f9481",
   "metadata": {},
   "outputs": [
    {
     "data": {
      "text/plain": [
       "[10, 30, 70, 100]"
      ]
     },
     "execution_count": 408,
     "metadata": {},
     "output_type": "execute_result"
    }
   ],
   "source": [
    "sorted(t1) #this is not edited it is only viewed"
   ]
  },
  {
   "cell_type": "code",
   "execution_count": 410,
   "id": "4d0bbf9a-a635-4482-9ffd-a516288d79f9",
   "metadata": {},
   "outputs": [
    {
     "data": {
      "text/plain": [
       "(10, 70, 100, 30)"
      ]
     },
     "execution_count": 410,
     "metadata": {},
     "output_type": "execute_result"
    }
   ],
   "source": [
    "t1"
   ]
  },
  {
   "cell_type": "code",
   "execution_count": 414,
   "id": "0db10f2e-a5e8-470b-bfc7-bd891d429852",
   "metadata": {},
   "outputs": [
    {
     "ename": "TypeError",
     "evalue": "index expected at least 1 argument, got 0",
     "output_type": "error",
     "traceback": [
      "\u001b[1;31m---------------------------------------------------------------------------\u001b[0m",
      "\u001b[1;31mTypeError\u001b[0m                                 Traceback (most recent call last)",
      "Cell \u001b[1;32mIn[414], line 1\u001b[0m\n\u001b[1;32m----> 1\u001b[0m t1\u001b[38;5;241m.\u001b[39mindex()\n",
      "\u001b[1;31mTypeError\u001b[0m: index expected at least 1 argument, got 0"
     ]
    }
   ],
   "source": [
    "t1.index()"
   ]
  },
  {
   "cell_type": "code",
   "execution_count": 416,
   "id": "5ae3bfcc-2f5b-4657-995d-efaf183b012f",
   "metadata": {},
   "outputs": [],
   "source": [
    "t1 = (1,2,1)"
   ]
  },
  {
   "cell_type": "code",
   "execution_count": 418,
   "id": "dbde3022-49f7-40c7-8d5a-7ce0e2eed4ed",
   "metadata": {},
   "outputs": [
    {
     "data": {
      "text/plain": [
       "0"
      ]
     },
     "execution_count": 418,
     "metadata": {},
     "output_type": "execute_result"
    }
   ],
   "source": [
    "t1.index(1)"
   ]
  },
  {
   "cell_type": "code",
   "execution_count": null,
   "id": "7f3cbfd5-f6f8-47bd-a394-0cf5bb217506",
   "metadata": {},
   "outputs": [],
   "source": [
    "#################################################################"
   ]
  },
  {
   "cell_type": "markdown",
   "id": "1834acae-8a59-4a23-87ef-2bffc5a9ef3f",
   "metadata": {},
   "source": [
    "## Sets"
   ]
  },
  {
   "cell_type": "code",
   "execution_count": null,
   "id": "1220ac08-0ae6-45fb-ab50-7a40b0f00512",
   "metadata": {},
   "outputs": [],
   "source": [
    "#two ways to crete to empty sets"
   ]
  },
  {
   "cell_type": "code",
   "execution_count": null,
   "id": "5644a2bc-3f86-4bf7-9bbc-d54bd6e21bfe",
   "metadata": {},
   "outputs": [],
   "source": [
    "{}"
   ]
  },
  {
   "cell_type": "code",
   "execution_count": 424,
   "id": "78e79203-05a2-4e03-bbd3-50424da83b12",
   "metadata": {},
   "outputs": [],
   "source": [
    "s1 = set()"
   ]
  },
  {
   "cell_type": "code",
   "execution_count": 426,
   "id": "d5ecd304-b796-4a9f-9609-9666b5994d58",
   "metadata": {},
   "outputs": [
    {
     "name": "stdout",
     "output_type": "stream",
     "text": [
      "<class 'set'>\n"
     ]
    }
   ],
   "source": [
    "print(type(s1))"
   ]
  },
  {
   "cell_type": "code",
   "execution_count": 430,
   "id": "cd4c712f-153c-48a6-80c2-5932422eaa0b",
   "metadata": {},
   "outputs": [],
   "source": [
    "s2 = {}"
   ]
  },
  {
   "cell_type": "code",
   "execution_count": 432,
   "id": "b32a77f5-216f-4aa3-904a-c3ea82524d00",
   "metadata": {},
   "outputs": [
    {
     "name": "stdout",
     "output_type": "stream",
     "text": [
      "<class 'dict'>\n"
     ]
    }
   ],
   "source": [
    "print(type(s2))"
   ]
  },
  {
   "cell_type": "code",
   "execution_count": 434,
   "id": "e0de2ed6-173b-406d-95f8-2cf4be68e4ad",
   "metadata": {},
   "outputs": [],
   "source": [
    "s3 = {1,2,3,4}"
   ]
  },
  {
   "cell_type": "code",
   "execution_count": 436,
   "id": "7b31630d-32f4-4f0a-9fe6-24f4da45b9c7",
   "metadata": {},
   "outputs": [
    {
     "name": "stdout",
     "output_type": "stream",
     "text": [
      "<class 'set'>\n"
     ]
    }
   ],
   "source": [
    "print(type(s3))"
   ]
  },
  {
   "cell_type": "code",
   "execution_count": null,
   "id": "4d956e61-e0cb-40aa-99b7-44799bde9e00",
   "metadata": {},
   "outputs": [],
   "source": [
    "#sets are unordered"
   ]
  },
  {
   "cell_type": "code",
   "execution_count": 438,
   "id": "d262362d-8286-43b7-b32b-8db052cb5169",
   "metadata": {},
   "outputs": [
    {
     "ename": "TypeError",
     "evalue": "'set' object is not subscriptable",
     "output_type": "error",
     "traceback": [
      "\u001b[1;31m---------------------------------------------------------------------------\u001b[0m",
      "\u001b[1;31mTypeError\u001b[0m                                 Traceback (most recent call last)",
      "Cell \u001b[1;32mIn[438], line 1\u001b[0m\n\u001b[1;32m----> 1\u001b[0m s3[\u001b[38;5;241m2\u001b[39m]\n",
      "\u001b[1;31mTypeError\u001b[0m: 'set' object is not subscriptable"
     ]
    }
   ],
   "source": [
    "s3[2]"
   ]
  },
  {
   "cell_type": "code",
   "execution_count": null,
   "id": "c1b72f5d-3400-46ec-a561-55a6916d9581",
   "metadata": {},
   "outputs": [],
   "source": [
    "#sets do not contain duplicate elements"
   ]
  },
  {
   "cell_type": "code",
   "execution_count": 440,
   "id": "71839ebe-f1c5-4264-b216-d46fa040ecec",
   "metadata": {},
   "outputs": [],
   "source": [
    "s4 = {1,1,2,2,2,2}"
   ]
  },
  {
   "cell_type": "code",
   "execution_count": 442,
   "id": "21b3cf3d-dc0d-4ea3-aff0-cf10d1281ab1",
   "metadata": {},
   "outputs": [
    {
     "name": "stdout",
     "output_type": "stream",
     "text": [
      "{1, 2}\n"
     ]
    }
   ],
   "source": [
    "print(s4)"
   ]
  },
  {
   "cell_type": "code",
   "execution_count": 446,
   "id": "b7a0caa1-41fa-49e3-a727-57224a16010b",
   "metadata": {},
   "outputs": [
    {
     "data": {
      "text/plain": [
       "2"
      ]
     },
     "execution_count": 446,
     "metadata": {},
     "output_type": "execute_result"
    }
   ],
   "source": [
    "len(s4)"
   ]
  },
  {
   "cell_type": "code",
   "execution_count": 448,
   "id": "7eeb6b2a-34a2-4f40-a6a7-67ba8d979e83",
   "metadata": {},
   "outputs": [
    {
     "data": {
      "text/plain": [
       "3"
      ]
     },
     "execution_count": 448,
     "metadata": {},
     "output_type": "execute_result"
    }
   ],
   "source": [
    "sum(s4)"
   ]
  },
  {
   "cell_type": "code",
   "execution_count": 450,
   "id": "f0cd7c7f-5666-4981-816b-f397ec20c25d",
   "metadata": {},
   "outputs": [],
   "source": [
    "s1 = {1,True,13.4,\"python\",-2,\"a\"}"
   ]
  },
  {
   "cell_type": "code",
   "execution_count": 452,
   "id": "79fa2811-2a14-4eaf-9445-6aaa88dbe1de",
   "metadata": {},
   "outputs": [
    {
     "data": {
      "text/plain": [
       "{-2, 1, 13.4, 'a', 'python'}"
      ]
     },
     "execution_count": 452,
     "metadata": {},
     "output_type": "execute_result"
    }
   ],
   "source": [
    "s1"
   ]
  },
  {
   "cell_type": "code",
   "execution_count": 466,
   "id": "1125041d-2b57-4f91-b6f3-16cda954db57",
   "metadata": {},
   "outputs": [],
   "source": [
    "s2 = {1,False,True,13.4,\"python\",-2,\"a\"}"
   ]
  },
  {
   "cell_type": "code",
   "execution_count": 460,
   "id": "11e79e66-bab1-42c3-8b59-64e02db35f74",
   "metadata": {},
   "outputs": [
    {
     "data": {
      "text/plain": [
       "{-2, 1, 13.4, False, 'a', 'python'}"
      ]
     },
     "execution_count": 460,
     "metadata": {},
     "output_type": "execute_result"
    }
   ],
   "source": [
    "s1"
   ]
  },
  {
   "cell_type": "code",
   "execution_count": 470,
   "id": "facbc101-f002-44f9-a28c-3840d3d48706",
   "metadata": {},
   "outputs": [
    {
     "data": {
      "text/plain": [
       "{-2, 1, 13.4, False, 'a', 'python'}"
      ]
     },
     "execution_count": 470,
     "metadata": {},
     "output_type": "execute_result"
    }
   ],
   "source": [
    "s2"
   ]
  },
  {
   "cell_type": "code",
   "execution_count": 472,
   "id": "17d3d1ae-a2e5-4a00-acc5-f58d976f7de3",
   "metadata": {},
   "outputs": [],
   "source": [
    "s1.add(32)"
   ]
  },
  {
   "cell_type": "code",
   "execution_count": 474,
   "id": "895e64f5-eed5-49d5-8abe-addc721524dd",
   "metadata": {},
   "outputs": [
    {
     "data": {
      "text/plain": [
       "{-2, 1, 13.4, 32, False, 'a', 'python'}"
      ]
     },
     "execution_count": 474,
     "metadata": {},
     "output_type": "execute_result"
    }
   ],
   "source": [
    "s1"
   ]
  },
  {
   "cell_type": "code",
   "execution_count": 485,
   "id": "35bca122-2bba-46c2-ae36-460d6c687101",
   "metadata": {},
   "outputs": [],
   "source": [
    "comp = {\"loca\", \"rl\"}\n",
    "tech_comp = {\"aa\",\"gg\"}"
   ]
  },
  {
   "cell_type": "code",
   "execution_count": 487,
   "id": "c2135ea3-29b8-4385-a720-9268082f2c6a",
   "metadata": {},
   "outputs": [],
   "source": [
    "comp.update(tech_comp) #what is happened"
   ]
  },
  {
   "cell_type": "code",
   "execution_count": 489,
   "id": "e6ff7a79-3558-4e14-89a2-c420cb3c86a9",
   "metadata": {},
   "outputs": [
    {
     "name": "stdout",
     "output_type": "stream",
     "text": [
      "{'aa', 'loca', 'gg', 'rl'}\n"
     ]
    }
   ],
   "source": [
    "print(comp)"
   ]
  },
  {
   "cell_type": "code",
   "execution_count": 491,
   "id": "98995900-3a12-4423-a418-9320c1c0c812",
   "metadata": {},
   "outputs": [
    {
     "data": {
      "text/plain": [
       "{-2, 1, 13.4, 32, False, 'a', 'python'}"
      ]
     },
     "execution_count": 491,
     "metadata": {},
     "output_type": "execute_result"
    }
   ],
   "source": [
    "s1"
   ]
  },
  {
   "cell_type": "code",
   "execution_count": 499,
   "id": "d24f2ff5-b0b7-4542-bf45-2a9b869d6140",
   "metadata": {},
   "outputs": [],
   "source": [
    "s1.discard(13.4)"
   ]
  },
  {
   "cell_type": "code",
   "execution_count": 501,
   "id": "34764216-4a8f-46c7-9dc3-e430742cc102",
   "metadata": {},
   "outputs": [
    {
     "data": {
      "text/plain": [
       "{1, 32, False, 'a', 'python'}"
      ]
     },
     "execution_count": 501,
     "metadata": {},
     "output_type": "execute_result"
    }
   ],
   "source": [
    "s1"
   ]
  },
  {
   "cell_type": "code",
   "execution_count": 503,
   "id": "1e297318-b088-449e-b7b2-fa11e6b202e5",
   "metadata": {},
   "outputs": [
    {
     "data": {
      "text/plain": [
       "[1, 2, 3, 4, 5]"
      ]
     },
     "execution_count": 503,
     "metadata": {},
     "output_type": "execute_result"
    }
   ],
   "source": [
    "l1"
   ]
  },
  {
   "cell_type": "code",
   "execution_count": 505,
   "id": "bafa1b3a-2c73-458d-8e9c-0b28a5537107",
   "metadata": {},
   "outputs": [
    {
     "data": {
      "text/plain": [
       "4"
      ]
     },
     "execution_count": 505,
     "metadata": {},
     "output_type": "execute_result"
    }
   ],
   "source": [
    "l1.pop(3)"
   ]
  },
  {
   "cell_type": "code",
   "execution_count": 507,
   "id": "c071d0ba-3aab-445b-921f-d273f267f1b1",
   "metadata": {},
   "outputs": [
    {
     "data": {
      "text/plain": [
       "{1, 32, False, 'a', 'python'}"
      ]
     },
     "execution_count": 507,
     "metadata": {},
     "output_type": "execute_result"
    }
   ],
   "source": [
    "s1"
   ]
  },
  {
   "cell_type": "code",
   "execution_count": 509,
   "id": "329f88d3-d4e2-4760-86af-2becedf508b5",
   "metadata": {},
   "outputs": [
    {
     "data": {
      "text/plain": [
       "5"
      ]
     },
     "execution_count": 509,
     "metadata": {},
     "output_type": "execute_result"
    }
   ],
   "source": [
    "len(s1)"
   ]
  },
  {
   "cell_type": "code",
   "execution_count": 511,
   "id": "96c5d0a7-3dd2-4221-8ed7-11eaf12dd6c9",
   "metadata": {},
   "outputs": [
    {
     "ename": "TypeError",
     "evalue": "'>' not supported between instances of 'str' and 'int'",
     "output_type": "error",
     "traceback": [
      "\u001b[1;31m---------------------------------------------------------------------------\u001b[0m",
      "\u001b[1;31mTypeError\u001b[0m                                 Traceback (most recent call last)",
      "Cell \u001b[1;32mIn[511], line 1\u001b[0m\n\u001b[1;32m----> 1\u001b[0m \u001b[38;5;28mmax\u001b[39m(s1)\n",
      "\u001b[1;31mTypeError\u001b[0m: '>' not supported between instances of 'str' and 'int'"
     ]
    }
   ],
   "source": [
    "max(s1)"
   ]
  },
  {
   "cell_type": "code",
   "execution_count": null,
   "id": "232abae9-2b1f-475b-a77a-f1b4ba6c3af1",
   "metadata": {},
   "outputs": [],
   "source": [
    "#how you say what is big or small"
   ]
  },
  {
   "cell_type": "code",
   "execution_count": 513,
   "id": "1edaf4f9-b83a-4bdd-a179-ac64252aaa00",
   "metadata": {},
   "outputs": [],
   "source": [
    "s2 = {1.1,2,3,4}"
   ]
  },
  {
   "cell_type": "code",
   "execution_count": 515,
   "id": "39ffc307-78cf-484d-824c-80a092898025",
   "metadata": {},
   "outputs": [
    {
     "data": {
      "text/plain": [
       "{1.1, 2, 3, 4}"
      ]
     },
     "execution_count": 515,
     "metadata": {},
     "output_type": "execute_result"
    }
   ],
   "source": [
    "s2"
   ]
  },
  {
   "cell_type": "code",
   "execution_count": 517,
   "id": "eabce3f0-161f-4d53-a9a9-8c5c06a9adf3",
   "metadata": {},
   "outputs": [
    {
     "data": {
      "text/plain": [
       "4"
      ]
     },
     "execution_count": 517,
     "metadata": {},
     "output_type": "execute_result"
    }
   ],
   "source": [
    "max(s2)"
   ]
  },
  {
   "cell_type": "code",
   "execution_count": 521,
   "id": "aab56d83-d888-45e0-a8ca-4d09f02eccf7",
   "metadata": {},
   "outputs": [],
   "source": [
    "s2 = {10,70,100,30}"
   ]
  },
  {
   "cell_type": "code",
   "execution_count": 523,
   "id": "09e9591d-fa37-403e-b694-836bb72c1e83",
   "metadata": {},
   "outputs": [
    {
     "data": {
      "text/plain": [
       "[10, 30, 70, 100]"
      ]
     },
     "execution_count": 523,
     "metadata": {},
     "output_type": "execute_result"
    }
   ],
   "source": [
    "sorted(s2)"
   ]
  },
  {
   "cell_type": "code",
   "execution_count": null,
   "id": "f3a60a22-b14d-4915-b794-d121c6f27d3a",
   "metadata": {},
   "outputs": [],
   "source": [
    "#sort not works in sets #but sorted will works"
   ]
  },
  {
   "cell_type": "markdown",
   "id": "fa266fdd-bc6e-498f-a3c4-ee9d2476ee39",
   "metadata": {},
   "source": [
    "##set operations"
   ]
  },
  {
   "cell_type": "markdown",
   "id": "36c3b4e9-d5ab-477b-9434-10fc40826483",
   "metadata": {},
   "source": [
    "1. union\n",
    "2. intersection\n",
    "3. difference\n",
    "4. symmetric difference"
   ]
  },
  {
   "cell_type": "code",
   "execution_count": null,
   "id": "834b18d3-4aa5-494c-aef0-59880f1ac849",
   "metadata": {},
   "outputs": [],
   "source": [
    "# union - all the elements from both the sets\n",
    "# intersection - common from both the sets"
   ]
  },
  {
   "cell_type": "code",
   "execution_count": 525,
   "id": "a766c9b7-7003-4c14-8e1a-42f72f81db3c",
   "metadata": {},
   "outputs": [],
   "source": [
    "set1 = {1,3,5}\n",
    "set2 = {1,2,3}"
   ]
  },
  {
   "cell_type": "code",
   "execution_count": 527,
   "id": "234b4167-b6f6-406b-a716-c8e8821a3736",
   "metadata": {},
   "outputs": [
    {
     "data": {
      "text/plain": [
       "{1, 2, 3, 5}"
      ]
     },
     "execution_count": 527,
     "metadata": {},
     "output_type": "execute_result"
    }
   ],
   "source": [
    "set1 | set2"
   ]
  },
  {
   "cell_type": "code",
   "execution_count": 529,
   "id": "fe002f93-620c-48b5-b97a-dbfd03ee5553",
   "metadata": {},
   "outputs": [
    {
     "data": {
      "text/plain": [
       "{1, 2, 3, 5}"
      ]
     },
     "execution_count": 529,
     "metadata": {},
     "output_type": "execute_result"
    }
   ],
   "source": [
    "set1.union(set2)"
   ]
  },
  {
   "cell_type": "code",
   "execution_count": 531,
   "id": "613cdaab-615d-42b8-bbcf-618cd8361558",
   "metadata": {},
   "outputs": [
    {
     "data": {
      "text/plain": [
       "{1, 2, 3, 5}"
      ]
     },
     "execution_count": 531,
     "metadata": {},
     "output_type": "execute_result"
    }
   ],
   "source": [
    "set2.union(set1)"
   ]
  },
  {
   "cell_type": "code",
   "execution_count": 533,
   "id": "80a93900-d469-4bf3-bd63-c2294bf8863b",
   "metadata": {},
   "outputs": [
    {
     "data": {
      "text/plain": [
       "{1, 3}"
      ]
     },
     "execution_count": 533,
     "metadata": {},
     "output_type": "execute_result"
    }
   ],
   "source": [
    "set1 & set2"
   ]
  },
  {
   "cell_type": "code",
   "execution_count": 535,
   "id": "043453bf-18d3-4517-b83e-d6dffc117858",
   "metadata": {},
   "outputs": [
    {
     "data": {
      "text/plain": [
       "{1, 3}"
      ]
     },
     "execution_count": 535,
     "metadata": {},
     "output_type": "execute_result"
    }
   ],
   "source": [
    "set1.intersection(set2)"
   ]
  },
  {
   "cell_type": "code",
   "execution_count": 537,
   "id": "31ab28dc-65cc-4606-94bb-a74b25e2d233",
   "metadata": {},
   "outputs": [
    {
     "data": {
      "text/plain": [
       "{1, 3}"
      ]
     },
     "execution_count": 537,
     "metadata": {},
     "output_type": "execute_result"
    }
   ],
   "source": [
    "set2.intersection(set1)"
   ]
  },
  {
   "cell_type": "code",
   "execution_count": 539,
   "id": "9974bade-da90-4c4a-99b6-bed3fd8ae2b4",
   "metadata": {},
   "outputs": [
    {
     "data": {
      "text/plain": [
       "{1, 3, 5}"
      ]
     },
     "execution_count": 539,
     "metadata": {},
     "output_type": "execute_result"
    }
   ],
   "source": [
    "set1"
   ]
  },
  {
   "cell_type": "code",
   "execution_count": 541,
   "id": "7988873e-031e-44d5-b613-3d07a1b0aabf",
   "metadata": {},
   "outputs": [
    {
     "data": {
      "text/plain": [
       "{1, 2, 3}"
      ]
     },
     "execution_count": 541,
     "metadata": {},
     "output_type": "execute_result"
    }
   ],
   "source": [
    "set2"
   ]
  },
  {
   "cell_type": "code",
   "execution_count": 543,
   "id": "d14c5eed-1d8b-4148-9064-6fd55d831ee9",
   "metadata": {},
   "outputs": [
    {
     "data": {
      "text/plain": [
       "{5}"
      ]
     },
     "execution_count": 543,
     "metadata": {},
     "output_type": "execute_result"
    }
   ],
   "source": [
    "set1.difference(set2) #element of set 1 which is not in set 2"
   ]
  },
  {
   "cell_type": "code",
   "execution_count": 545,
   "id": "7f170aea-293a-4983-99e6-4a2520bca1fc",
   "metadata": {},
   "outputs": [
    {
     "data": {
      "text/plain": [
       "{2}"
      ]
     },
     "execution_count": 545,
     "metadata": {},
     "output_type": "execute_result"
    }
   ],
   "source": [
    "set2.difference(set1) #element of set 2 which is not in set 1"
   ]
  },
  {
   "cell_type": "code",
   "execution_count": 547,
   "id": "ef7468ef-a974-4e8a-9581-9da923301bb8",
   "metadata": {},
   "outputs": [
    {
     "data": {
      "text/plain": [
       "{2, 5}"
      ]
     },
     "execution_count": 547,
     "metadata": {},
     "output_type": "execute_result"
    }
   ],
   "source": [
    "set1.symmetric_difference(set2) #uncommon elements"
   ]
  },
  {
   "cell_type": "code",
   "execution_count": 553,
   "id": "590caff9-b360-4348-a5e4-764ed8968dd5",
   "metadata": {},
   "outputs": [
    {
     "data": {
      "text/plain": [
       "True"
      ]
     },
     "execution_count": 553,
     "metadata": {},
     "output_type": "execute_result"
    }
   ],
   "source": [
    "set1 == set2"
   ]
  },
  {
   "cell_type": "code",
   "execution_count": 557,
   "id": "3acc0d9d-8cce-467c-a841-00c9f9a1d433",
   "metadata": {},
   "outputs": [
    {
     "data": {
      "text/plain": [
       "False"
      ]
     },
     "execution_count": 557,
     "metadata": {},
     "output_type": "execute_result"
    }
   ],
   "source": [
    "set1 != set2"
   ]
  },
  {
   "cell_type": "code",
   "execution_count": 559,
   "id": "87eb8ac5-300d-4595-8a4e-f641be267b4f",
   "metadata": {},
   "outputs": [],
   "source": [
    "set1.clear()"
   ]
  },
  {
   "cell_type": "code",
   "execution_count": 561,
   "id": "49e7c845-2b48-4871-95f0-22a63215403f",
   "metadata": {},
   "outputs": [
    {
     "data": {
      "text/plain": [
       "set()"
      ]
     },
     "execution_count": 561,
     "metadata": {},
     "output_type": "execute_result"
    }
   ],
   "source": [
    "set1"
   ]
  },
  {
   "cell_type": "code",
   "execution_count": null,
   "id": "ecaf27ff-351b-4bde-8d3a-ea3b2a3ef6af",
   "metadata": {},
   "outputs": [],
   "source": [
    "#################################################################"
   ]
  },
  {
   "cell_type": "code",
   "execution_count": null,
   "id": "50c9de6f-4035-4be0-97a7-72cd172a2cf2",
   "metadata": {},
   "outputs": [],
   "source": [
    "## Dictinory"
   ]
  },
  {
   "cell_type": "code",
   "execution_count": 563,
   "id": "a127d669-3e68-46a3-a7a7-03329c903343",
   "metadata": {},
   "outputs": [],
   "source": [
    "d1 = dict()"
   ]
  },
  {
   "cell_type": "code",
   "execution_count": 565,
   "id": "a91fd234-1098-4a3e-94b7-bcf468b56b6f",
   "metadata": {},
   "outputs": [
    {
     "name": "stdout",
     "output_type": "stream",
     "text": [
      "<class 'dict'>\n"
     ]
    }
   ],
   "source": [
    "print(type(d1))"
   ]
  },
  {
   "cell_type": "code",
   "execution_count": 567,
   "id": "8c0daee7-7ac8-4047-9826-56cd9592254d",
   "metadata": {},
   "outputs": [],
   "source": [
    "d2 = {}"
   ]
  },
  {
   "cell_type": "code",
   "execution_count": 569,
   "id": "9bd881d2-95ac-427c-a9e5-c29e6b9a92ed",
   "metadata": {},
   "outputs": [
    {
     "name": "stdout",
     "output_type": "stream",
     "text": [
      "<class 'dict'>\n"
     ]
    }
   ],
   "source": [
    "print(type(d2))"
   ]
  },
  {
   "cell_type": "code",
   "execution_count": 571,
   "id": "64aa70da-a016-4384-8778-4f723ceb6fc5",
   "metadata": {},
   "outputs": [],
   "source": [
    "d3 = {\"india\":\"mumbai\",\"france\":\"paris\",\"spain\":\"madrid\",\"italy\":\"rome\"}"
   ]
  },
  {
   "cell_type": "code",
   "execution_count": 573,
   "id": "aae672b9-6a86-4f0f-a5f1-a78fd150e761",
   "metadata": {},
   "outputs": [
    {
     "data": {
      "text/plain": [
       "{'india': 'mumbai', 'france': 'paris', 'spain': 'madrid', 'italy': 'rome'}"
      ]
     },
     "execution_count": 573,
     "metadata": {},
     "output_type": "execute_result"
    }
   ],
   "source": [
    "d3"
   ]
  },
  {
   "cell_type": "code",
   "execution_count": 575,
   "id": "3598f075-5f99-4c8c-ba86-58d716f62aa1",
   "metadata": {},
   "outputs": [
    {
     "data": {
      "text/plain": [
       "4"
      ]
     },
     "execution_count": 575,
     "metadata": {},
     "output_type": "execute_result"
    }
   ],
   "source": [
    "len(d3)"
   ]
  },
  {
   "cell_type": "code",
   "execution_count": 579,
   "id": "e046f25e-22fc-4510-ba86-10eaca16fd92",
   "metadata": {},
   "outputs": [
    {
     "data": {
      "text/plain": [
       "'mumbai'"
      ]
     },
     "execution_count": 579,
     "metadata": {},
     "output_type": "execute_result"
    }
   ],
   "source": [
    "d3[\"india\"]"
   ]
  },
  {
   "cell_type": "code",
   "execution_count": 581,
   "id": "f88b747f-cf48-4f42-9895-bab058653bed",
   "metadata": {},
   "outputs": [
    {
     "data": {
      "text/plain": [
       "'paris'"
      ]
     },
     "execution_count": 581,
     "metadata": {},
     "output_type": "execute_result"
    }
   ],
   "source": [
    "d3[\"france\"]"
   ]
  },
  {
   "cell_type": "code",
   "execution_count": 584,
   "id": "2ad89b79-4285-466f-b4d5-cd8164f19b1c",
   "metadata": {},
   "outputs": [
    {
     "ename": "KeyError",
     "evalue": "'mumbai'",
     "output_type": "error",
     "traceback": [
      "\u001b[1;31m---------------------------------------------------------------------------\u001b[0m",
      "\u001b[1;31mKeyError\u001b[0m                                  Traceback (most recent call last)",
      "Cell \u001b[1;32mIn[584], line 1\u001b[0m\n\u001b[1;32m----> 1\u001b[0m d3[\u001b[38;5;124m\"\u001b[39m\u001b[38;5;124mmumbai\u001b[39m\u001b[38;5;124m\"\u001b[39m]\n",
      "\u001b[1;31mKeyError\u001b[0m: 'mumbai'"
     ]
    }
   ],
   "source": [
    "d3[\"mumbai\"]"
   ]
  },
  {
   "cell_type": "code",
   "execution_count": null,
   "id": "c83388c8-9d34-4667-b744-a88f5611ef27",
   "metadata": {},
   "outputs": [],
   "source": [
    "#you cannnot have duplicate keys\n",
    "#keys should not change"
   ]
  },
  {
   "cell_type": "code",
   "execution_count": 602,
   "id": "2dd4ac25-3b85-49b5-bfb1-1c57ae378edc",
   "metadata": {},
   "outputs": [],
   "source": [
    "d3 = {\"india\":\"mumbai\",\"India\":\"paris\",\"spain\":\"madrid\",\"italy\":\"rome\",\"india\":\"delhi\",(\"a\",\"b\"):2}"
   ]
  },
  {
   "cell_type": "code",
   "execution_count": 604,
   "id": "2c1734ae-ad1b-4889-8683-c3e9a952cae0",
   "metadata": {},
   "outputs": [
    {
     "data": {
      "text/plain": [
       "{'india': 'delhi',\n",
       " 'India': 'paris',\n",
       " 'spain': 'madrid',\n",
       " 'italy': 'rome',\n",
       " ('a', 'b'): 2}"
      ]
     },
     "execution_count": 604,
     "metadata": {},
     "output_type": "execute_result"
    }
   ],
   "source": [
    "d3"
   ]
  },
  {
   "cell_type": "code",
   "execution_count": 606,
   "id": "93d33d7a-8fdb-4ac3-a82f-3acc6eaf8f1e",
   "metadata": {},
   "outputs": [
    {
     "data": {
      "text/plain": [
       "dict_keys(['india', 'India', 'spain', 'italy', ('a', 'b')])"
      ]
     },
     "execution_count": 606,
     "metadata": {},
     "output_type": "execute_result"
    }
   ],
   "source": [
    "d3.keys()"
   ]
  },
  {
   "cell_type": "code",
   "execution_count": 608,
   "id": "10c9d4c7-8cd0-4946-bf0f-3be466319466",
   "metadata": {},
   "outputs": [
    {
     "data": {
      "text/plain": [
       "dict_values(['delhi', 'paris', 'madrid', 'rome', 2])"
      ]
     },
     "execution_count": 608,
     "metadata": {},
     "output_type": "execute_result"
    }
   ],
   "source": [
    "d3.values()"
   ]
  },
  {
   "cell_type": "code",
   "execution_count": 612,
   "id": "bf0b06fc-7469-4d6f-a810-b2f2d940a898",
   "metadata": {},
   "outputs": [],
   "source": [
    "d3[\"India\"] = \"delhi\""
   ]
  },
  {
   "cell_type": "code",
   "execution_count": 614,
   "id": "24f77bc0-f75c-4472-87af-9843c89fd580",
   "metadata": {},
   "outputs": [
    {
     "data": {
      "text/plain": [
       "{'india': 'delhi',\n",
       " 'India': 'delhi',\n",
       " 'spain': 'madrid',\n",
       " 'italy': 'rome',\n",
       " ('a', 'b'): 2}"
      ]
     },
     "execution_count": 614,
     "metadata": {},
     "output_type": "execute_result"
    }
   ],
   "source": [
    "d3"
   ]
  },
  {
   "cell_type": "code",
   "execution_count": 616,
   "id": "7c7eb0bf-85fa-448d-9f9a-08591ae207ea",
   "metadata": {},
   "outputs": [],
   "source": [
    "d3[\"belgium\"] = \"brugge\""
   ]
  },
  {
   "cell_type": "code",
   "execution_count": 618,
   "id": "3767f9f3-4c8a-421a-a9de-9de0a9aaadbb",
   "metadata": {},
   "outputs": [
    {
     "data": {
      "text/plain": [
       "{'india': 'delhi',\n",
       " 'India': 'delhi',\n",
       " 'spain': 'madrid',\n",
       " 'italy': 'rome',\n",
       " ('a', 'b'): 2,\n",
       " 'belgium': 'brugge'}"
      ]
     },
     "execution_count": 618,
     "metadata": {},
     "output_type": "execute_result"
    }
   ],
   "source": [
    "d3"
   ]
  },
  {
   "cell_type": "code",
   "execution_count": 620,
   "id": "44a467f1-1a7a-41d4-bf4f-8acd04b70870",
   "metadata": {},
   "outputs": [],
   "source": [
    "del d3[\"italy\"]"
   ]
  },
  {
   "cell_type": "code",
   "execution_count": 622,
   "id": "316471c3-d0a8-497b-8359-4069bc9ff27a",
   "metadata": {},
   "outputs": [
    {
     "data": {
      "text/plain": [
       "{'india': 'delhi',\n",
       " 'India': 'delhi',\n",
       " 'spain': 'madrid',\n",
       " ('a', 'b'): 2,\n",
       " 'belgium': 'brugge'}"
      ]
     },
     "execution_count": 622,
     "metadata": {},
     "output_type": "execute_result"
    }
   ],
   "source": [
    "d3"
   ]
  },
  {
   "cell_type": "code",
   "execution_count": 629,
   "id": "0b535dbc-f4d4-43b6-a9e7-4e70b313e03b",
   "metadata": {},
   "outputs": [],
   "source": [
    "d3.clear()"
   ]
  },
  {
   "cell_type": "code",
   "execution_count": 631,
   "id": "bb4f69c4-8959-4aae-8de7-77e80c61580e",
   "metadata": {},
   "outputs": [
    {
     "data": {
      "text/plain": [
       "{}"
      ]
     },
     "execution_count": 631,
     "metadata": {},
     "output_type": "execute_result"
    }
   ],
   "source": [
    "d3"
   ]
  },
  {
   "cell_type": "code",
   "execution_count": null,
   "id": "fa3e95f6-85b1-4e10-8fcf-5a38477766b4",
   "metadata": {},
   "outputs": [],
   "source": [
    "d3"
   ]
  },
  {
   "cell_type": "code",
   "execution_count": 639,
   "id": "e79a6c5a-c977-4388-97d9-887bd705ab28",
   "metadata": {},
   "outputs": [],
   "source": [
    "d3 = {\"india\":\"mumbai\",\"India\":\"paris\",\"spain\":\"madrid\",\"italy\":\"rome\",\"india\":\"delhi\",\"mydict\":{1,2}}"
   ]
  },
  {
   "cell_type": "code",
   "execution_count": 641,
   "id": "22933628-c26f-47ed-a552-1dba534d04ae",
   "metadata": {},
   "outputs": [
    {
     "data": {
      "text/plain": [
       "{'india': 'delhi',\n",
       " 'India': 'paris',\n",
       " 'spain': 'madrid',\n",
       " 'italy': 'rome',\n",
       " 'mydict': {1, 2}}"
      ]
     },
     "execution_count": 641,
     "metadata": {},
     "output_type": "execute_result"
    }
   ],
   "source": [
    "d3"
   ]
  },
  {
   "cell_type": "code",
   "execution_count": 643,
   "id": "59a866f9-009d-4350-901e-8526585a9c3f",
   "metadata": {},
   "outputs": [
    {
     "data": {
      "text/plain": [
       "{1, 2}"
      ]
     },
     "execution_count": 643,
     "metadata": {},
     "output_type": "execute_result"
    }
   ],
   "source": [
    "d3[\"mydict\"]"
   ]
  },
  {
   "cell_type": "code",
   "execution_count": 645,
   "id": "a1854763-6242-4a99-907e-234d811e5de8",
   "metadata": {},
   "outputs": [
    {
     "data": {
      "text/plain": [
       "'madrid'"
      ]
     },
     "execution_count": 645,
     "metadata": {},
     "output_type": "execute_result"
    }
   ],
   "source": [
    "d3.pop(\"spain\")"
   ]
  },
  {
   "cell_type": "code",
   "execution_count": 649,
   "id": "a5b99896-498a-4003-9485-5c5211dc8747",
   "metadata": {},
   "outputs": [
    {
     "data": {
      "text/plain": [
       "{'india': 'delhi', 'India': 'paris', 'italy': 'rome', 'mydict': {1, 2}}"
      ]
     },
     "execution_count": 649,
     "metadata": {},
     "output_type": "execute_result"
    }
   ],
   "source": [
    "d3"
   ]
  },
  {
   "cell_type": "code",
   "execution_count": 651,
   "id": "76a62225-0d16-4bb7-903e-708155231123",
   "metadata": {},
   "outputs": [
    {
     "ename": "AttributeError",
     "evalue": "'dict' object has no attribute 'remove'",
     "output_type": "error",
     "traceback": [
      "\u001b[1;31m---------------------------------------------------------------------------\u001b[0m",
      "\u001b[1;31mAttributeError\u001b[0m                            Traceback (most recent call last)",
      "Cell \u001b[1;32mIn[651], line 1\u001b[0m\n\u001b[1;32m----> 1\u001b[0m d3\u001b[38;5;241m.\u001b[39mremove(\u001b[38;5;124m\"\u001b[39m\u001b[38;5;124mparis\u001b[39m\u001b[38;5;124m\"\u001b[39m)\n",
      "\u001b[1;31mAttributeError\u001b[0m: 'dict' object has no attribute 'remove'"
     ]
    }
   ],
   "source": [
    "d3.remove(\"paris\") #edit only keys not a values "
   ]
  },
  {
   "cell_type": "code",
   "execution_count": 653,
   "id": "78759cd7-d96a-4572-9288-deeeacb26156",
   "metadata": {},
   "outputs": [
    {
     "data": {
      "text/plain": [
       "('mydict', {1, 2})"
      ]
     },
     "execution_count": 653,
     "metadata": {},
     "output_type": "execute_result"
    }
   ],
   "source": [
    "d3.popitem()"
   ]
  },
  {
   "cell_type": "code",
   "execution_count": 655,
   "id": "6f685806-5d02-4d02-be06-5a9a5aa71980",
   "metadata": {},
   "outputs": [],
   "source": [
    "d3 = {\"india\":\"mumbai\",\"India\":\"paris\",\"spain\":\"madrid\",\"italy\":\"rome\",\"india\":\"delhi\",\"mydict\":{1,2},\"australia\":\"melborn\"}"
   ]
  },
  {
   "cell_type": "code",
   "execution_count": 657,
   "id": "6d1480a5-44f3-493d-8c03-646b8ece3a15",
   "metadata": {},
   "outputs": [
    {
     "data": {
      "text/plain": [
       "{'india': 'delhi',\n",
       " 'India': 'paris',\n",
       " 'spain': 'madrid',\n",
       " 'italy': 'rome',\n",
       " 'mydict': {1, 2},\n",
       " 'australia': 'melborn'}"
      ]
     },
     "execution_count": 657,
     "metadata": {},
     "output_type": "execute_result"
    }
   ],
   "source": [
    "d3"
   ]
  },
  {
   "cell_type": "code",
   "execution_count": 661,
   "id": "5142151b-0a79-406d-9a6e-abf5294ae433",
   "metadata": {},
   "outputs": [
    {
     "data": {
      "text/plain": [
       "('australia', 'melborn')"
      ]
     },
     "execution_count": 661,
     "metadata": {},
     "output_type": "execute_result"
    }
   ],
   "source": [
    "d3.popitem()"
   ]
  },
  {
   "cell_type": "code",
   "execution_count": 663,
   "id": "c419e927-0100-4506-90e5-17f350f7d519",
   "metadata": {},
   "outputs": [
    {
     "data": {
      "text/plain": [
       "'delhi'"
      ]
     },
     "execution_count": 663,
     "metadata": {},
     "output_type": "execute_result"
    }
   ],
   "source": [
    "d3.get(\"india\")"
   ]
  },
  {
   "cell_type": "code",
   "execution_count": 665,
   "id": "be6230e3-02ef-4be3-9b5d-8257eab1c1e9",
   "metadata": {},
   "outputs": [
    {
     "data": {
      "text/plain": [
       "True"
      ]
     },
     "execution_count": 665,
     "metadata": {},
     "output_type": "execute_result"
    }
   ],
   "source": [
    "\"india\" in d3"
   ]
  },
  {
   "cell_type": "code",
   "execution_count": 667,
   "id": "d9557d68-2d12-4d6a-a133-79c999ef2f5c",
   "metadata": {},
   "outputs": [
    {
     "data": {
      "text/plain": [
       "False"
      ]
     },
     "execution_count": 667,
     "metadata": {},
     "output_type": "execute_result"
    }
   ],
   "source": [
    "\"pakisthan\" in d3"
   ]
  },
  {
   "cell_type": "code",
   "execution_count": 669,
   "id": "4656e435-0d96-4fe4-9711-39504af353b7",
   "metadata": {},
   "outputs": [
    {
     "data": {
      "text/plain": [
       "False"
      ]
     },
     "execution_count": 669,
     "metadata": {},
     "output_type": "execute_result"
    }
   ],
   "source": [
    "\"india\" not in d3"
   ]
  },
  {
   "cell_type": "code",
   "execution_count": 671,
   "id": "156dded7-2064-45af-9129-8b997e79f45e",
   "metadata": {},
   "outputs": [
    {
     "data": {
      "text/plain": [
       "True"
      ]
     },
     "execution_count": 671,
     "metadata": {},
     "output_type": "execute_result"
    }
   ],
   "source": [
    "\"pakisthan\" not in d3"
   ]
  },
  {
   "cell_type": "code",
   "execution_count": 675,
   "id": "44e8151e-9900-45ea-8547-0057e0271887",
   "metadata": {},
   "outputs": [
    {
     "data": {
      "text/plain": [
       "dict_keys(['india', 'India', 'spain', 'italy', 'mydict'])"
      ]
     },
     "execution_count": 675,
     "metadata": {},
     "output_type": "execute_result"
    }
   ],
   "source": [
    "d3.keys()"
   ]
  },
  {
   "cell_type": "code",
   "execution_count": null,
   "id": "23a27e7a-c5e2-4de6-9c93-327238510750",
   "metadata": {},
   "outputs": [],
   "source": []
  },
  {
   "cell_type": "code",
   "execution_count": null,
   "id": "f82a9808-ab85-4d70-9b73-81069207d3ae",
   "metadata": {},
   "outputs": [],
   "source": []
  },
  {
   "cell_type": "code",
   "execution_count": null,
   "id": "0babb602-2a0f-4fde-9004-1b369fd4d1b4",
   "metadata": {},
   "outputs": [],
   "source": []
  },
  {
   "cell_type": "code",
   "execution_count": null,
   "id": "c5989d04-982b-4147-a2d1-71f71e19e505",
   "metadata": {},
   "outputs": [],
   "source": []
  },
  {
   "cell_type": "code",
   "execution_count": null,
   "id": "50ce643e-272c-4a30-bb1d-743a70bb069d",
   "metadata": {},
   "outputs": [],
   "source": []
  },
  {
   "cell_type": "code",
   "execution_count": null,
   "id": "addaa4ba-3230-4b89-870a-0f9cd9f1d916",
   "metadata": {},
   "outputs": [],
   "source": []
  },
  {
   "cell_type": "code",
   "execution_count": null,
   "id": "93170cd1-7df3-4c99-82c3-6c2a2c10d1e2",
   "metadata": {},
   "outputs": [],
   "source": []
  },
  {
   "cell_type": "code",
   "execution_count": null,
   "id": "0fec9569-a4c0-4ffa-8022-619cf27e6d3d",
   "metadata": {},
   "outputs": [],
   "source": []
  },
  {
   "cell_type": "code",
   "execution_count": null,
   "id": "7304e9b4-34fd-4737-a498-9f0a1f441984",
   "metadata": {},
   "outputs": [],
   "source": []
  },
  {
   "cell_type": "code",
   "execution_count": null,
   "id": "77215553-5451-4e67-bb4e-9badf0b428d3",
   "metadata": {},
   "outputs": [],
   "source": []
  },
  {
   "cell_type": "code",
   "execution_count": null,
   "id": "06b75bac-c4d9-490f-87c7-8758ecb518c6",
   "metadata": {},
   "outputs": [],
   "source": []
  },
  {
   "cell_type": "code",
   "execution_count": null,
   "id": "de7fee3e-3615-4dd8-893a-41f43bb526bc",
   "metadata": {},
   "outputs": [],
   "source": []
  },
  {
   "cell_type": "code",
   "execution_count": null,
   "id": "c4026004-06d4-40e6-988d-7e1ba44bdfcb",
   "metadata": {},
   "outputs": [],
   "source": []
  },
  {
   "cell_type": "code",
   "execution_count": null,
   "id": "bbb4d0e7-b639-4461-8ae0-6717fdd58375",
   "metadata": {},
   "outputs": [],
   "source": []
  },
  {
   "cell_type": "code",
   "execution_count": null,
   "id": "1c3d3ece-9b35-4964-887a-e68a89aa6fcf",
   "metadata": {},
   "outputs": [],
   "source": []
  },
  {
   "cell_type": "code",
   "execution_count": null,
   "id": "89f84d37-39d3-4369-892c-31b94715cf15",
   "metadata": {},
   "outputs": [],
   "source": []
  },
  {
   "cell_type": "code",
   "execution_count": null,
   "id": "b66c6bf6-6649-4d4c-a0fa-8e17ce25e96d",
   "metadata": {},
   "outputs": [],
   "source": []
  },
  {
   "cell_type": "code",
   "execution_count": null,
   "id": "8ae9bd1e-27b1-47a5-b41e-09bf0b5c6e38",
   "metadata": {},
   "outputs": [],
   "source": []
  },
  {
   "cell_type": "code",
   "execution_count": null,
   "id": "1323128c-c010-4cee-9493-4e84f0a117f0",
   "metadata": {},
   "outputs": [],
   "source": []
  },
  {
   "cell_type": "code",
   "execution_count": null,
   "id": "3b16a85c-7bf6-4b7f-a36e-598401c1b1fb",
   "metadata": {},
   "outputs": [],
   "source": []
  },
  {
   "cell_type": "code",
   "execution_count": null,
   "id": "970220cc-5286-4375-b98e-16252c4dbc85",
   "metadata": {},
   "outputs": [],
   "source": []
  },
  {
   "cell_type": "code",
   "execution_count": null,
   "id": "36aae79a-91bc-4608-aa59-521d6862274a",
   "metadata": {},
   "outputs": [],
   "source": []
  },
  {
   "cell_type": "code",
   "execution_count": null,
   "id": "6702a274-2b69-4c12-b5bb-625ff21f1334",
   "metadata": {},
   "outputs": [],
   "source": []
  },
  {
   "cell_type": "code",
   "execution_count": null,
   "id": "4fef9fbc-7442-4d5b-922b-d40d91262716",
   "metadata": {},
   "outputs": [],
   "source": []
  },
  {
   "cell_type": "code",
   "execution_count": null,
   "id": "567a6aa8-8453-4ab5-86b3-c197270b22d4",
   "metadata": {},
   "outputs": [],
   "source": []
  },
  {
   "cell_type": "code",
   "execution_count": null,
   "id": "d995bc54-b794-4bdf-bfb8-60e7d5ff0a51",
   "metadata": {},
   "outputs": [],
   "source": []
  },
  {
   "cell_type": "code",
   "execution_count": null,
   "id": "f45ff834-8076-43f9-b6dc-5af1c25a7173",
   "metadata": {},
   "outputs": [],
   "source": []
  },
  {
   "cell_type": "code",
   "execution_count": null,
   "id": "b181c627-351f-471d-b804-e44228c3c7a3",
   "metadata": {},
   "outputs": [],
   "source": []
  },
  {
   "cell_type": "code",
   "execution_count": null,
   "id": "a4eb4bc3-ffe8-4124-8915-2e4dcb7a3aa4",
   "metadata": {},
   "outputs": [],
   "source": []
  },
  {
   "cell_type": "code",
   "execution_count": null,
   "id": "e395dfe9-0212-4cd9-992a-a3c00652d61c",
   "metadata": {},
   "outputs": [],
   "source": []
  },
  {
   "cell_type": "code",
   "execution_count": null,
   "id": "ee5d6c0d-f322-4781-a0e4-43f164d80dd7",
   "metadata": {},
   "outputs": [],
   "source": []
  },
  {
   "cell_type": "code",
   "execution_count": null,
   "id": "9d5326a2-6e85-4567-ade8-4c6f46ba5b94",
   "metadata": {},
   "outputs": [],
   "source": []
  },
  {
   "cell_type": "code",
   "execution_count": null,
   "id": "24c3f21a-737c-4630-863d-27440912a72c",
   "metadata": {},
   "outputs": [],
   "source": []
  },
  {
   "cell_type": "code",
   "execution_count": null,
   "id": "8be33afe-ef83-4aa3-a496-384fe3275c86",
   "metadata": {},
   "outputs": [],
   "source": []
  },
  {
   "cell_type": "code",
   "execution_count": null,
   "id": "6316a0e4-3a92-45dd-9188-207a508d7be7",
   "metadata": {},
   "outputs": [],
   "source": []
  },
  {
   "cell_type": "code",
   "execution_count": null,
   "id": "c0875e21-d4ab-4eb5-9e41-578c106820c4",
   "metadata": {},
   "outputs": [],
   "source": []
  },
  {
   "cell_type": "code",
   "execution_count": null,
   "id": "726333cf-0681-421f-898c-5e2a85ee588f",
   "metadata": {},
   "outputs": [],
   "source": []
  },
  {
   "cell_type": "code",
   "execution_count": null,
   "id": "9fcce891-16f4-4364-a40c-cc17f947f21d",
   "metadata": {},
   "outputs": [],
   "source": []
  },
  {
   "cell_type": "code",
   "execution_count": null,
   "id": "01cebcb0-8d65-4a3f-9ad9-ec5210e8afb8",
   "metadata": {},
   "outputs": [],
   "source": []
  },
  {
   "cell_type": "code",
   "execution_count": null,
   "id": "a0c453b7-0e28-4f69-9020-ae3c5d65d22c",
   "metadata": {},
   "outputs": [],
   "source": []
  },
  {
   "cell_type": "code",
   "execution_count": null,
   "id": "d95e634f-6573-4b5c-b3c4-e210b3cfe770",
   "metadata": {},
   "outputs": [],
   "source": []
  },
  {
   "cell_type": "code",
   "execution_count": null,
   "id": "f4c81604-4f1a-4604-8a33-e6cb5a2ca1f6",
   "metadata": {},
   "outputs": [],
   "source": []
  },
  {
   "cell_type": "code",
   "execution_count": null,
   "id": "50854c99-5acd-46ae-b240-71bfbdc9fec3",
   "metadata": {},
   "outputs": [],
   "source": []
  },
  {
   "cell_type": "code",
   "execution_count": null,
   "id": "b301692f-f8de-481e-ad74-c1902cacdc72",
   "metadata": {},
   "outputs": [],
   "source": []
  },
  {
   "cell_type": "code",
   "execution_count": null,
   "id": "fe4c36fb-8313-4318-bbce-287003d9571b",
   "metadata": {},
   "outputs": [],
   "source": []
  },
  {
   "cell_type": "code",
   "execution_count": null,
   "id": "793fffa0-3bbf-43a8-8197-6e9d50f2278d",
   "metadata": {},
   "outputs": [],
   "source": []
  },
  {
   "cell_type": "code",
   "execution_count": null,
   "id": "16d5acef-989c-4d5a-ac2f-4bfb8e5ba622",
   "metadata": {},
   "outputs": [],
   "source": []
  },
  {
   "cell_type": "code",
   "execution_count": null,
   "id": "830bb3f7-1944-4eba-b1a5-42d423564297",
   "metadata": {},
   "outputs": [],
   "source": []
  },
  {
   "cell_type": "code",
   "execution_count": null,
   "id": "eb9eae16-02c7-4677-80f0-3e8628919488",
   "metadata": {},
   "outputs": [],
   "source": []
  },
  {
   "cell_type": "code",
   "execution_count": null,
   "id": "5679fec9-8040-4ffc-ae49-295e5bd09a28",
   "metadata": {},
   "outputs": [],
   "source": []
  },
  {
   "cell_type": "code",
   "execution_count": null,
   "id": "ad258147-c165-43d3-bcd7-d6484fffdc1b",
   "metadata": {},
   "outputs": [],
   "source": []
  },
  {
   "cell_type": "code",
   "execution_count": null,
   "id": "6b009974-4a1c-49b4-87a2-6664fd649fd9",
   "metadata": {},
   "outputs": [],
   "source": []
  },
  {
   "cell_type": "code",
   "execution_count": null,
   "id": "dd398a7c-4349-4f3a-a3d4-4c65c27719b5",
   "metadata": {},
   "outputs": [],
   "source": []
  },
  {
   "cell_type": "code",
   "execution_count": null,
   "id": "d5e876ad-7bae-4ddc-be22-179a52e2dc6f",
   "metadata": {},
   "outputs": [],
   "source": []
  },
  {
   "cell_type": "code",
   "execution_count": null,
   "id": "01d60f57-4196-4f8f-bd4d-3750a64f119c",
   "metadata": {},
   "outputs": [],
   "source": []
  },
  {
   "cell_type": "code",
   "execution_count": null,
   "id": "a0e19674-b4c5-4e5c-aec2-fde318c6c2c5",
   "metadata": {},
   "outputs": [],
   "source": []
  },
  {
   "cell_type": "code",
   "execution_count": null,
   "id": "6588081f-19cb-46a0-97d8-e9cf81214f08",
   "metadata": {},
   "outputs": [],
   "source": []
  },
  {
   "cell_type": "code",
   "execution_count": null,
   "id": "bd4135c6-839a-4631-8905-91ed4eb9b5d9",
   "metadata": {},
   "outputs": [],
   "source": []
  },
  {
   "cell_type": "code",
   "execution_count": null,
   "id": "ece0c2f2-c05b-487f-b959-bc31233c22a8",
   "metadata": {},
   "outputs": [],
   "source": []
  },
  {
   "cell_type": "code",
   "execution_count": null,
   "id": "d509b428-3e6f-4e19-afb2-bbe3e9d37d7f",
   "metadata": {},
   "outputs": [],
   "source": []
  },
  {
   "cell_type": "code",
   "execution_count": null,
   "id": "49bf8385-b37e-43dd-8498-283f15bad654",
   "metadata": {},
   "outputs": [],
   "source": []
  },
  {
   "cell_type": "code",
   "execution_count": null,
   "id": "b40c99d0-19b1-4645-8fd9-64341a379b14",
   "metadata": {},
   "outputs": [],
   "source": []
  },
  {
   "cell_type": "code",
   "execution_count": null,
   "id": "471c04d9-6985-4ec1-a0ba-dd1517e6bae1",
   "metadata": {},
   "outputs": [],
   "source": []
  },
  {
   "cell_type": "code",
   "execution_count": null,
   "id": "20ba377b-2f84-40ce-b734-44eb92d621d3",
   "metadata": {},
   "outputs": [],
   "source": []
  },
  {
   "cell_type": "code",
   "execution_count": null,
   "id": "25473a59-5051-484e-93eb-e97aed3f073f",
   "metadata": {},
   "outputs": [],
   "source": []
  },
  {
   "cell_type": "code",
   "execution_count": null,
   "id": "f923188d-39bf-42b1-af9e-f6218276967d",
   "metadata": {},
   "outputs": [],
   "source": []
  },
  {
   "cell_type": "code",
   "execution_count": null,
   "id": "0c0d9c29-cf97-4e03-9929-c64b402d44b0",
   "metadata": {},
   "outputs": [],
   "source": []
  },
  {
   "cell_type": "code",
   "execution_count": null,
   "id": "eba1bb96-0f08-4691-8798-40fae0c01d5b",
   "metadata": {},
   "outputs": [],
   "source": []
  },
  {
   "cell_type": "code",
   "execution_count": null,
   "id": "9a3ca504-b60b-4878-928d-de5aaacb9df3",
   "metadata": {},
   "outputs": [],
   "source": []
  },
  {
   "cell_type": "code",
   "execution_count": null,
   "id": "00ddf9b8-998c-4114-8b39-5f8bda3a8a31",
   "metadata": {},
   "outputs": [],
   "source": []
  },
  {
   "cell_type": "code",
   "execution_count": null,
   "id": "63e7fa89-b5ca-414b-a41c-be9df7d3eda5",
   "metadata": {},
   "outputs": [],
   "source": []
  },
  {
   "cell_type": "code",
   "execution_count": null,
   "id": "7a098393-5be6-42d7-a7a6-789fc68843ad",
   "metadata": {},
   "outputs": [],
   "source": []
  },
  {
   "cell_type": "code",
   "execution_count": null,
   "id": "f315a6ff-26fc-4c24-9f33-1f7c3fd72c89",
   "metadata": {},
   "outputs": [],
   "source": []
  },
  {
   "cell_type": "code",
   "execution_count": null,
   "id": "f0abf5b1-db4f-43e1-86bb-46f247e3ad08",
   "metadata": {},
   "outputs": [],
   "source": []
  },
  {
   "cell_type": "code",
   "execution_count": null,
   "id": "58381d8c-c3cb-4241-bf0d-c44656a528af",
   "metadata": {},
   "outputs": [],
   "source": []
  },
  {
   "cell_type": "code",
   "execution_count": null,
   "id": "a7de9c90-69d2-4b63-a421-f0e9b43774b9",
   "metadata": {},
   "outputs": [],
   "source": []
  },
  {
   "cell_type": "code",
   "execution_count": null,
   "id": "c704de38-1653-4c6c-8631-621ab6832f86",
   "metadata": {},
   "outputs": [],
   "source": []
  },
  {
   "cell_type": "code",
   "execution_count": null,
   "id": "1c90a8fd-c60b-43d5-a88c-868435adb448",
   "metadata": {},
   "outputs": [],
   "source": []
  },
  {
   "cell_type": "code",
   "execution_count": null,
   "id": "4269302f-c5c3-4a15-a5e8-ee08498ef1bf",
   "metadata": {},
   "outputs": [],
   "source": []
  },
  {
   "cell_type": "code",
   "execution_count": null,
   "id": "f406ac5e-be13-4d7c-9e39-0627db60b2a8",
   "metadata": {},
   "outputs": [],
   "source": []
  },
  {
   "cell_type": "code",
   "execution_count": null,
   "id": "d29f7a03-73b4-4ca6-8a7d-8f18aecad301",
   "metadata": {},
   "outputs": [],
   "source": []
  },
  {
   "cell_type": "code",
   "execution_count": null,
   "id": "eac1012c-dd31-4cf0-90bf-dd8d68703335",
   "metadata": {},
   "outputs": [],
   "source": []
  },
  {
   "cell_type": "code",
   "execution_count": null,
   "id": "6dd097ce-03f2-4f08-bf29-a313f4200537",
   "metadata": {},
   "outputs": [],
   "source": []
  },
  {
   "cell_type": "code",
   "execution_count": null,
   "id": "2c974541-c9e2-44b8-bc6d-9cd625162289",
   "metadata": {},
   "outputs": [],
   "source": []
  },
  {
   "cell_type": "code",
   "execution_count": null,
   "id": "b0e226d0-b813-4fb7-997b-f83d3e0d556e",
   "metadata": {},
   "outputs": [],
   "source": []
  },
  {
   "cell_type": "code",
   "execution_count": null,
   "id": "e13f6e45-56fb-4ef4-b82c-023bf57577fc",
   "metadata": {},
   "outputs": [],
   "source": []
  },
  {
   "cell_type": "code",
   "execution_count": null,
   "id": "09cc9820-3edd-4370-9601-d5a1060d7809",
   "metadata": {},
   "outputs": [],
   "source": []
  },
  {
   "cell_type": "code",
   "execution_count": null,
   "id": "82a0c6f6-6857-4f44-9843-b0d4943141c8",
   "metadata": {},
   "outputs": [],
   "source": []
  },
  {
   "cell_type": "code",
   "execution_count": null,
   "id": "04bfecb9-1312-4d21-86c5-afc788f33822",
   "metadata": {},
   "outputs": [],
   "source": []
  },
  {
   "cell_type": "code",
   "execution_count": null,
   "id": "580c751f-f6ba-42ab-8c94-f222b4de6227",
   "metadata": {},
   "outputs": [],
   "source": []
  },
  {
   "cell_type": "code",
   "execution_count": null,
   "id": "203bca08-1c93-487c-bcfa-09041b0365ef",
   "metadata": {},
   "outputs": [],
   "source": []
  },
  {
   "cell_type": "code",
   "execution_count": null,
   "id": "22bf2f2f-c96e-4982-b33f-2a75dd36beb7",
   "metadata": {},
   "outputs": [],
   "source": []
  },
  {
   "cell_type": "code",
   "execution_count": null,
   "id": "654ee946-9088-4b2d-82e0-69494f2696a2",
   "metadata": {},
   "outputs": [],
   "source": []
  },
  {
   "cell_type": "code",
   "execution_count": null,
   "id": "f2ddb4e9-9528-4d5e-8701-35607da777b4",
   "metadata": {},
   "outputs": [],
   "source": []
  },
  {
   "cell_type": "code",
   "execution_count": null,
   "id": "5312c0c7-b487-4fa3-bf29-b26c70b76270",
   "metadata": {},
   "outputs": [],
   "source": []
  },
  {
   "cell_type": "code",
   "execution_count": null,
   "id": "939eeb0a-743b-4c30-bf61-3bf449d69629",
   "metadata": {},
   "outputs": [],
   "source": []
  },
  {
   "cell_type": "code",
   "execution_count": null,
   "id": "09eb11ce-e150-48fd-ba7e-af0c17bf82a0",
   "metadata": {},
   "outputs": [],
   "source": []
  },
  {
   "cell_type": "code",
   "execution_count": null,
   "id": "6f2bf50f-075f-4569-af1c-d1d84721d4c4",
   "metadata": {},
   "outputs": [],
   "source": []
  },
  {
   "cell_type": "code",
   "execution_count": null,
   "id": "4bd1e076-acc1-4f01-914f-ae9872dd09a4",
   "metadata": {},
   "outputs": [],
   "source": []
  },
  {
   "cell_type": "code",
   "execution_count": null,
   "id": "40fa143e-f592-47ed-a7f3-f6dcc0ec9089",
   "metadata": {},
   "outputs": [],
   "source": []
  },
  {
   "cell_type": "code",
   "execution_count": null,
   "id": "29659dee-f3c4-424d-9022-bacf948ee83f",
   "metadata": {},
   "outputs": [],
   "source": []
  },
  {
   "cell_type": "code",
   "execution_count": null,
   "id": "3287b1c4-117e-499b-8e65-075498128e17",
   "metadata": {},
   "outputs": [],
   "source": []
  },
  {
   "cell_type": "code",
   "execution_count": null,
   "id": "ea3bcad8-15be-40e9-87db-e77c0cfb3ca1",
   "metadata": {},
   "outputs": [],
   "source": []
  },
  {
   "cell_type": "code",
   "execution_count": null,
   "id": "ffca5116-7fb0-412d-861b-c37f8af736e5",
   "metadata": {},
   "outputs": [],
   "source": []
  },
  {
   "cell_type": "code",
   "execution_count": null,
   "id": "7c2f90e2-2120-40a1-98b3-58408ba5f89f",
   "metadata": {},
   "outputs": [],
   "source": []
  },
  {
   "cell_type": "code",
   "execution_count": null,
   "id": "4639a626-2425-4656-ba4f-a40533f51eb8",
   "metadata": {},
   "outputs": [],
   "source": []
  },
  {
   "cell_type": "code",
   "execution_count": null,
   "id": "fe4b286b-b8de-4b94-82b2-2fbebe83646b",
   "metadata": {},
   "outputs": [],
   "source": []
  },
  {
   "cell_type": "code",
   "execution_count": null,
   "id": "221d02ef-a4d9-4cbb-b1c3-8e86556a90ec",
   "metadata": {},
   "outputs": [],
   "source": []
  },
  {
   "cell_type": "code",
   "execution_count": null,
   "id": "12dab0a9-6188-4937-9a74-9db8393e6338",
   "metadata": {},
   "outputs": [],
   "source": []
  },
  {
   "cell_type": "code",
   "execution_count": null,
   "id": "a556fcf9-0c7d-44e6-a55d-77a8f11af2bb",
   "metadata": {},
   "outputs": [],
   "source": []
  },
  {
   "cell_type": "code",
   "execution_count": null,
   "id": "c1be7fa6-7ff6-489c-9c67-cb700867917b",
   "metadata": {},
   "outputs": [],
   "source": []
  },
  {
   "cell_type": "code",
   "execution_count": null,
   "id": "517cbdc0-8710-4f23-b4f4-b73d3d01a3c8",
   "metadata": {},
   "outputs": [],
   "source": []
  },
  {
   "cell_type": "code",
   "execution_count": null,
   "id": "4b026970-9dca-4f7c-b239-6552401de10e",
   "metadata": {},
   "outputs": [],
   "source": []
  },
  {
   "cell_type": "code",
   "execution_count": null,
   "id": "9c8e37d0-de18-41f6-88ec-2f0c5e76cd7f",
   "metadata": {},
   "outputs": [],
   "source": []
  },
  {
   "cell_type": "code",
   "execution_count": null,
   "id": "2cadc67e-7533-43d9-8fa3-4c8ee09e612f",
   "metadata": {},
   "outputs": [],
   "source": []
  },
  {
   "cell_type": "code",
   "execution_count": null,
   "id": "b91f82ab-5992-4355-89e6-af241c058b33",
   "metadata": {},
   "outputs": [],
   "source": []
  },
  {
   "cell_type": "code",
   "execution_count": null,
   "id": "33f33393-a4b0-4acc-abcb-c8e71f769893",
   "metadata": {},
   "outputs": [],
   "source": []
  },
  {
   "cell_type": "code",
   "execution_count": null,
   "id": "ea9025f4-3fb4-4ef9-97f3-c71e916ac3bc",
   "metadata": {},
   "outputs": [],
   "source": []
  },
  {
   "cell_type": "code",
   "execution_count": null,
   "id": "8976d053-7a72-4e1a-88aa-e558be544592",
   "metadata": {},
   "outputs": [],
   "source": []
  },
  {
   "cell_type": "code",
   "execution_count": null,
   "id": "b2875b65-1f6c-44cd-afb6-d93c3fe86858",
   "metadata": {},
   "outputs": [],
   "source": []
  }
 ],
 "metadata": {
  "kernelspec": {
   "display_name": "Python [conda env:base] *",
   "language": "python",
   "name": "conda-base-py"
  },
  "language_info": {
   "codemirror_mode": {
    "name": "ipython",
    "version": 3
   },
   "file_extension": ".py",
   "mimetype": "text/x-python",
   "name": "python",
   "nbconvert_exporter": "python",
   "pygments_lexer": "ipython3",
   "version": "3.12.7"
  }
 },
 "nbformat": 4,
 "nbformat_minor": 5
}
